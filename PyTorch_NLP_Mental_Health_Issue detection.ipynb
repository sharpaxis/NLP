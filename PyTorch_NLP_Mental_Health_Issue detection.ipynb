{
 "cells": [
  {
   "cell_type": "code",
   "execution_count": 7,
   "id": "54e46c9e",
   "metadata": {},
   "outputs": [],
   "source": [
    "#basic imports \n",
    "import numpy as np\n",
    "import pandas as pd\n",
    "import seaborn as sns\n",
    "import matplotlib.pyplot as plt\n",
    "import torch \n",
    "import torch.nn as nn\n",
    "import torch.nn.functional as F\n",
    "import spacy\n",
    "from torch.nn.utils.rnn import pad_sequence\n",
    "from torch.utils.data import Dataset,DataLoader\n",
    "from sklearn.metrics import classification_report\n",
    "from collections import defaultdict\n",
    "import warnings\n",
    "warnings.filterwarnings('ignore')\n",
    "device = torch.device(\"mps\")"
   ]
  },
  {
   "cell_type": "code",
   "execution_count": 2,
   "id": "d7731007",
   "metadata": {},
   "outputs": [],
   "source": [
    "df = pd.read_csv('/Users/aadityajoshi/Downloads/Combined Data.csv',index_col=0)"
   ]
  },
  {
   "cell_type": "code",
   "execution_count": 3,
   "id": "52434984",
   "metadata": {},
   "outputs": [],
   "source": [
    "df['text'] = df['statement']\n",
    "df['label'] = df['status']\n",
    "df.drop(['statement','status'],axis=1,inplace=True)"
   ]
  },
  {
   "cell_type": "code",
   "execution_count": 90,
   "id": "e949f981",
   "metadata": {},
   "outputs": [
    {
     "name": "stdout",
     "output_type": "stream",
     "text": [
      "Example 2598:\n",
      "Text: accord hc say bbl pre order number pretty problem â€ 1.71 million seller 1 1st album 7 comeback 7dreamie\n",
      "Label: 0\n",
      "\n",
      "Example 23792:\n",
      "Text: create small subreddit post feeling accomplishment safe place judge support way call r sorrowness interested.all love fellow sad people\n",
      "Label: 1\n",
      "\n",
      "Example 7365:\n",
      "Text: start promise suicide note therapist suffer mental health illness year diagnose 6 year ago hate genuinely hate med boost serotonin level store buy serotonin birthday june tell end thing year provide thing well 24 achieve significant unlike parent sibling close friend connection linkedin turn 24 recently hit hard graduate university 21 internship local bank big 4 firm consulting firm startup pay internship end summer 2020 secure time pay job unlike peer pretty successful corporate world i.e. getting promote move international office london uk t\n",
      "Label: 1\n",
      "\n",
      "Example 14210:\n",
      "Text: wish people stop try help able accept want help sound cheesy situation get mad want help want help counteractive appreciate look well look make till tomorrow interfere make thing bad have responsibility have help work push deeply well annoy listen help want pull boot accept remain loose want help stop try want help\n",
      "Label: 1\n",
      "\n",
      "Example 24984:\n",
      "Text: 1 step forward step want anymore\n",
      "Label: 1\n",
      "\n"
     ]
    }
   ],
   "source": [
    "import pandas as pd\n",
    "\n",
    "def print_random_examples(df):\n",
    "    # Check if the required columns exist in the DataFrame\n",
    "    if 'text' not in df.columns or 'label' not in df.columns:\n",
    "        print(\"The DataFrame must contain 'text' and 'label' columns.\")\n",
    "        return\n",
    "    \n",
    "    # Sample 5 random rows from the DataFrame\n",
    "    examples = df[['text', 'label']].sample(5)\n",
    "    \n",
    "    # Iterate through the sampled examples and print them\n",
    "    for idx, row in examples.iterrows():\n",
    "        print(f\"Example {idx + 1}:\")\n",
    "        print(f\"Text: {row['text']}\")\n",
    "        print(f\"Label: {row['label']}\\n\")\n",
    "\n",
    "print_random_examples(df)"
   ]
  },
  {
   "cell_type": "code",
   "execution_count": 4,
   "id": "04cc8e4d",
   "metadata": {},
   "outputs": [],
   "source": [
    "df.dropna(inplace=True)\n",
    "df.drop_duplicates(inplace=True)\n",
    "blanks = []\n",
    "for i,txt,lb in df.itertuples():\n",
    "    if type(txt) == str:\n",
    "        if txt.isspace():\n",
    "            blanks.append(i)\n",
    "df.drop(blanks,inplace=True)"
   ]
  },
  {
   "cell_type": "code",
   "execution_count": 5,
   "id": "2f28fad1",
   "metadata": {},
   "outputs": [],
   "source": [
    "df['len'] = df['text'].apply(len)"
   ]
  },
  {
   "cell_type": "code",
   "execution_count": 8,
   "id": "0e2c12a0",
   "metadata": {},
   "outputs": [
    {
     "data": {
      "text/plain": [
       "<seaborn.axisgrid.FacetGrid at 0x3293ab910>"
      ]
     },
     "execution_count": 8,
     "metadata": {},
     "output_type": "execute_result"
    },
    {
     "data": {
      "image/png": "[encoded data removed]",
      "text/plain": [
       "<Figure size 500x500 with 1 Axes>"
      ]
     },
     "metadata": {},
     "output_type": "display_data"
    }
   ],
   "source": [
    "sns.displot(df['len'])"
   ]
  },
  {
   "cell_type": "code",
   "execution_count": 9,
   "id": "344b0063",
   "metadata": {},
   "outputs": [
    {
     "name": "stdout",
     "output_type": "stream",
     "text": [
      "1109.0\n"
     ]
    }
   ],
   "source": [
    "print(df['len'].quantile(0.85))"
   ]
  },
  {
   "cell_type": "code",
   "execution_count": 12,
   "id": "4e60cabc",
   "metadata": {},
   "outputs": [],
   "source": [
    "ind_list = list(df[df['len'] >= 1000].index)\n",
    "for i in ind_list:\n",
    "    df['text'].loc[i] = df['text'].loc[i][:1000]"
   ]
  },
  {
   "cell_type": "code",
   "execution_count": 14,
   "id": "c24a6b5e",
   "metadata": {},
   "outputs": [],
   "source": [
    "df.drop('len',axis=1,inplace=True)"
   ]
  },
  {
   "cell_type": "code",
   "execution_count": 18,
   "id": "1f3b3486",
   "metadata": {},
   "outputs": [],
   "source": [
    "nlp = spacy.load('en_core_web_sm')"
   ]
  },
  {
   "cell_type": "code",
   "execution_count": 19,
   "id": "9e4db00e",
   "metadata": {},
   "outputs": [],
   "source": [
    "#clean text\n",
    "def clean_lemm(text):\n",
    "    doc = nlp(text.lower())\n",
    "    clean_text = [token.lemma_ for token in doc if not token.is_punct and not token.is_stop]\n",
    "    return ' '.join(clean_text)"
   ]
  },
  {
   "cell_type": "code",
   "execution_count": 22,
   "id": "ad5566f4",
   "metadata": {},
   "outputs": [],
   "source": [
    "df['text'] = df['text'].apply(clean_lemm)"
   ]
  },
  {
   "cell_type": "code",
   "execution_count": 23,
   "id": "6b89ca5f",
   "metadata": {},
   "outputs": [],
   "source": [
    "#label\n",
    "#normal - 0\n",
    "#other - 1\n",
    "bin_label = {'Normal':0,'Depression':1,'Suicidal':1,'Anxiety':1,'Bipolar':1,'Stress':1,'Personality disorder':1}\n",
    "df['label'] = df['label'].replace(bin_label)"
   ]
  },
  {
   "cell_type": "code",
   "execution_count": 21,
   "id": "35e3ee6c",
   "metadata": {},
   "outputs": [
    {
     "data": {
      "text/plain": [
       "label\n",
       "Normal                  16040\n",
       "Depression              15094\n",
       "Suicidal                10644\n",
       "Anxiety                  3623\n",
       "Bipolar                  2501\n",
       "Stress                   2296\n",
       "Personality disorder      895\n",
       "Name: count, dtype: int64"
      ]
     },
     "execution_count": 21,
     "metadata": {},
     "output_type": "execute_result"
    }
   ],
   "source": [
    "df['label'].value_counts()"
   ]
  },
  {
   "cell_type": "code",
   "execution_count": 24,
   "id": "9515bc1c",
   "metadata": {},
   "outputs": [],
   "source": [
    "def spacy_tokenizer(text):\n",
    "    clean_text = clean_lemm(text)\n",
    "    return clean_text.split()"
   ]
  },
  {
   "cell_type": "code",
   "execution_count": 41,
   "id": "92a922a6",
   "metadata": {},
   "outputs": [],
   "source": [
    "min_freq = 3\n",
    "specials = ('<pad>','<unk>')\n",
    "token_count = defaultdict(int)\n",
    "for text in df['text']:\n",
    "    for token in spacy_tokenizer(text):\n",
    "        token_count[token] += 1\n",
    "vocab = {token:idx for idx,(token,count) in enumerate(token_count.items()) if count>= min_freq}\n",
    "for special in specials:\n",
    "    if special not in vocab:\n",
    "        vocab[special] = len(vocab)"
   ]
  },
  {
   "cell_type": "code",
   "execution_count": 42,
   "id": "a7a3baae",
   "metadata": {},
   "outputs": [
    {
     "data": {
      "text/plain": [
       "14810"
      ]
     },
     "execution_count": 42,
     "metadata": {},
     "output_type": "execute_result"
    }
   ],
   "source": [
    "vocab_size = len(vocab)\n",
    "vocab_size"
   ]
  },
  {
   "cell_type": "code",
   "execution_count": 43,
   "id": "12147c31",
   "metadata": {},
   "outputs": [],
   "source": [
    "#text and label pipeline\n",
    "text_pipeline = lambda x : [vocab.get(token,vocab['<unk>']) for token in spacy_tokenizer(x)]\n",
    "label_pipeline = lambda x : int(x)"
   ]
  },
  {
   "cell_type": "code",
   "execution_count": 48,
   "id": "de557081",
   "metadata": {},
   "outputs": [],
   "source": [
    "#dataset\n",
    "class TextDataset(Dataset):\n",
    "    def __init__(self,df,text_pipeline,label_pipeline):\n",
    "        self.texts = df['text'].tolist()\n",
    "        self.labels = df['label'].tolist()\n",
    "        self.text_pipeline = text_pipeline\n",
    "        self.label_pipeline = label_pipeline\n",
    "    def __len__(self):\n",
    "        return len(self.texts)\n",
    "    def __getitem__(self,idx):\n",
    "        text = self.texts[idx]\n",
    "        label = self.labels[idx]\n",
    "        return self.text_pipeline(text),self.label_pipeline(label)"
   ]
  },
  {
   "cell_type": "code",
   "execution_count": 49,
   "id": "24a93c53",
   "metadata": {},
   "outputs": [],
   "source": [
    "from sklearn.model_selection import train_test_split\n",
    "train_df,test_df = train_test_split(df,test_size=0.2,random_state=32)"
   ]
  },
  {
   "cell_type": "code",
   "execution_count": 50,
   "id": "39f88cb6",
   "metadata": {},
   "outputs": [],
   "source": [
    "train_dataset = TextDataset(train_df,text_pipeline,label_pipeline)\n",
    "test_dataset = TextDataset(test_df,text_pipeline,label_pipeline)"
   ]
  },
  {
   "cell_type": "code",
   "execution_count": 52,
   "id": "1017332c",
   "metadata": {},
   "outputs": [],
   "source": [
    "def pad_collate(batch):\n",
    "    text_list = []\n",
    "    label_list = []\n",
    "    for text,label in batch:\n",
    "        label_list.append(label)\n",
    "        text_list.append(torch.LongTensor(text))\n",
    "    label_list = torch.LongTensor(label_list)\n",
    "    text_list = pad_sequence(text_list,batch_first=True)\n",
    "    return text_list.to(device),label_list.to(device)\n",
    "        "
   ]
  },
  {
   "cell_type": "code",
   "execution_count": 63,
   "id": "aff5eef1",
   "metadata": {},
   "outputs": [],
   "source": [
    "train_batch_size = 64\n",
    "test_batch_size = 64\n",
    "train_loader = DataLoader(train_dataset,train_batch_size,shuffle=True,collate_fn = pad_collate)\n",
    "test_loader = DataLoader(test_dataset,test_batch_size,shuffle=False,collate_fn = pad_collate)"
   ]
  },
  {
   "cell_type": "code",
   "execution_count": 55,
   "id": "189372c8",
   "metadata": {},
   "outputs": [],
   "source": [
    "#LSTM\n",
    "class LSTM(nn.Module):\n",
    "    \n",
    "    def __init__(self,vocab_size,embedding_dim,hidden_size,out_size,num_layers,bidirectional,p=0.4):\n",
    "        super(LSTM,self).__init__()\n",
    "        self.hidden_size = hidden_size\n",
    "        self.num_layers = num_layers\n",
    "        self.num_dir = 2 if bidirectional else 1\n",
    "        self.dropout = nn.Dropout(p)\n",
    "        self.embedding = nn.Embedding(vocab_size,embedding_dim)\n",
    "        self.lstm = nn.LSTM(embedding_dim,hidden_size,num_layers=num_layers,bidirectional=bidirectional,batch_first=True)\n",
    "        self.fc = nn.Linear(self.num_dir*hidden_size,out_size)\n",
    "    def forward(self,x):\n",
    "        hidden = self.init_hidden(x.size(0))\n",
    "        embeddings = self.embedding(x)\n",
    "        lstm_out,hidden = self.lstm(embeddings,hidden)\n",
    "        lstm_out = self.dropout(lstm_out)\n",
    "        pred = self.fc(lstm_out[:,-1,:])\n",
    "        return pred\n",
    "    def init_hidden(self,batch_size):\n",
    "        hidden = (torch.zeros(self.num_dir*self.num_layers,batch_size,self.hidden_size).to(device),\n",
    "                 torch.zeros(self.num_dir*self.num_layers,batch_size,self.hidden_size).to(device))\n",
    "        return hidden"
   ]
  },
  {
   "cell_type": "code",
   "execution_count": 64,
   "id": "f2d5d416",
   "metadata": {},
   "outputs": [],
   "source": [
    "lstm = LSTM(vocab_size,embedding_dim=32,hidden_size=16,out_size=2,num_layers=2,bidirectional=False).to(device)"
   ]
  },
  {
   "cell_type": "code",
   "execution_count": 65,
   "id": "9332c9fc",
   "metadata": {},
   "outputs": [
    {
     "data": {
      "text/plain": [
       "LSTM(\n",
       "  (dropout): Dropout(p=0.4, inplace=False)\n",
       "  (embedding): Embedding(14810, 32)\n",
       "  (lstm): LSTM(32, 16, num_layers=2, batch_first=True)\n",
       "  (fc): Linear(in_features=16, out_features=2, bias=True)\n",
       ")"
      ]
     },
     "execution_count": 65,
     "metadata": {},
     "output_type": "execute_result"
    }
   ],
   "source": [
    "lstm"
   ]
  },
  {
   "cell_type": "code",
   "execution_count": 66,
   "id": "8cb8824c",
   "metadata": {},
   "outputs": [],
   "source": [
    "num_epochs = 5\n",
    "optimizer = torch.optim.Adam(lstm.parameters(),lr=0.005)\n",
    "criterion = nn.CrossEntropyLoss()"
   ]
  },
  {
   "cell_type": "code",
   "execution_count": 67,
   "id": "d41e0b6a",
   "metadata": {},
   "outputs": [
    {
     "name": "stderr",
     "output_type": "stream",
     "text": [
      "Epoch 1/5: 100%|█████████████████| 639/639 [03:49<00:00,  2.78it/s, loss=0.1140]\n"
     ]
    },
    {
     "name": "stdout",
     "output_type": "stream",
     "text": [
      "Epoch 1/5, Average Loss: 0.3336\n"
     ]
    },
    {
     "name": "stderr",
     "output_type": "stream",
     "text": [
      "Epoch 2/5: 100%|█████████████████| 639/639 [03:48<00:00,  2.80it/s, loss=0.1356]\n"
     ]
    },
    {
     "name": "stdout",
     "output_type": "stream",
     "text": [
      "Epoch 2/5, Average Loss: 0.1665\n"
     ]
    },
    {
     "name": "stderr",
     "output_type": "stream",
     "text": [
      "Epoch 3/5: 100%|█████████████████| 639/639 [03:46<00:00,  2.82it/s, loss=0.1004]\n"
     ]
    },
    {
     "name": "stdout",
     "output_type": "stream",
     "text": [
      "Epoch 3/5, Average Loss: 0.1332\n"
     ]
    },
    {
     "name": "stderr",
     "output_type": "stream",
     "text": [
      "Epoch 4/5: 100%|█████████████████| 639/639 [03:44<00:00,  2.85it/s, loss=0.1068]\n"
     ]
    },
    {
     "name": "stdout",
     "output_type": "stream",
     "text": [
      "Epoch 4/5, Average Loss: 0.1108\n"
     ]
    },
    {
     "name": "stderr",
     "output_type": "stream",
     "text": [
      "Epoch 5/5: 100%|█████████████████| 639/639 [03:45<00:00,  2.83it/s, loss=0.1592]"
     ]
    },
    {
     "name": "stdout",
     "output_type": "stream",
     "text": [
      "Epoch 5/5, Average Loss: 0.0923\n",
      "Total training time: 18.90 minutes\n"
     ]
    },
    {
     "name": "stderr",
     "output_type": "stream",
     "text": [
      "\n"
     ]
    }
   ],
   "source": [
    "import time\n",
    "from tqdm import tqdm\n",
    "\n",
    "start = time.time()\n",
    "for epoch in range(num_epochs):\n",
    "    lstm.train()\n",
    "    # Wrap your train_loader with tqdm\n",
    "    pbar = tqdm(train_loader, desc=f\"Epoch {epoch+1}/{num_epochs}\")\n",
    "    total_loss = 0\n",
    "    for text, label in pbar:\n",
    "        optimizer.zero_grad()\n",
    "        y_pred = lstm(text)\n",
    "        loss = criterion(y_pred, label)\n",
    "        loss.backward()\n",
    "        optimizer.step()\n",
    "        \n",
    "        # Update total loss and progress bar\n",
    "        total_loss += loss.item()\n",
    "        pbar.set_postfix({'loss': f'{loss.item():.4f}'})\n",
    "    \n",
    "    # Calculate and print average loss for the epoch\n",
    "    avg_loss = total_loss / len(train_loader)\n",
    "    print(f\"Epoch {epoch+1}/{num_epochs}, Average Loss: {avg_loss:.4f}\")\n",
    "\n",
    "print(f\"Total training time: {(time.time() - start) / 60:.2f} minutes\")"
   ]
  },
  {
   "cell_type": "code",
   "execution_count": 68,
   "id": "72810d65",
   "metadata": {},
   "outputs": [
    {
     "name": "stdout",
     "output_type": "stream",
     "text": [
      "              precision    recall  f1-score   support\n",
      "\n",
      "           0       0.91      0.89      0.90      3235\n",
      "           1       0.95      0.96      0.95      6984\n",
      "\n",
      "    accuracy                           0.94     10219\n",
      "   macro avg       0.93      0.93      0.93     10219\n",
      "weighted avg       0.94      0.94      0.94     10219\n",
      "\n"
     ]
    }
   ],
   "source": [
    "all_preds = []\n",
    "all_labels = []\n",
    "\n",
    "lstm.eval()\n",
    "with torch.no_grad():\n",
    "    for text, label in test_loader:\n",
    "        pred = lstm(text)\n",
    "        pred = torch.argmax(pred, dim=1)\n",
    "        \n",
    "        # Collect predictions and labels\n",
    "        all_preds.extend(pred.cpu().numpy())\n",
    "        all_labels.extend(label.cpu().numpy())\n",
    "\n",
    "# Now, use classification_report with the collected predictions and labels\n",
    "print(classification_report(all_labels, all_preds))"
   ]
  },
  {
   "cell_type": "markdown",
   "id": "33a6cad8",
   "metadata": {},
   "source": [
    "### BILSTM"
   ]
  },
  {
   "cell_type": "code",
   "execution_count": 69,
   "id": "14903339",
   "metadata": {},
   "outputs": [],
   "source": [
    "#BILSTM\n",
    "class BILSTM(nn.Module):\n",
    "    \n",
    "    def __init__(self,vocab_size,embedding_dim,hidden_size,out_size,num_layers,bidirectional=True,p=0.4):\n",
    "        super(BILSTM,self).__init__()\n",
    "        self.hidden_size = hidden_size\n",
    "        self.num_layers = num_layers\n",
    "        self.num_dir = 2 if bidirectional else 1\n",
    "        self.dropout = nn.Dropout(p)\n",
    "        self.embedding = nn.Embedding(vocab_size,embedding_dim)\n",
    "        self.lstm = nn.LSTM(embedding_dim,hidden_size,num_layers=num_layers,bidirectional=bidirectional,batch_first=True)\n",
    "        self.fc = nn.Linear(self.num_dir*hidden_size,out_size)\n",
    "    def forward(self,x):\n",
    "        hidden = self.init_hidden(x.size(0))\n",
    "        embeddings = self.embedding(x)\n",
    "        lstm_out,hidden = self.lstm(embeddings,hidden)\n",
    "        lstm_out = self.dropout(lstm_out)\n",
    "        pred = self.fc(lstm_out[:,-1,:])\n",
    "        return pred\n",
    "    def init_hidden(self,batch_size):\n",
    "        hidden = (torch.zeros(self.num_dir*self.num_layers,batch_size,self.hidden_size).to(device),\n",
    "                 torch.zeros(self.num_dir*self.num_layers,batch_size,self.hidden_size).to(device))\n",
    "        return hidden"
   ]
  },
  {
   "cell_type": "code",
   "execution_count": 76,
   "id": "dd707c81",
   "metadata": {},
   "outputs": [],
   "source": [
    "bi_lstm = BILSTM(vocab_size,embedding_dim=64,hidden_size=16,out_size=2,num_layers=2,bidirectional=True).to(device)"
   ]
  },
  {
   "cell_type": "code",
   "execution_count": 77,
   "id": "7eaeb4ea",
   "metadata": {},
   "outputs": [
    {
     "name": "stderr",
     "output_type": "stream",
     "text": [
      "Epoch 1/5: 100%|█████████████████| 639/639 [03:51<00:00,  2.76it/s, loss=0.1199]\n"
     ]
    },
    {
     "name": "stdout",
     "output_type": "stream",
     "text": [
      "Epoch 1/5, Average Loss: 0.3298\n"
     ]
    },
    {
     "name": "stderr",
     "output_type": "stream",
     "text": [
      "Epoch 2/5: 100%|█████████████████| 639/639 [03:50<00:00,  2.77it/s, loss=0.0971]\n"
     ]
    },
    {
     "name": "stdout",
     "output_type": "stream",
     "text": [
      "Epoch 2/5, Average Loss: 0.1646\n"
     ]
    },
    {
     "name": "stderr",
     "output_type": "stream",
     "text": [
      "Epoch 3/5: 100%|█████████████████| 639/639 [03:50<00:00,  2.77it/s, loss=0.0627]\n"
     ]
    },
    {
     "name": "stdout",
     "output_type": "stream",
     "text": [
      "Epoch 3/5, Average Loss: 0.1272\n"
     ]
    },
    {
     "name": "stderr",
     "output_type": "stream",
     "text": [
      "Epoch 4/5: 100%|█████████████████| 639/639 [03:48<00:00,  2.79it/s, loss=0.0601]\n"
     ]
    },
    {
     "name": "stdout",
     "output_type": "stream",
     "text": [
      "Epoch 4/5, Average Loss: 0.1024\n"
     ]
    },
    {
     "name": "stderr",
     "output_type": "stream",
     "text": [
      "Epoch 5/5: 100%|█████████████████| 639/639 [03:49<00:00,  2.79it/s, loss=0.0898]"
     ]
    },
    {
     "name": "stdout",
     "output_type": "stream",
     "text": [
      "Epoch 5/5, Average Loss: 0.0841\n",
      "Total training time: 19.18 minutes\n"
     ]
    },
    {
     "name": "stderr",
     "output_type": "stream",
     "text": [
      "\n"
     ]
    }
   ],
   "source": [
    "num_epochs = 5\n",
    "optimizer = torch.optim.Adam(bi_lstm.parameters(),lr=0.005)\n",
    "criterion = nn.CrossEntropyLoss()\n",
    "\n",
    "start = time.time()\n",
    "for epoch in range(num_epochs):\n",
    "    bi_lstm.train()\n",
    "    # Wrap your train_loader with tqdm\n",
    "    pbar = tqdm(train_loader, desc=f\"Epoch {epoch+1}/{num_epochs}\")\n",
    "    total_loss = 0\n",
    "    for text, label in pbar:\n",
    "        optimizer.zero_grad()\n",
    "        y_pred = bi_lstm(text)\n",
    "        loss = criterion(y_pred, label)\n",
    "        loss.backward()\n",
    "        optimizer.step()\n",
    "        \n",
    "        # Update total loss and progress bar\n",
    "        total_loss += loss.item()\n",
    "        pbar.set_postfix({'loss': f'{loss.item():.4f}'})\n",
    "    \n",
    "    # Calculate and print average loss for the epoch\n",
    "    avg_loss = total_loss / len(train_loader)\n",
    "    print(f\"Epoch {epoch+1}/{num_epochs}, Average Loss: {avg_loss:.4f}\")\n",
    "\n",
    "print(f\"Total training time: {(time.time() - start) / 60:.2f} minutes\")"
   ]
  },
  {
   "cell_type": "code",
   "execution_count": 78,
   "id": "0b9b10db",
   "metadata": {},
   "outputs": [
    {
     "name": "stdout",
     "output_type": "stream",
     "text": [
      "              precision    recall  f1-score   support\n",
      "\n",
      "           0       0.90      0.90      0.90      3235\n",
      "           1       0.95      0.95      0.95      6984\n",
      "\n",
      "    accuracy                           0.94     10219\n",
      "   macro avg       0.93      0.93      0.93     10219\n",
      "weighted avg       0.94      0.94      0.94     10219\n",
      "\n"
     ]
    }
   ],
   "source": [
    "all_preds = []\n",
    "all_labels = []\n",
    "\n",
    "bi_lstm.eval()\n",
    "with torch.no_grad():\n",
    "    for text, label in test_loader:\n",
    "        pred = bi_lstm(text)\n",
    "        pred = torch.argmax(pred, dim=1)\n",
    "        \n",
    "        # Collect predictions and labels\n",
    "        all_preds.extend(pred.cpu().numpy())\n",
    "        all_labels.extend(label.cpu().numpy())\n",
    "\n",
    "# Now, use classification_report with the collected predictions and labels\n",
    "print(classification_report(all_labels, all_preds))"
   ]
  },
  {
   "cell_type": "markdown",
   "id": "bee231c1",
   "metadata": {},
   "source": [
    "### GRU"
   ]
  },
  {
   "cell_type": "code",
   "execution_count": 81,
   "id": "13931c8b",
   "metadata": {},
   "outputs": [],
   "source": [
    "class GRU(nn.Module):\n",
    "    \n",
    "    def __init__(self,vocab_size,embedding_dim,hidden_size,out_size,num_layers,bidirectional,p=0.4):\n",
    "        super(GRU,self).__init__()\n",
    "        self.hidden_size = hidden_size\n",
    "        self.num_layers = num_layers\n",
    "        self.num_dir = 2 if bidirectional else 1\n",
    "        self.dropout = nn.Dropout(p)\n",
    "        self.embedding = nn.Embedding(vocab_size,embedding_dim)\n",
    "        self.gru = nn.GRU(embedding_dim,hidden_size,num_layers=num_layers,bidirectional=bidirectional,batch_first=True)\n",
    "        self.fc = nn.Linear(self.num_dir*hidden_size,out_size)\n",
    "    def forward(self,x):\n",
    "        hidden = self.init_hidden(x.size(0))\n",
    "        embeddings = self.embedding(x)\n",
    "        gru_out,hidden = self.gru(embeddings,hidden)\n",
    "        gru_out = self.dropout(gru_out)\n",
    "        pred = self.fc(gru_out[:,-1,:])\n",
    "        return pred\n",
    "    def init_hidden(self,batch_size):\n",
    "        hidden = (torch.zeros(self.num_dir*self.num_layers,batch_size,self.hidden_size).to(device))\n",
    "        return hidden"
   ]
  },
  {
   "cell_type": "code",
   "execution_count": 82,
   "id": "32902e89",
   "metadata": {},
   "outputs": [],
   "source": [
    "gru = GRU(vocab_size,embedding_dim=64,hidden_size=16,out_size=2,num_layers=2,bidirectional=False).to(device)"
   ]
  },
  {
   "cell_type": "code",
   "execution_count": 83,
   "id": "d927a0f9",
   "metadata": {},
   "outputs": [
    {
     "name": "stderr",
     "output_type": "stream",
     "text": [
      "Epoch 1/5: 100%|█████████████████| 639/639 [04:47<00:00,  2.22it/s, loss=0.3129]\n"
     ]
    },
    {
     "name": "stdout",
     "output_type": "stream",
     "text": [
      "Epoch 1/5, Average Loss: 0.2527\n"
     ]
    },
    {
     "name": "stderr",
     "output_type": "stream",
     "text": [
      "Epoch 2/5: 100%|█████████████████| 639/639 [04:47<00:00,  2.22it/s, loss=0.0811]\n"
     ]
    },
    {
     "name": "stdout",
     "output_type": "stream",
     "text": [
      "Epoch 2/5, Average Loss: 0.1470\n"
     ]
    },
    {
     "name": "stderr",
     "output_type": "stream",
     "text": [
      "Epoch 3/5: 100%|█████████████████| 639/639 [04:47<00:00,  2.22it/s, loss=0.0282]\n"
     ]
    },
    {
     "name": "stdout",
     "output_type": "stream",
     "text": [
      "Epoch 3/5, Average Loss: 0.1123\n"
     ]
    },
    {
     "name": "stderr",
     "output_type": "stream",
     "text": [
      "Epoch 4/5: 100%|█████████████████| 639/639 [04:48<00:00,  2.21it/s, loss=0.3059]\n"
     ]
    },
    {
     "name": "stdout",
     "output_type": "stream",
     "text": [
      "Epoch 4/5, Average Loss: 0.0899\n"
     ]
    },
    {
     "name": "stderr",
     "output_type": "stream",
     "text": [
      "Epoch 5/5: 100%|█████████████████| 639/639 [04:46<00:00,  2.23it/s, loss=0.0069]"
     ]
    },
    {
     "name": "stdout",
     "output_type": "stream",
     "text": [
      "Epoch 5/5, Average Loss: 0.0706\n",
      "Total training time: 23.97 minutes\n"
     ]
    },
    {
     "name": "stderr",
     "output_type": "stream",
     "text": [
      "\n"
     ]
    }
   ],
   "source": [
    "num_epochs = 5\n",
    "optimizer = torch.optim.Adam(gru.parameters(),lr=0.005)\n",
    "criterion = nn.CrossEntropyLoss()\n",
    "\n",
    "start = time.time()\n",
    "for epoch in range(num_epochs):\n",
    "    gru.train()\n",
    "    # Wrap your train_loader with tqdm\n",
    "    pbar = tqdm(train_loader, desc=f\"Epoch {epoch+1}/{num_epochs}\")\n",
    "    total_loss = 0\n",
    "    for text, label in pbar:\n",
    "        optimizer.zero_grad()\n",
    "        y_pred = gru(text)\n",
    "        loss = criterion(y_pred, label)\n",
    "        loss.backward()\n",
    "        optimizer.step()\n",
    "        \n",
    "        # Update total loss and progress bar\n",
    "        total_loss += loss.item()\n",
    "        pbar.set_postfix({'loss': f'{loss.item():.4f}'})\n",
    "    \n",
    "    # Calculate and print average loss for the epoch\n",
    "    avg_loss = total_loss / len(train_loader)\n",
    "    print(f\"Epoch {epoch+1}/{num_epochs}, Average Loss: {avg_loss:.4f}\")\n",
    "\n",
    "print(f\"Total training time: {(time.time() - start) / 60:.2f} minutes\")"
   ]
  },
  {
   "cell_type": "code",
   "execution_count": 84,
   "id": "406e570c",
   "metadata": {},
   "outputs": [
    {
     "name": "stdout",
     "output_type": "stream",
     "text": [
      "              precision    recall  f1-score   support\n",
      "\n",
      "           0       0.91      0.89      0.90      3235\n",
      "           1       0.95      0.96      0.95      6984\n",
      "\n",
      "    accuracy                           0.94     10219\n",
      "   macro avg       0.93      0.92      0.93     10219\n",
      "weighted avg       0.94      0.94      0.94     10219\n",
      "\n"
     ]
    }
   ],
   "source": [
    "all_preds = []\n",
    "all_labels = []\n",
    "\n",
    "gru.eval()\n",
    "with torch.no_grad():\n",
    "    for text, label in test_loader:\n",
    "        pred = gru(text)\n",
    "        pred = torch.argmax(pred, dim=1)\n",
    "        \n",
    "        # Collect predictions and labels\n",
    "        all_preds.extend(pred.cpu().numpy())\n",
    "        all_labels.extend(label.cpu().numpy())\n",
    "\n",
    "# Now, use classification_report with the collected predictions and labels\n",
    "print(classification_report(all_labels, all_preds))"
   ]
  },
  {
   "cell_type": "code",
   "execution_count": 85,
   "id": "e661d9a5",
   "metadata": {},
   "outputs": [],
   "source": [
    "class BIGRU(nn.Module):\n",
    "    \n",
    "    def __init__(self,vocab_size,embedding_dim,hidden_size,out_size,num_layers,bidirectional,p=0.4):\n",
    "        super(BIGRU,self).__init__()\n",
    "        self.hidden_size = hidden_size\n",
    "        self.num_layers = num_layers\n",
    "        self.num_dir = 2 if bidirectional else 1\n",
    "        self.dropout = nn.Dropout(p)\n",
    "        self.embedding = nn.Embedding(vocab_size,embedding_dim)\n",
    "        self.gru = nn.GRU(embedding_dim,hidden_size,num_layers=num_layers,bidirectional=bidirectional,batch_first=True)\n",
    "        self.fc = nn.Linear(self.num_dir*hidden_size,out_size)\n",
    "    def forward(self,x):\n",
    "        hidden = self.init_hidden(x.size(0))\n",
    "        embeddings = self.embedding(x)\n",
    "        gru_out,hidden = self.gru(embeddings,hidden)\n",
    "        gru_out = self.dropout(gru_out)\n",
    "        pred = self.fc(gru_out[:,-1,:])\n",
    "        return pred\n",
    "    def init_hidden(self,batch_size):\n",
    "        hidden = (torch.zeros(self.num_dir*self.num_layers,batch_size,self.hidden_size).to(device))\n",
    "        return hidden"
   ]
  },
  {
   "cell_type": "code",
   "execution_count": 86,
   "id": "c52a8dda",
   "metadata": {},
   "outputs": [],
   "source": [
    "bigru = BIGRU(vocab_size,embedding_dim=64,hidden_size=16,out_size=2,num_layers=2,bidirectional=True).to(device)"
   ]
  },
  {
   "cell_type": "code",
   "execution_count": 87,
   "id": "ec0fb1b7",
   "metadata": {},
   "outputs": [
    {
     "name": "stderr",
     "output_type": "stream",
     "text": [
      "Epoch 1/5: 100%|█████████████████| 639/639 [06:03<00:00,  1.76it/s, loss=0.1921]\n"
     ]
    },
    {
     "name": "stdout",
     "output_type": "stream",
     "text": [
      "Epoch 1/5, Average Loss: 0.2419\n"
     ]
    },
    {
     "name": "stderr",
     "output_type": "stream",
     "text": [
      "Epoch 2/5: 100%|█████████████████| 639/639 [06:06<00:00,  1.74it/s, loss=0.2623]\n"
     ]
    },
    {
     "name": "stdout",
     "output_type": "stream",
     "text": [
      "Epoch 2/5, Average Loss: 0.1418\n"
     ]
    },
    {
     "name": "stderr",
     "output_type": "stream",
     "text": [
      "Epoch 3/5: 100%|█████████████████| 639/639 [06:04<00:00,  1.75it/s, loss=0.0300]\n"
     ]
    },
    {
     "name": "stdout",
     "output_type": "stream",
     "text": [
      "Epoch 3/5, Average Loss: 0.1044\n"
     ]
    },
    {
     "name": "stderr",
     "output_type": "stream",
     "text": [
      "Epoch 4/5: 100%|█████████████████| 639/639 [06:03<00:00,  1.76it/s, loss=0.1334]\n"
     ]
    },
    {
     "name": "stdout",
     "output_type": "stream",
     "text": [
      "Epoch 4/5, Average Loss: 0.0790\n"
     ]
    },
    {
     "name": "stderr",
     "output_type": "stream",
     "text": [
      "Epoch 5/5: 100%|█████████████████| 639/639 [06:04<00:00,  1.75it/s, loss=0.1285]"
     ]
    },
    {
     "name": "stdout",
     "output_type": "stream",
     "text": [
      "Epoch 5/5, Average Loss: 0.0587\n",
      "Total training time: 30.38 minutes\n"
     ]
    },
    {
     "name": "stderr",
     "output_type": "stream",
     "text": [
      "\n"
     ]
    }
   ],
   "source": [
    "num_epochs = 5\n",
    "optimizer = torch.optim.Adam(bigru.parameters(),lr=0.005)\n",
    "criterion = nn.CrossEntropyLoss()\n",
    "\n",
    "start = time.time()\n",
    "for epoch in range(num_epochs):\n",
    "    bigru.train()\n",
    "    # Wrap your train_loader with tqdm\n",
    "    pbar = tqdm(train_loader, desc=f\"Epoch {epoch+1}/{num_epochs}\")\n",
    "    total_loss = 0\n",
    "    for text, label in pbar:\n",
    "        optimizer.zero_grad()\n",
    "        y_pred = bigru(text)\n",
    "        loss = criterion(y_pred, label)\n",
    "        loss.backward()\n",
    "        optimizer.step()\n",
    "        \n",
    "        # Update total loss and progress bar\n",
    "        total_loss += loss.item()\n",
    "        pbar.set_postfix({'loss': f'{loss.item():.4f}'})\n",
    "    \n",
    "    # Calculate and print average loss for the epoch\n",
    "    avg_loss = total_loss / len(train_loader)\n",
    "    print(f\"Epoch {epoch+1}/{num_epochs}, Average Loss: {avg_loss:.4f}\")\n",
    "\n",
    "print(f\"Total training time: {(time.time() - start) / 60:.2f} minutes\")"
   ]
  },
  {
   "cell_type": "code",
   "execution_count": 88,
   "id": "03db1753",
   "metadata": {},
   "outputs": [
    {
     "name": "stdout",
     "output_type": "stream",
     "text": [
      "              precision    recall  f1-score   support\n",
      "\n",
      "           0       0.90      0.89      0.89      3235\n",
      "           1       0.95      0.95      0.95      6984\n",
      "\n",
      "    accuracy                           0.93     10219\n",
      "   macro avg       0.92      0.92      0.92     10219\n",
      "weighted avg       0.93      0.93      0.93     10219\n",
      "\n"
     ]
    }
   ],
   "source": [
    "all_preds = []\n",
    "all_labels = []\n",
    "\n",
    "bigru.eval()\n",
    "with torch.no_grad():\n",
    "    for text, label in test_loader:\n",
    "        pred = bigru(text)\n",
    "        pred = torch.argmax(pred, dim=1)\n",
    "        \n",
    "        # Collect predictions and labels\n",
    "        all_preds.extend(pred.cpu().numpy())\n",
    "        all_labels.extend(label.cpu().numpy())\n",
    "\n",
    "# Now, use classification_report with the collected predictions and labels\n",
    "print(classification_report(all_labels, all_preds))"
   ]
  },
  {
   "cell_type": "code",
   "execution_count": null,
   "id": "7a485ea1",
   "metadata": {},
   "outputs": [],
   "source": []
  }
 ],
 "metadata": {
  "kernelspec": {
   "display_name": "Python 3 (ipykernel)",
   "language": "python",
   "name": "python3"
  },
  "language_info": {
   "codemirror_mode": {
    "name": "ipython",
    "version": 3
   },
   "file_extension": ".py",
   "mimetype": "text/x-python",
   "name": "python",
   "nbconvert_exporter": "python",
   "pygments_lexer": "ipython3",
   "version": "3.11.5"
  }
 },
 "nbformat": 4,
 "nbformat_minor": 5
}
