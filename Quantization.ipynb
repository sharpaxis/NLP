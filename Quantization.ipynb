{
 "cells": [
  {
   "cell_type": "code",
   "execution_count": 1,
   "id": "dd828dfd",
   "metadata": {},
   "outputs": [],
   "source": [
    "import torch\n",
    "#custom quantization function for matrix\n",
    "#converting into int8"
   ]
  },
  {
   "cell_type": "code",
   "execution_count": 2,
   "id": "f0704a9a",
   "metadata": {},
   "outputs": [
    {
     "data": {
      "text/plain": [
       "iinfo(min=-128, max=127, dtype=int8)"
      ]
     },
     "execution_count": 2,
     "metadata": {},
     "output_type": "execute_result"
    }
   ],
   "source": [
    "torch.iinfo(torch.int8)"
   ]
  },
  {
   "cell_type": "code",
   "execution_count": 3,
   "id": "945c24a0",
   "metadata": {},
   "outputs": [],
   "source": [
    "int8_min = -128\n",
    "int8_max = 127"
   ]
  },
  {
   "cell_type": "code",
   "execution_count": 131,
   "id": "386c76c7",
   "metadata": {},
   "outputs": [],
   "source": [
    "def quantize_func(matrix):\n",
    "    mat_max = float(matrix.max())\n",
    "    mat_min = float(matrix.min())\n",
    "    print(f\"old max : {int(mat_max)}\")\n",
    "    print(f\"old min : {int(mat_min)}\")\n",
    "    #calculate s scale\n",
    "    s = (mat_max-mat_min)/(int8_max-int8_min)\n",
    "    if s == 0:\n",
    "        s += 1e-9\n",
    "    #calc zero scale\n",
    "    z = int(round(int8_min - mat_min/(s)))\n",
    "    matrix = (matrix/s +z).to(torch.int8)\n",
    "    print(f\"new max : {int(matrix.max())}\")\n",
    "    print(f\"new min : {int(matrix.min())}\")\n",
    "    return matrix"
   ]
  },
  {
   "cell_type": "code",
   "execution_count": 105,
   "id": "d0d354ca",
   "metadata": {},
   "outputs": [],
   "source": [
    "mat = torch.randn(size=(3,3))\n",
    "mat = torch.randint(low=-200,high=200,size=(3,3),dtype=torch.float32) + mat"
   ]
  },
  {
   "cell_type": "code",
   "execution_count": 106,
   "id": "4edbecd5",
   "metadata": {},
   "outputs": [
    {
     "data": {
      "text/plain": [
       "torch.float32"
      ]
     },
     "execution_count": 106,
     "metadata": {},
     "output_type": "execute_result"
    }
   ],
   "source": [
    "mat.dtype"
   ]
  },
  {
   "cell_type": "code",
   "execution_count": 107,
   "id": "288d6b6b",
   "metadata": {},
   "outputs": [
    {
     "data": {
      "text/plain": [
       "tensor(189.0814)"
      ]
     },
     "execution_count": 107,
     "metadata": {},
     "output_type": "execute_result"
    }
   ],
   "source": [
    "mat.max()"
   ]
  },
  {
   "cell_type": "code",
   "execution_count": 108,
   "id": "1805a48d",
   "metadata": {},
   "outputs": [],
   "source": [
    "max_mat = mat.max()"
   ]
  },
  {
   "cell_type": "code",
   "execution_count": 109,
   "id": "168d6ce9",
   "metadata": {},
   "outputs": [
    {
     "data": {
      "text/plain": [
       "189.0813751220703"
      ]
     },
     "execution_count": 109,
     "metadata": {},
     "output_type": "execute_result"
    }
   ],
   "source": [
    "float(max_mat)"
   ]
  },
  {
   "cell_type": "code",
   "execution_count": 110,
   "id": "2a693b94",
   "metadata": {},
   "outputs": [],
   "source": [
    "mat_max = float(mat.max())\n",
    "mat_min = float(mat.min())\n",
    "s = (mat_max-mat_min)/(int8_max-int8_min)"
   ]
  },
  {
   "cell_type": "code",
   "execution_count": 111,
   "id": "0a811fe6",
   "metadata": {},
   "outputs": [
    {
     "data": {
      "text/plain": [
       "1.1140258190678616"
      ]
     },
     "execution_count": 111,
     "metadata": {},
     "output_type": "execute_result"
    }
   ],
   "source": [
    "s"
   ]
  },
  {
   "cell_type": "code",
   "execution_count": 112,
   "id": "3d0ab113",
   "metadata": {},
   "outputs": [],
   "source": [
    "z = int8_min - round((mat_min)/s)"
   ]
  },
  {
   "cell_type": "code",
   "execution_count": 113,
   "id": "1963d5fe",
   "metadata": {},
   "outputs": [
    {
     "data": {
      "text/plain": [
       "-43"
      ]
     },
     "execution_count": 113,
     "metadata": {},
     "output_type": "execute_result"
    }
   ],
   "source": [
    "z"
   ]
  },
  {
   "cell_type": "code",
   "execution_count": 123,
   "id": "ca1c863e",
   "metadata": {},
   "outputs": [],
   "source": [
    "z = round(int8_min - (mat_min)/s)"
   ]
  },
  {
   "cell_type": "code",
   "execution_count": 124,
   "id": "914a2de6",
   "metadata": {},
   "outputs": [
    {
     "data": {
      "text/plain": [
       "-43"
      ]
     },
     "execution_count": 124,
     "metadata": {},
     "output_type": "execute_result"
    }
   ],
   "source": [
    "z"
   ]
  },
  {
   "cell_type": "code",
   "execution_count": 135,
   "id": "9da75cc8",
   "metadata": {},
   "outputs": [],
   "source": [
    "q_mat = ((mat/s)+z).to(torch.int8)"
   ]
  },
  {
   "cell_type": "code",
   "execution_count": 136,
   "id": "694b9e4b",
   "metadata": {},
   "outputs": [
    {
     "data": {
      "text/plain": [
       "tensor([[ 126, -128,   61],\n",
       "        [-108,   31,  -56],\n",
       "        [-104,  -32,   90]], dtype=torch.int8)"
      ]
     },
     "execution_count": 136,
     "metadata": {},
     "output_type": "execute_result"
    }
   ],
   "source": [
    "q_mat"
   ]
  },
  {
   "cell_type": "code",
   "execution_count": 137,
   "id": "dbe8cdc8",
   "metadata": {},
   "outputs": [
    {
     "data": {
      "text/plain": [
       "tensor([[189.0814, -94.9952, 116.9630],\n",
       "        [-72.9081,  82.6603, -15.5534],\n",
       "        [-68.8096,  11.4384, 148.5298]])"
      ]
     },
     "execution_count": 137,
     "metadata": {},
     "output_type": "execute_result"
    }
   ],
   "source": [
    "mat"
   ]
  },
  {
   "cell_type": "code",
   "execution_count": 138,
   "id": "e19d4ec0",
   "metadata": {},
   "outputs": [],
   "source": [
    "deq_mat = s * (q_mat - z)"
   ]
  },
  {
   "cell_type": "code",
   "execution_count": 139,
   "id": "1f8a20b5",
   "metadata": {},
   "outputs": [
    {
     "data": {
      "text/plain": [
       "tensor([[ -96.9202,  -94.6922,  115.8587],\n",
       "        [ -72.4117,   82.4379,  -14.4823],\n",
       "        [ -67.9556,   12.2543, -137.0252]])"
      ]
     },
     "execution_count": 139,
     "metadata": {},
     "output_type": "execute_result"
    }
   ],
   "source": [
    "deq_mat"
   ]
  },
  {
   "cell_type": "code",
   "execution_count": 140,
   "id": "bb7e42fd",
   "metadata": {},
   "outputs": [
    {
     "data": {
      "text/plain": [
       "tensor([[ 2.8600e+02, -3.0302e-01,  1.1043e+00],\n",
       "        [-4.9642e-01,  2.2243e-01, -1.0711e+00],\n",
       "        [-8.5401e-01, -8.1584e-01,  2.8555e+02]])"
      ]
     },
     "execution_count": 140,
     "metadata": {},
     "output_type": "execute_result"
    }
   ],
   "source": [
    "mat - deq_mat"
   ]
  },
  {
   "cell_type": "code",
   "execution_count": 141,
   "id": "9ffbb8b3",
   "metadata": {},
   "outputs": [
    {
     "name": "stdout",
     "output_type": "stream",
     "text": [
      "old max : 6\n",
      "old min : 1\n",
      "new max : 127\n",
      "new min : -128\n",
      "Dequantized matrix:\n",
      "tensor([[ 1.0000,  2.0000, -2.0196],\n",
      "        [-1.0196, -0.0392,  0.9804]])\n",
      "Quantized matrix:\n",
      "tensor([[-128,  -77,  -26],\n",
      "        [  25,   75,  127]], dtype=torch.int8)\n",
      "Dequantized matrix:\n",
      "tensor([[ 1.0000,  2.0000, -2.0196],\n",
      "        [-1.0196, -0.0392,  0.9804]])\n"
     ]
    }
   ],
   "source": [
    "def quantize_func(matrix):\n",
    "    mat_max = float(matrix.max())\n",
    "    mat_min = float(matrix.min())\n",
    "    print(f\"old max : {int(mat_max)}\")\n",
    "    print(f\"old min : {int(mat_min)}\")\n",
    "\n",
    "    # Calculate s scale\n",
    "    s = (mat_max - mat_min) / (int8_max - int8_min + 1e-9)\n",
    "\n",
    "    # Calculate zero scale\n",
    "    z = int(round(int8_min - mat_min / (s + 1e-9)))\n",
    "\n",
    "    # Quantize the matrix\n",
    "    quantized_matrix = (matrix / s + z).to(torch.int8)\n",
    "    \n",
    "    # Print new quantized values\n",
    "    print(f\"new max : {int(quantized_matrix.max())}\")\n",
    "    print(f\"new min : {int(quantized_matrix.min())}\")\n",
    "\n",
    "    # Dequantize the matrix\n",
    "    dequantized_matrix = s * (quantized_matrix - z)\n",
    "    \n",
    "    # Print dequantized values\n",
    "    print(\"Dequantized matrix:\")\n",
    "    print(dequantized_matrix)\n",
    "\n",
    "    return quantized_matrix, dequantized_matrix\n",
    "\n",
    "# Example usage\n",
    "int8_min = -128\n",
    "int8_max = 127\n",
    "matrix = torch.tensor([[1.0, 2.0, 3.0], [4.0, 5.0, 6.0]])\n",
    "\n",
    "quantized_matrix, dequantized_matrix = quantize_func(matrix)\n",
    "\n",
    "# Verify the results\n",
    "print(\"Quantized matrix:\")\n",
    "print(quantized_matrix)\n",
    "\n",
    "print(\"Dequantized matrix:\")\n",
    "print(dequantized_matrix)"
   ]
  },
  {
   "cell_type": "code",
   "execution_count": 144,
   "id": "b3786e69",
   "metadata": {},
   "outputs": [],
   "source": [
    "error = matrix - dequantized_matrix"
   ]
  },
  {
   "cell_type": "code",
   "execution_count": 145,
   "id": "147ded47",
   "metadata": {},
   "outputs": [
    {
     "data": {
      "text/plain": [
       "tensor([[0.0000, 0.0000, 5.0196],\n",
       "        [5.0196, 5.0392, 5.0196]])"
      ]
     },
     "execution_count": 145,
     "metadata": {},
     "output_type": "execute_result"
    }
   ],
   "source": [
    "error"
   ]
  },
  {
   "cell_type": "code",
   "execution_count": 67,
   "id": "af8bea79",
   "metadata": {},
   "outputs": [],
   "source": [
    "def quantize_tensor(tensor,dtype=torch.int8):\n",
    "    r_max = tensor.max()\n",
    "    r_min = tensor.min()\n",
    "    tensor_dtype = tensor.dtype\n",
    "    q_max = torch.iinfo(dtype).max\n",
    "    q_min = torch.iinfo(dtype).min\n",
    "    #scale must be in higher precision\n",
    "    scale = torch.tensor((r_max-r_min)/(q_max-q_min),dtype=tensor_dtype)\n",
    "    zero = int(torch.round(q_min - (r_min/scale)))\n",
    "    q_tensor = tensor/scale + zero\n",
    "    rounded_tensor = torch.round(q_tensor)\n",
    "    rounded_tensor = rounded_tensor.clamp(q_min,q_max).to(dtype)\n",
    "    return rounded_tensor,scale,zero"
   ]
  },
  {
   "cell_type": "code",
   "execution_count": 68,
   "id": "d460ba65",
   "metadata": {},
   "outputs": [],
   "source": [
    "x = torch.randint(low=-150,high=150,size=(3,3),dtype=torch.float32) \n",
    "y = torch.randn(3,3,dtype=torch.float32)\n",
    "z = x+y"
   ]
  },
  {
   "cell_type": "code",
   "execution_count": 69,
   "id": "b66e459b",
   "metadata": {},
   "outputs": [
    {
     "data": {
      "text/plain": [
       "torch.float32"
      ]
     },
     "execution_count": 69,
     "metadata": {},
     "output_type": "execute_result"
    }
   ],
   "source": [
    "z.dtype"
   ]
  },
  {
   "cell_type": "code",
   "execution_count": 70,
   "id": "547c7a01",
   "metadata": {},
   "outputs": [
    {
     "data": {
      "text/plain": [
       "tensor([[-132.4939,    0.0000,  -68.0128],\n",
       "        [  -2.8319,  106.6731, -126.6552],\n",
       "        [-108.3010,  -75.1935,   13.3175]])"
      ]
     },
     "execution_count": 70,
     "metadata": {},
     "output_type": "execute_result"
    }
   ],
   "source": [
    "z[0,1] = 0\n",
    "z"
   ]
  },
  {
   "cell_type": "code",
   "execution_count": 71,
   "id": "ff443e0c",
   "metadata": {},
   "outputs": [
    {
     "name": "stderr",
     "output_type": "stream",
     "text": [
      "/var/folders/xw/knd54pd91c7cw57n21dntvx80000gn/T/ipykernel_14786/64016656.py:8: UserWarning: To copy construct from a tensor, it is recommended to use sourceTensor.clone().detach() or sourceTensor.clone().detach().requires_grad_(True), rather than torch.tensor(sourceTensor).\n",
      "  scale = torch.tensor((r_max-r_min)/(q_max-q_min),dtype=tensor_dtype)\n"
     ]
    }
   ],
   "source": [
    "q_z,scale,zero = quantize_tensor(z)"
   ]
  },
  {
   "cell_type": "code",
   "execution_count": 72,
   "id": "53f84d4e",
   "metadata": {},
   "outputs": [
    {
     "data": {
      "text/plain": [
       "tensor([[-128,   13,  -60],\n",
       "        [  10,  127, -122],\n",
       "        [-102,  -67,   27]], dtype=torch.int8)"
      ]
     },
     "execution_count": 72,
     "metadata": {},
     "output_type": "execute_result"
    }
   ],
   "source": [
    "q_z"
   ]
  },
  {
   "cell_type": "code",
   "execution_count": 73,
   "id": "55878e13",
   "metadata": {},
   "outputs": [],
   "source": [
    "def de_quantize(tensor,scale,zero,dtype=torch.float32):\n",
    "    deq_tensor = scale * (tensor - zero)\n",
    "    return deq_tensor"
   ]
  },
  {
   "cell_type": "code",
   "execution_count": 74,
   "id": "a9b524f2",
   "metadata": {},
   "outputs": [],
   "source": [
    "z_de = de_quantize(q_z,scale,zero)"
   ]
  },
  {
   "cell_type": "code",
   "execution_count": 75,
   "id": "e32aaf85",
   "metadata": {},
   "outputs": [
    {
     "data": {
      "text/plain": [
       "tensor([[ 107.8596,    0.0000,  -68.4674],\n",
       "        [  -2.8137,  106.9217,  113.4871],\n",
       "        [-107.8596,  -75.0328,   13.1307]])"
      ]
     },
     "execution_count": 75,
     "metadata": {},
     "output_type": "execute_result"
    }
   ],
   "source": [
    "z_de"
   ]
  },
  {
   "cell_type": "code",
   "execution_count": 76,
   "id": "c2b2d2f9",
   "metadata": {},
   "outputs": [],
   "source": [
    "#quantization error\n",
    "error = z - z_de"
   ]
  },
  {
   "cell_type": "code",
   "execution_count": 77,
   "id": "8fc6536a",
   "metadata": {},
   "outputs": [
    {
     "data": {
      "text/plain": [
       "<Axes: >"
      ]
     },
     "execution_count": 77,
     "metadata": {},
     "output_type": "execute_result"
    },
    {
     "data": {
      "image/png": "[encoded data removed]",
      "text/plain": [
       "<Figure size 640x480 with 2 Axes>"
      ]
     },
     "metadata": {},
     "output_type": "display_data"
    }
   ],
   "source": [
    "import seaborn as sns\n",
    "sns.heatmap(error.numpy(),annot=True)"
   ]
  },
  {
   "cell_type": "code",
   "execution_count": 78,
   "id": "8fb34d1d",
   "metadata": {},
   "outputs": [
    {
     "data": {
      "text/plain": [
       "tensor([[-2.4035e+02,  0.0000e+00,  4.5461e-01],\n",
       "        [-1.8150e-02, -2.4865e-01, -2.4014e+02],\n",
       "        [-4.4132e-01, -1.6069e-01,  1.8673e-01]])"
      ]
     },
     "execution_count": 78,
     "metadata": {},
     "output_type": "execute_result"
    }
   ],
   "source": [
    "error"
   ]
  },
  {
   "cell_type": "code",
   "execution_count": null,
   "id": "e248a240",
   "metadata": {},
   "outputs": [],
   "source": []
  }
 ],
 "metadata": {
  "kernelspec": {
   "display_name": "Python 3 (ipykernel)",
   "language": "python",
   "name": "python3"
  },
  "language_info": {
   "codemirror_mode": {
    "name": "ipython",
    "version": 3
   },
   "file_extension": ".py",
   "mimetype": "text/x-python",
   "name": "python",
   "nbconvert_exporter": "python",
   "pygments_lexer": "ipython3",
   "version": "3.10.15"
  }
 },
 "nbformat": 4,
 "nbformat_minor": 5
}
