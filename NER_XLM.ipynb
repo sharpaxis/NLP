{
 "cells": [
  {
   "cell_type": "code",
   "execution_count": 144,
   "id": "34acc864",
   "metadata": {
    "execution": {
     "iopub.execute_input": "2024-12-13T14:03:07.711969Z",
     "iopub.status.busy": "2024-12-13T14:03:07.711585Z",
     "iopub.status.idle": "2024-12-13T14:03:07.718238Z",
     "shell.execute_reply": "2024-12-13T14:03:07.717265Z",
     "shell.execute_reply.started": "2024-12-13T14:03:07.711933Z"
    }
   },
   "outputs": [],
   "source": [
    "#first load dataset\n",
    "#custom dataset simulating a lang distribution from switzerland\n",
    "import transformers\n",
    "import datasets \n",
    "import torch\n",
    "import torch.nn as nn\n",
    "import torch.nn.functional as F\n",
    "import warnings\n",
    "warnings.filterwarnings('ignore')\n",
    "device = torch.device(\"cuda\")\n",
    "import numpy as np\n",
    "import pandas as pd"
   ]
  },
  {
   "cell_type": "code",
   "execution_count": 145,
   "id": "6dbd636c",
   "metadata": {
    "execution": {
     "iopub.execute_input": "2024-12-13T14:03:07.720651Z",
     "iopub.status.busy": "2024-12-13T14:03:07.720058Z",
     "iopub.status.idle": "2024-12-13T14:03:11.414569Z",
     "shell.execute_reply": "2024-12-13T14:03:11.413899Z",
     "shell.execute_reply.started": "2024-12-13T14:03:07.720611Z"
    }
   },
   "outputs": [],
   "source": [
    "#xtreme dataset, from xtreme load PAN-X.{lang} ex PAN-X.de\n",
    "from datasets import load_dataset\n",
    "ds = load_dataset('xtreme',name='PAN-X.de')"
   ]
  },
  {
   "cell_type": "code",
   "execution_count": 146,
   "id": "3795ec9d",
   "metadata": {
    "execution": {
     "iopub.execute_input": "2024-12-13T14:03:11.416472Z",
     "iopub.status.busy": "2024-12-13T14:03:11.415690Z",
     "iopub.status.idle": "2024-12-13T14:03:11.422717Z",
     "shell.execute_reply": "2024-12-13T14:03:11.421942Z",
     "shell.execute_reply.started": "2024-12-13T14:03:11.416431Z"
    }
   },
   "outputs": [
    {
     "data": {
      "text/plain": [
       "DatasetDict({\n",
       "    train: Dataset({\n",
       "        features: ['tokens', 'ner_tags', 'langs'],\n",
       "        num_rows: 20000\n",
       "    })\n",
       "    validation: Dataset({\n",
       "        features: ['tokens', 'ner_tags', 'langs'],\n",
       "        num_rows: 10000\n",
       "    })\n",
       "    test: Dataset({\n",
       "        features: ['tokens', 'ner_tags', 'langs'],\n",
       "        num_rows: 10000\n",
       "    })\n",
       "})"
      ]
     },
     "execution_count": 146,
     "metadata": {},
     "output_type": "execute_result"
    }
   ],
   "source": [
    "ds"
   ]
  },
  {
   "cell_type": "code",
   "execution_count": 147,
   "id": "546a05b1",
   "metadata": {
    "execution": {
     "iopub.execute_input": "2024-12-13T14:03:11.423798Z",
     "iopub.status.busy": "2024-12-13T14:03:11.423556Z",
     "iopub.status.idle": "2024-12-13T14:03:11.477234Z",
     "shell.execute_reply": "2024-12-13T14:03:11.476498Z",
     "shell.execute_reply.started": "2024-12-13T14:03:11.423773Z"
    }
   },
   "outputs": [
    {
     "data": {
      "text/plain": [
       "Dataset({\n",
       "    features: ['tokens', 'ner_tags', 'langs'],\n",
       "    num_rows: 18000\n",
       "})"
      ]
     },
     "execution_count": 147,
     "metadata": {},
     "output_type": "execute_result"
    }
   ],
   "source": [
    "ds['train'].shuffle().select([i for i in range(int(0.9*ds['train'].num_rows))])"
   ]
  },
  {
   "cell_type": "markdown",
   "id": "f329faec",
   "metadata": {},
   "source": [
    "### simulated dataset"
   ]
  },
  {
   "cell_type": "code",
   "execution_count": 148,
   "id": "6a99abdd",
   "metadata": {
    "execution": {
     "iopub.execute_input": "2024-12-13T14:03:11.479191Z",
     "iopub.status.busy": "2024-12-13T14:03:11.478934Z",
     "iopub.status.idle": "2024-12-13T14:03:11.483421Z",
     "shell.execute_reply": "2024-12-13T14:03:11.482668Z",
     "shell.execute_reply.started": "2024-12-13T14:03:11.479166Z"
    }
   },
   "outputs": [],
   "source": [
    "#de - 62.9, #fr - 22.9, #it -8.4, #en-5.9"
   ]
  },
  {
   "cell_type": "code",
   "execution_count": 149,
   "id": "9b9b7d68",
   "metadata": {
    "execution": {
     "iopub.execute_input": "2024-12-13T14:03:11.484557Z",
     "iopub.status.busy": "2024-12-13T14:03:11.484316Z",
     "iopub.status.idle": "2024-12-13T14:03:23.275983Z",
     "shell.execute_reply": "2024-12-13T14:03:23.275081Z",
     "shell.execute_reply.started": "2024-12-13T14:03:11.484532Z"
    }
   },
   "outputs": [],
   "source": [
    "#create a defaultdict where value is DatasetDict\n",
    "from collections import defaultdict\n",
    "from datasets import DatasetDict\n",
    "panx_ch = defaultdict(DatasetDict)\n",
    "fracs = [0.629,0.229,0.084,0.059]\n",
    "langs = ['de','fr','it','en']\n",
    "for lang,frac in zip(langs,fracs):\n",
    "    ds = load_dataset('xtreme',name = f\"PAN-X.{lang}\")\n",
    "    for split in ds:\n",
    "        panx_ch[lang][split] =  (ds[split].shuffle().select([_ for _ in range(int(round(frac * ds[split].num_rows)))]))"
   ]
  },
  {
   "cell_type": "code",
   "execution_count": 150,
   "id": "44c55eaa",
   "metadata": {
    "execution": {
     "iopub.execute_input": "2024-12-13T14:03:23.277355Z",
     "iopub.status.busy": "2024-12-13T14:03:23.277078Z",
     "iopub.status.idle": "2024-12-13T14:03:23.283459Z",
     "shell.execute_reply": "2024-12-13T14:03:23.282653Z",
     "shell.execute_reply.started": "2024-12-13T14:03:23.277328Z"
    }
   },
   "outputs": [
    {
     "data": {
      "text/plain": [
       "defaultdict(datasets.dataset_dict.DatasetDict,\n",
       "            {'de': DatasetDict({\n",
       "                 train: Dataset({\n",
       "                     features: ['tokens', 'ner_tags', 'langs'],\n",
       "                     num_rows: 12580\n",
       "                 })\n",
       "                 validation: Dataset({\n",
       "                     features: ['tokens', 'ner_tags', 'langs'],\n",
       "                     num_rows: 6290\n",
       "                 })\n",
       "                 test: Dataset({\n",
       "                     features: ['tokens', 'ner_tags', 'langs'],\n",
       "                     num_rows: 6290\n",
       "                 })\n",
       "             }),\n",
       "             'fr': DatasetDict({\n",
       "                 train: Dataset({\n",
       "                     features: ['tokens', 'ner_tags', 'langs'],\n",
       "                     num_rows: 4580\n",
       "                 })\n",
       "                 validation: Dataset({\n",
       "                     features: ['tokens', 'ner_tags', 'langs'],\n",
       "                     num_rows: 2290\n",
       "                 })\n",
       "                 test: Dataset({\n",
       "                     features: ['tokens', 'ner_tags', 'langs'],\n",
       "                     num_rows: 2290\n",
       "                 })\n",
       "             }),\n",
       "             'it': DatasetDict({\n",
       "                 train: Dataset({\n",
       "                     features: ['tokens', 'ner_tags', 'langs'],\n",
       "                     num_rows: 1680\n",
       "                 })\n",
       "                 validation: Dataset({\n",
       "                     features: ['tokens', 'ner_tags', 'langs'],\n",
       "                     num_rows: 840\n",
       "                 })\n",
       "                 test: Dataset({\n",
       "                     features: ['tokens', 'ner_tags', 'langs'],\n",
       "                     num_rows: 840\n",
       "                 })\n",
       "             }),\n",
       "             'en': DatasetDict({\n",
       "                 train: Dataset({\n",
       "                     features: ['tokens', 'ner_tags', 'langs'],\n",
       "                     num_rows: 1180\n",
       "                 })\n",
       "                 validation: Dataset({\n",
       "                     features: ['tokens', 'ner_tags', 'langs'],\n",
       "                     num_rows: 590\n",
       "                 })\n",
       "                 test: Dataset({\n",
       "                     features: ['tokens', 'ner_tags', 'langs'],\n",
       "                     num_rows: 590\n",
       "                 })\n",
       "             })})"
      ]
     },
     "execution_count": 150,
     "metadata": {},
     "output_type": "execute_result"
    }
   ],
   "source": [
    "panx_ch\n",
    "# de has 6290 val\n",
    "# fe has 2290 val\n",
    "# it has 840 val\n",
    "# en has 590 val "
   ]
  },
  {
   "cell_type": "markdown",
   "id": "a5032e08",
   "metadata": {},
   "source": [
    "### create dataset of primary lang de"
   ]
  },
  {
   "cell_type": "markdown",
   "id": "44abe488",
   "metadata": {},
   "source": [
    "### save string format of tags"
   ]
  },
  {
   "cell_type": "code",
   "execution_count": 151,
   "id": "65ea6c59",
   "metadata": {
    "execution": {
     "iopub.execute_input": "2024-12-13T14:03:23.285505Z",
     "iopub.status.busy": "2024-12-13T14:03:23.284733Z",
     "iopub.status.idle": "2024-12-13T14:03:23.293820Z",
     "shell.execute_reply": "2024-12-13T14:03:23.293163Z",
     "shell.execute_reply.started": "2024-12-13T14:03:23.285465Z"
    }
   },
   "outputs": [],
   "source": [
    "tags = panx_ch['de']['train'].features['ner_tags'].feature"
   ]
  },
  {
   "cell_type": "code",
   "execution_count": 152,
   "id": "acae048b",
   "metadata": {
    "execution": {
     "iopub.execute_input": "2024-12-13T14:03:23.295148Z",
     "iopub.status.busy": "2024-12-13T14:03:23.294883Z",
     "iopub.status.idle": "2024-12-13T14:03:23.305226Z",
     "shell.execute_reply": "2024-12-13T14:03:23.304454Z",
     "shell.execute_reply.started": "2024-12-13T14:03:23.295112Z"
    }
   },
   "outputs": [
    {
     "data": {
      "text/plain": [
       "ClassLabel(names=['O', 'B-PER', 'I-PER', 'B-ORG', 'I-ORG', 'B-LOC', 'I-LOC'], id=None)"
      ]
     },
     "execution_count": 152,
     "metadata": {},
     "output_type": "execute_result"
    }
   ],
   "source": [
    "tags"
   ]
  },
  {
   "cell_type": "code",
   "execution_count": 153,
   "id": "ab56d322",
   "metadata": {
    "execution": {
     "iopub.execute_input": "2024-12-13T14:03:23.306438Z",
     "iopub.status.busy": "2024-12-13T14:03:23.306224Z",
     "iopub.status.idle": "2024-12-13T14:03:23.315633Z",
     "shell.execute_reply": "2024-12-13T14:03:23.314781Z",
     "shell.execute_reply.started": "2024-12-13T14:03:23.306415Z"
    }
   },
   "outputs": [],
   "source": [
    "def ner_2_str(batch):\n",
    "    return {'ner_tags_str':[tags.int2str(idx) for idx in batch['ner_tags']]}"
   ]
  },
  {
   "cell_type": "code",
   "execution_count": 154,
   "id": "5a5eec4e",
   "metadata": {
    "execution": {
     "iopub.execute_input": "2024-12-13T14:03:23.316918Z",
     "iopub.status.busy": "2024-12-13T14:03:23.316679Z",
     "iopub.status.idle": "2024-12-13T14:03:23.334337Z",
     "shell.execute_reply": "2024-12-13T14:03:23.333523Z",
     "shell.execute_reply.started": "2024-12-13T14:03:23.316893Z"
    }
   },
   "outputs": [],
   "source": [
    "panx_de = panx_ch['de'].map(ner_2_str)"
   ]
  },
  {
   "cell_type": "code",
   "execution_count": 155,
   "id": "cee15b42",
   "metadata": {
    "execution": {
     "iopub.execute_input": "2024-12-13T14:03:23.335539Z",
     "iopub.status.busy": "2024-12-13T14:03:23.335298Z",
     "iopub.status.idle": "2024-12-13T14:03:23.341785Z",
     "shell.execute_reply": "2024-12-13T14:03:23.340925Z",
     "shell.execute_reply.started": "2024-12-13T14:03:23.335515Z"
    }
   },
   "outputs": [
    {
     "data": {
      "text/plain": [
       "{'tokens': ['Nicolás', 'Gómez', 'Dávila', '.'],\n",
       " 'ner_tags': [1, 2, 2, 0],\n",
       " 'langs': ['de', 'de', 'de', 'de'],\n",
       " 'ner_tags_str': ['B-PER', 'I-PER', 'I-PER', 'O']}"
      ]
     },
     "execution_count": 155,
     "metadata": {},
     "output_type": "execute_result"
    }
   ],
   "source": [
    "panx_de['train'][0]"
   ]
  },
  {
   "cell_type": "code",
   "execution_count": 156,
   "id": "0d70b52f",
   "metadata": {
    "execution": {
     "iopub.execute_input": "2024-12-13T14:03:23.343050Z",
     "iopub.status.busy": "2024-12-13T14:03:23.342776Z",
     "iopub.status.idle": "2024-12-13T14:03:23.619391Z",
     "shell.execute_reply": "2024-12-13T14:03:23.618498Z",
     "shell.execute_reply.started": "2024-12-13T14:03:23.343016Z"
    }
   },
   "outputs": [],
   "source": [
    "#check frequncy of tag by split\n",
    "#for imbalance\n",
    "from collections import Counter\n",
    "split_freq = defaultdict(Counter)\n",
    "for split, dataset in panx_de.items():\n",
    "    for row in dataset['ner_tags_str']:\n",
    "        for tag in row:\n",
    "            if tag.startswith('B'):\n",
    "                split_freq[split][tag] += 1\n"
   ]
  },
  {
   "cell_type": "code",
   "execution_count": 157,
   "id": "5a0bbd88",
   "metadata": {
    "execution": {
     "iopub.execute_input": "2024-12-13T14:03:23.622807Z",
     "iopub.status.busy": "2024-12-13T14:03:23.622546Z",
     "iopub.status.idle": "2024-12-13T14:03:23.631513Z",
     "shell.execute_reply": "2024-12-13T14:03:23.630710Z",
     "shell.execute_reply.started": "2024-12-13T14:03:23.622781Z"
    }
   },
   "outputs": [
    {
     "data": {
      "text/html": [
       "<div>\n",
       "<style scoped>\n",
       "    .dataframe tbody tr th:only-of-type {\n",
       "        vertical-align: middle;\n",
       "    }\n",
       "\n",
       "    .dataframe tbody tr th {\n",
       "        vertical-align: top;\n",
       "    }\n",
       "\n",
       "    .dataframe thead th {\n",
       "        text-align: right;\n",
       "    }\n",
       "</style>\n",
       "<table border=\"1\" class=\"dataframe\">\n",
       "  <thead>\n",
       "    <tr style=\"text-align: right;\">\n",
       "      <th></th>\n",
       "      <th>train</th>\n",
       "      <th>validation</th>\n",
       "      <th>test</th>\n",
       "    </tr>\n",
       "  </thead>\n",
       "  <tbody>\n",
       "    <tr>\n",
       "      <th>B-PER</th>\n",
       "      <td>5907</td>\n",
       "      <td>2906</td>\n",
       "      <td>2956</td>\n",
       "    </tr>\n",
       "    <tr>\n",
       "      <th>B-ORG</th>\n",
       "      <td>5392</td>\n",
       "      <td>2598</td>\n",
       "      <td>2617</td>\n",
       "    </tr>\n",
       "    <tr>\n",
       "      <th>B-LOC</th>\n",
       "      <td>6185</td>\n",
       "      <td>3151</td>\n",
       "      <td>3122</td>\n",
       "    </tr>\n",
       "  </tbody>\n",
       "</table>\n",
       "</div>"
      ],
      "text/plain": [
       "       train  validation  test\n",
       "B-PER   5907        2906  2956\n",
       "B-ORG   5392        2598  2617\n",
       "B-LOC   6185        3151  3122"
      ]
     },
     "execution_count": 157,
     "metadata": {},
     "output_type": "execute_result"
    }
   ],
   "source": [
    "# we have almost equal number of tags in all split\n",
    "pd.DataFrame(split_freq)"
   ]
  },
  {
   "cell_type": "code",
   "execution_count": 158,
   "id": "f58dd39d",
   "metadata": {
    "execution": {
     "iopub.execute_input": "2024-12-13T14:03:23.632871Z",
     "iopub.status.busy": "2024-12-13T14:03:23.632552Z",
     "iopub.status.idle": "2024-12-13T14:03:25.222704Z",
     "shell.execute_reply": "2024-12-13T14:03:25.221957Z",
     "shell.execute_reply.started": "2024-12-13T14:03:23.632834Z"
    }
   },
   "outputs": [],
   "source": [
    "#load tokenizer\n",
    "from transformers import AutoTokenizer\n",
    "xlmr_path = 'xlm-roberta-base'\n",
    "xlmr_tokenizer = AutoTokenizer.from_pretrained(xlmr_path)"
   ]
  },
  {
   "cell_type": "markdown",
   "id": "8057114d",
   "metadata": {},
   "source": [
    "### Build custom Model for NER classificaiton"
   ]
  },
  {
   "cell_type": "code",
   "execution_count": 159,
   "id": "883224fb",
   "metadata": {
    "execution": {
     "iopub.execute_input": "2024-12-13T14:03:25.223997Z",
     "iopub.status.busy": "2024-12-13T14:03:25.223729Z",
     "iopub.status.idle": "2024-12-13T14:03:25.232083Z",
     "shell.execute_reply": "2024-12-13T14:03:25.231229Z",
     "shell.execute_reply.started": "2024-12-13T14:03:25.223970Z"
    }
   },
   "outputs": [],
   "source": [
    "#we need 3 things \n",
    "#1.Base class to build a custom model upon <name>PreTrainedModel\n",
    "#2 Model body <name>Model\n",
    "#3 classifier Head\n",
    "#head\n",
    "from transformers.modeling_outputs import TokenClassifierOutput\n",
    "#base class\n",
    "from transformers import RobertaPreTrainedModel\n",
    "#body\n",
    "from transformers import RobertaModel\n",
    "#config\n",
    "from transformers import XLMRobertaConfig\n",
    "#custom class inherit from base\n",
    "class XLMRobertaForTokenClassification(RobertaPreTrainedModel):\n",
    "    configclass = XLMRobertaConfig\n",
    "    def __init__(self,config):\n",
    "        super().__init__(config)\n",
    "        self.roberta = RobertaModel(config,add_pooling_layer=False)\n",
    "        self.num_labels = config.num_labels\n",
    "        self.dropout = nn.Dropout(config.hidden_dropout_prob)\n",
    "        self.classifier = nn.Linear(config.hidden_size,config.num_labels)\n",
    "        #call init_weights\n",
    "        self.init_weights()\n",
    "    def forward(self,input_ids=None,attention_mask=None,token_type_ids=None,labels=None,**kwargs):\n",
    "        output = self.roberta(input_ids,attention_mask=attention_mask,token_type_ids=token_type_ids,**kwargs)\n",
    "        seq_out = self.dropout(output[0])\n",
    "        logits = self.classifier(seq_out)\n",
    "        loss=None\n",
    "        if labels is not None:\n",
    "            loss_func = nn.CrossEntropyLoss()\n",
    "            loss = loss_func(logits.view(-1,self.num_labels),labels.view(-1))\n",
    "        return TokenClassifierOutput(loss,logits=logits,hidden_states=output.hidden_states,attentions=output.attentions,)"
   ]
  },
  {
   "cell_type": "code",
   "execution_count": 160,
   "id": "8229e0db",
   "metadata": {
    "execution": {
     "iopub.execute_input": "2024-12-13T14:03:25.233342Z",
     "iopub.status.busy": "2024-12-13T14:03:25.233037Z",
     "iopub.status.idle": "2024-12-13T14:03:25.243747Z",
     "shell.execute_reply": "2024-12-13T14:03:25.243010Z",
     "shell.execute_reply.started": "2024-12-13T14:03:25.233296Z"
    }
   },
   "outputs": [],
   "source": [
    "#load config with custom tag2idx and idx2tag\n",
    "tag2index = {tag:idx for idx,tag in enumerate(tags.names)}\n",
    "index2tag = {idx:tag for idx,tag in enumerate(tags.names)}"
   ]
  },
  {
   "cell_type": "code",
   "execution_count": 161,
   "id": "77247f34",
   "metadata": {
    "execution": {
     "iopub.execute_input": "2024-12-13T14:03:25.245797Z",
     "iopub.status.busy": "2024-12-13T14:03:25.244864Z",
     "iopub.status.idle": "2024-12-13T14:03:25.258155Z",
     "shell.execute_reply": "2024-12-13T14:03:25.257457Z",
     "shell.execute_reply.started": "2024-12-13T14:03:25.245758Z"
    }
   },
   "outputs": [
    {
     "data": {
      "text/plain": [
       "{'O': 0,\n",
       " 'B-PER': 1,\n",
       " 'I-PER': 2,\n",
       " 'B-ORG': 3,\n",
       " 'I-ORG': 4,\n",
       " 'B-LOC': 5,\n",
       " 'I-LOC': 6}"
      ]
     },
     "execution_count": 161,
     "metadata": {},
     "output_type": "execute_result"
    }
   ],
   "source": [
    "tag2index"
   ]
  },
  {
   "cell_type": "code",
   "execution_count": 162,
   "id": "4901bd38",
   "metadata": {
    "execution": {
     "iopub.execute_input": "2024-12-13T14:03:25.259376Z",
     "iopub.status.busy": "2024-12-13T14:03:25.259120Z",
     "iopub.status.idle": "2024-12-13T14:03:25.270275Z",
     "shell.execute_reply": "2024-12-13T14:03:25.269567Z",
     "shell.execute_reply.started": "2024-12-13T14:03:25.259338Z"
    }
   },
   "outputs": [
    {
     "data": {
      "text/plain": [
       "{0: 'O',\n",
       " 1: 'B-PER',\n",
       " 2: 'I-PER',\n",
       " 3: 'B-ORG',\n",
       " 4: 'I-ORG',\n",
       " 5: 'B-LOC',\n",
       " 6: 'I-LOC'}"
      ]
     },
     "execution_count": 162,
     "metadata": {},
     "output_type": "execute_result"
    }
   ],
   "source": [
    "index2tag"
   ]
  },
  {
   "cell_type": "code",
   "execution_count": 163,
   "id": "30ecb892",
   "metadata": {
    "execution": {
     "iopub.execute_input": "2024-12-13T14:03:25.271691Z",
     "iopub.status.busy": "2024-12-13T14:03:25.271334Z",
     "iopub.status.idle": "2024-12-13T14:03:25.380802Z",
     "shell.execute_reply": "2024-12-13T14:03:25.380231Z",
     "shell.execute_reply.started": "2024-12-13T14:03:25.271653Z"
    }
   },
   "outputs": [],
   "source": [
    "from transformers import AutoConfig\n",
    "xlm_config = AutoConfig.from_pretrained(xlmr_path,num_labels=tags.num_classes,id2label=index2tag,label2id=tag2index,)"
   ]
  },
  {
   "cell_type": "markdown",
   "id": "97f2c482",
   "metadata": {},
   "source": [
    "### finally load the custom model with config and model name"
   ]
  },
  {
   "cell_type": "code",
   "execution_count": 164,
   "id": "2ca86484",
   "metadata": {
    "execution": {
     "iopub.execute_input": "2024-12-13T14:03:25.381940Z",
     "iopub.status.busy": "2024-12-13T14:03:25.381701Z",
     "iopub.status.idle": "2024-12-13T14:03:25.794202Z",
     "shell.execute_reply": "2024-12-13T14:03:25.793503Z",
     "shell.execute_reply.started": "2024-12-13T14:03:25.381916Z"
    }
   },
   "outputs": [],
   "source": [
    "#from pretrained method is provided by base class\n",
    "xlm_model = (XLMRobertaForTokenClassification.from_pretrained(xlmr_path,config=xlm_config).to(device))"
   ]
  },
  {
   "cell_type": "code",
   "execution_count": 165,
   "id": "5c0eaf4b",
   "metadata": {
    "execution": {
     "iopub.execute_input": "2024-12-13T14:03:25.795308Z",
     "iopub.status.busy": "2024-12-13T14:03:25.795048Z",
     "iopub.status.idle": "2024-12-13T14:03:25.802558Z",
     "shell.execute_reply": "2024-12-13T14:03:25.801702Z",
     "shell.execute_reply.started": "2024-12-13T14:03:25.795283Z"
    }
   },
   "outputs": [
    {
     "data": {
      "text/plain": [
       "XLMRobertaForTokenClassification(\n",
       "  (roberta): RobertaModel(\n",
       "    (embeddings): RobertaEmbeddings(\n",
       "      (word_embeddings): Embedding(250002, 768, padding_idx=1)\n",
       "      (position_embeddings): Embedding(514, 768, padding_idx=1)\n",
       "      (token_type_embeddings): Embedding(1, 768)\n",
       "      (LayerNorm): LayerNorm((768,), eps=1e-05, elementwise_affine=True)\n",
       "      (dropout): Dropout(p=0.1, inplace=False)\n",
       "    )\n",
       "    (encoder): RobertaEncoder(\n",
       "      (layer): ModuleList(\n",
       "        (0-11): 12 x RobertaLayer(\n",
       "          (attention): RobertaAttention(\n",
       "            (self): RobertaSdpaSelfAttention(\n",
       "              (query): Linear(in_features=768, out_features=768, bias=True)\n",
       "              (key): Linear(in_features=768, out_features=768, bias=True)\n",
       "              (value): Linear(in_features=768, out_features=768, bias=True)\n",
       "              (dropout): Dropout(p=0.1, inplace=False)\n",
       "            )\n",
       "            (output): RobertaSelfOutput(\n",
       "              (dense): Linear(in_features=768, out_features=768, bias=True)\n",
       "              (LayerNorm): LayerNorm((768,), eps=1e-05, elementwise_affine=True)\n",
       "              (dropout): Dropout(p=0.1, inplace=False)\n",
       "            )\n",
       "          )\n",
       "          (intermediate): RobertaIntermediate(\n",
       "            (dense): Linear(in_features=768, out_features=3072, bias=True)\n",
       "            (intermediate_act_fn): GELUActivation()\n",
       "          )\n",
       "          (output): RobertaOutput(\n",
       "            (dense): Linear(in_features=3072, out_features=768, bias=True)\n",
       "            (LayerNorm): LayerNorm((768,), eps=1e-05, elementwise_affine=True)\n",
       "            (dropout): Dropout(p=0.1, inplace=False)\n",
       "          )\n",
       "        )\n",
       "      )\n",
       "    )\n",
       "  )\n",
       "  (dropout): Dropout(p=0.1, inplace=False)\n",
       "  (classifier): Linear(in_features=768, out_features=7, bias=True)\n",
       ")"
      ]
     },
     "execution_count": 165,
     "metadata": {},
     "output_type": "execute_result"
    }
   ],
   "source": [
    "xlm_model"
   ]
  },
  {
   "cell_type": "code",
   "execution_count": 166,
   "id": "9bfd7e9d",
   "metadata": {
    "execution": {
     "iopub.execute_input": "2024-12-13T14:03:25.804052Z",
     "iopub.status.busy": "2024-12-13T14:03:25.803703Z",
     "iopub.status.idle": "2024-12-13T14:03:25.812026Z",
     "shell.execute_reply": "2024-12-13T14:03:25.811255Z",
     "shell.execute_reply.started": "2024-12-13T14:03:25.804013Z"
    }
   },
   "outputs": [],
   "source": [
    "input_ids = xlmr_tokenizer.encode(\"jack sparrow loves new york!\",return_tensors=\"pt\")"
   ]
  },
  {
   "cell_type": "code",
   "execution_count": 167,
   "id": "011528a3",
   "metadata": {
    "execution": {
     "iopub.execute_input": "2024-12-13T14:03:25.813934Z",
     "iopub.status.busy": "2024-12-13T14:03:25.813128Z",
     "iopub.status.idle": "2024-12-13T14:03:25.825128Z",
     "shell.execute_reply": "2024-12-13T14:03:25.824435Z",
     "shell.execute_reply.started": "2024-12-13T14:03:25.813894Z"
    }
   },
   "outputs": [
    {
     "data": {
      "text/plain": [
       "tensor([[     0, 121477,  27148,  15555,   5161,      7,   3525,  70662,     92,\n",
       "             38,      2]])"
      ]
     },
     "execution_count": 167,
     "metadata": {},
     "output_type": "execute_result"
    }
   ],
   "source": [
    "input_ids"
   ]
  },
  {
   "cell_type": "code",
   "execution_count": 168,
   "id": "06356ff4",
   "metadata": {
    "execution": {
     "iopub.execute_input": "2024-12-13T14:03:25.826360Z",
     "iopub.status.busy": "2024-12-13T14:03:25.826011Z",
     "iopub.status.idle": "2024-12-13T14:03:25.845798Z",
     "shell.execute_reply": "2024-12-13T14:03:25.845222Z",
     "shell.execute_reply.started": "2024-12-13T14:03:25.826322Z"
    }
   },
   "outputs": [],
   "source": [
    "outputs = xlm_model(input_ids.to(device)).logits"
   ]
  },
  {
   "cell_type": "code",
   "execution_count": 169,
   "id": "0b75513c",
   "metadata": {
    "execution": {
     "iopub.execute_input": "2024-12-13T14:03:25.846884Z",
     "iopub.status.busy": "2024-12-13T14:03:25.846649Z",
     "iopub.status.idle": "2024-12-13T14:03:25.852388Z",
     "shell.execute_reply": "2024-12-13T14:03:25.851531Z",
     "shell.execute_reply.started": "2024-12-13T14:03:25.846860Z"
    }
   },
   "outputs": [
    {
     "data": {
      "text/plain": [
       "torch.Size([1, 11, 7])"
      ]
     },
     "execution_count": 169,
     "metadata": {},
     "output_type": "execute_result"
    }
   ],
   "source": [
    "outputs.shape"
   ]
  },
  {
   "cell_type": "code",
   "execution_count": 170,
   "id": "b673adea",
   "metadata": {
    "execution": {
     "iopub.execute_input": "2024-12-13T14:03:25.853801Z",
     "iopub.status.busy": "2024-12-13T14:03:25.853459Z",
     "iopub.status.idle": "2024-12-13T14:03:25.863082Z",
     "shell.execute_reply": "2024-12-13T14:03:25.862437Z",
     "shell.execute_reply.started": "2024-12-13T14:03:25.853762Z"
    }
   },
   "outputs": [],
   "source": [
    "predictions = torch.argmax(outputs,dim=-1)"
   ]
  },
  {
   "cell_type": "code",
   "execution_count": 171,
   "id": "c326761d",
   "metadata": {
    "execution": {
     "iopub.execute_input": "2024-12-13T14:03:25.864427Z",
     "iopub.status.busy": "2024-12-13T14:03:25.864092Z",
     "iopub.status.idle": "2024-12-13T14:03:25.874066Z",
     "shell.execute_reply": "2024-12-13T14:03:25.873266Z",
     "shell.execute_reply.started": "2024-12-13T14:03:25.864391Z"
    }
   },
   "outputs": [],
   "source": [
    "pred_tags = [tags.names[p] for p in predictions[0].cpu().numpy()]"
   ]
  },
  {
   "cell_type": "code",
   "execution_count": 172,
   "id": "d25d9fbd",
   "metadata": {
    "execution": {
     "iopub.execute_input": "2024-12-13T14:03:25.875220Z",
     "iopub.status.busy": "2024-12-13T14:03:25.874969Z",
     "iopub.status.idle": "2024-12-13T14:03:25.886054Z",
     "shell.execute_reply": "2024-12-13T14:03:25.885305Z",
     "shell.execute_reply.started": "2024-12-13T14:03:25.875196Z"
    }
   },
   "outputs": [
    {
     "data": {
      "text/plain": [
       "tensor([[5, 2, 2, 2, 2, 2, 2, 2, 2, 2, 5]], device='cuda:0')"
      ]
     },
     "execution_count": 172,
     "metadata": {},
     "output_type": "execute_result"
    }
   ],
   "source": [
    "predictions"
   ]
  },
  {
   "cell_type": "code",
   "execution_count": 173,
   "id": "52274ef7",
   "metadata": {
    "execution": {
     "iopub.execute_input": "2024-12-13T14:03:25.887206Z",
     "iopub.status.busy": "2024-12-13T14:03:25.886926Z",
     "iopub.status.idle": "2024-12-13T14:03:25.896193Z",
     "shell.execute_reply": "2024-12-13T14:03:25.895477Z",
     "shell.execute_reply.started": "2024-12-13T14:03:25.887181Z"
    }
   },
   "outputs": [
    {
     "data": {
      "text/plain": [
       "['B-LOC',\n",
       " 'I-PER',\n",
       " 'I-PER',\n",
       " 'I-PER',\n",
       " 'I-PER',\n",
       " 'I-PER',\n",
       " 'I-PER',\n",
       " 'I-PER',\n",
       " 'I-PER',\n",
       " 'I-PER',\n",
       " 'B-LOC']"
      ]
     },
     "execution_count": 173,
     "metadata": {},
     "output_type": "execute_result"
    }
   ],
   "source": [
    "pred_tags"
   ]
  },
  {
   "cell_type": "code",
   "execution_count": 174,
   "id": "ab83d7ba",
   "metadata": {
    "execution": {
     "iopub.execute_input": "2024-12-13T14:03:25.897437Z",
     "iopub.status.busy": "2024-12-13T14:03:25.897119Z",
     "iopub.status.idle": "2024-12-13T14:03:25.908567Z",
     "shell.execute_reply": "2024-12-13T14:03:25.907894Z",
     "shell.execute_reply.started": "2024-12-13T14:03:25.897393Z"
    }
   },
   "outputs": [
    {
     "data": {
      "text/plain": [
       "Dataset({\n",
       "    features: ['tokens', 'ner_tags', 'langs', 'ner_tags_str'],\n",
       "    num_rows: 12580\n",
       "})"
      ]
     },
     "execution_count": 174,
     "metadata": {},
     "output_type": "execute_result"
    }
   ],
   "source": [
    "panx_de['train']"
   ]
  },
  {
   "cell_type": "markdown",
   "id": "357a951b",
   "metadata": {},
   "source": [
    "### helper functions"
   ]
  },
  {
   "cell_type": "code",
   "execution_count": 197,
   "id": "cc614c5e",
   "metadata": {
    "execution": {
     "iopub.execute_input": "2024-12-13T14:23:33.919114Z",
     "iopub.status.busy": "2024-12-13T14:23:33.918756Z",
     "iopub.status.idle": "2024-12-13T14:23:33.925239Z",
     "shell.execute_reply": "2024-12-13T14:23:33.924368Z",
     "shell.execute_reply.started": "2024-12-13T14:23:33.919065Z"
    }
   },
   "outputs": [],
   "source": [
    "#tag text for predctions\n",
    "def tag_text(text,tags,model,tokenizer):\n",
    "    tokens = tokenizer(text).tokens()\n",
    "    input_ids = xlmr_tokenizer(text,return_tensors=\"pt\").input_ids.to(device)\n",
    "    out = model(input_ids)[0]\n",
    "    predictions = torch.argmax(out,dim=2)\n",
    "    pred = [tags.names[p] for p in predictions[0].cpu().numpy()]\n",
    "    return pd.DataFrame([tokens,pred],index=['Tokens','Preds'])"
   ]
  },
  {
   "cell_type": "code",
   "execution_count": 176,
   "id": "e5134481",
   "metadata": {
    "execution": {
     "iopub.execute_input": "2024-12-13T14:03:25.920312Z",
     "iopub.status.busy": "2024-12-13T14:03:25.919893Z",
     "iopub.status.idle": "2024-12-13T14:03:25.929331Z",
     "shell.execute_reply": "2024-12-13T14:03:25.928528Z",
     "shell.execute_reply.started": "2024-12-13T14:03:25.920274Z"
    }
   },
   "outputs": [],
   "source": [
    "#tag only subwords\n",
    "#-100 is ignored by nn.Crossentropy\n",
    "def tokenize_align_label(batch):\n",
    "    tokenized_inputs = xlmr_tokenizer(batch['tokens'],is_split_into_words=True,truncation=True)\n",
    "    labels = []\n",
    "    for idx,label in enumerate(batch['ner_tags']):\n",
    "        word_ids = tokenized_inputs.word_ids(batch_index=idx)\n",
    "        previous_word = None\n",
    "        label_ids = []\n",
    "        for word_id in word_ids:\n",
    "            if word_id is not None and word_id != previous_word:\n",
    "                label_ids.append(label[word_id])\n",
    "            elif word_id == previous_word:\n",
    "                label_ids.append(-100)\n",
    "        labels.append(label_ids)\n",
    "    tokenized_inputs['labels'] = labels\n",
    "    return tokenized_inputs"
   ]
  },
  {
   "cell_type": "code",
   "execution_count": 177,
   "id": "73897dca",
   "metadata": {
    "execution": {
     "iopub.execute_input": "2024-12-13T14:03:25.930479Z",
     "iopub.status.busy": "2024-12-13T14:03:25.930246Z",
     "iopub.status.idle": "2024-12-13T14:03:25.938698Z",
     "shell.execute_reply": "2024-12-13T14:03:25.937905Z",
     "shell.execute_reply.started": "2024-12-13T14:03:25.930453Z"
    }
   },
   "outputs": [],
   "source": [
    "#align predictions\n",
    "def align_predictions(predictions,labels):\n",
    "    preds = np.argmax(predictions,axis=2)\n",
    "    batch_size,seq_len = preds.shape\n",
    "    label_list,pred_list = [],[]\n",
    "    for batch_idx in range(batch_size):\n",
    "        example_label,example_pred = [],[]\n",
    "        for seq_idx in range(seq_len):\n",
    "            if labels[batch_idx,seq_idx] != -100:\n",
    "                example_label.append(index2tag[labels[batch_idx][seq_idx]])\n",
    "                example_pred.append(index2tag[preds[batch_idx][seq_idx]])\n",
    "        label_list.append(example_label)\n",
    "        pred_list.append(example_pred)\n",
    "    return label_list,pred_list"
   ]
  },
  {
   "cell_type": "code",
   "execution_count": 178,
   "id": "df7ba991",
   "metadata": {
    "execution": {
     "iopub.execute_input": "2024-12-13T14:03:25.939937Z",
     "iopub.status.busy": "2024-12-13T14:03:25.939688Z",
     "iopub.status.idle": "2024-12-13T14:03:26.478373Z",
     "shell.execute_reply": "2024-12-13T14:03:26.477452Z",
     "shell.execute_reply.started": "2024-12-13T14:03:25.939913Z"
    }
   },
   "outputs": [
    {
     "data": {
      "application/vnd.jupyter.widget-view+json": {
       "model_id": "6c378ad2c69e4323a1e82fdff7e6e769",
       "version_major": 2,
       "version_minor": 0
      },
      "text/plain": [
       "Map:   0%|          | 0/6290 [00:00<?, ? examples/s]"
      ]
     },
     "metadata": {},
     "output_type": "display_data"
    }
   ],
   "source": [
    "#tokenize dataset\n",
    "panx_de_encoded = panx_de.map(tokenize_align_label,batched=True,remove_columns=['ner_tags','langs','tokens'])"
   ]
  },
  {
   "cell_type": "markdown",
   "id": "52bcfd98",
   "metadata": {},
   "source": [
    "### fine tuning process"
   ]
  },
  {
   "cell_type": "code",
   "execution_count": 179,
   "id": "6cfeea16",
   "metadata": {
    "execution": {
     "iopub.execute_input": "2024-12-13T14:03:26.479724Z",
     "iopub.status.busy": "2024-12-13T14:03:26.479464Z",
     "iopub.status.idle": "2024-12-13T14:03:26.484337Z",
     "shell.execute_reply": "2024-12-13T14:03:26.483524Z",
     "shell.execute_reply.started": "2024-12-13T14:03:26.479698Z"
    }
   },
   "outputs": [],
   "source": [
    "from seqeval.metrics import classification_report,f1_score"
   ]
  },
  {
   "cell_type": "code",
   "execution_count": 180,
   "id": "9468b8c9",
   "metadata": {
    "execution": {
     "iopub.execute_input": "2024-12-13T14:03:26.485817Z",
     "iopub.status.busy": "2024-12-13T14:03:26.485489Z",
     "iopub.status.idle": "2024-12-13T14:03:26.498771Z",
     "shell.execute_reply": "2024-12-13T14:03:26.498119Z",
     "shell.execute_reply.started": "2024-12-13T14:03:26.485780Z"
    }
   },
   "outputs": [],
   "source": [
    "#data collator\n",
    "from transformers import DataCollatorForTokenClassification\n",
    "data_collator = DataCollatorForTokenClassification(xlmr_tokenizer)"
   ]
  },
  {
   "cell_type": "code",
   "execution_count": 181,
   "id": "4e8815cc",
   "metadata": {
    "execution": {
     "iopub.execute_input": "2024-12-13T14:03:26.500174Z",
     "iopub.status.busy": "2024-12-13T14:03:26.499842Z",
     "iopub.status.idle": "2024-12-13T14:03:26.532934Z",
     "shell.execute_reply": "2024-12-13T14:03:26.532356Z",
     "shell.execute_reply.started": "2024-12-13T14:03:26.500135Z"
    }
   },
   "outputs": [],
   "source": [
    "#trainign args\n",
    "from transformers import TrainingArguments\n",
    "model_name = 'XLM_Roberta_NER_task'\n",
    "batch_size = 8\n",
    "weight_decay = 0.01\n",
    "logging_steps = len(panx_de_encoded['train'])//batch_size\n",
    "training_args = TrainingArguments(output_dir=model_name,\n",
    "                                 per_device_eval_batch_size=batch_size,\n",
    "                                 per_device_train_batch_size=batch_size,\n",
    "                                 logging_steps=logging_steps,\n",
    "                                 log_level=\"error\",\n",
    "                                 eval_strategy='epoch',\n",
    "                                 weight_decay=weight_decay,\n",
    "                                 disable_tqdm=False,\n",
    "                                 num_train_epochs=3,\n",
    "                                 save_steps=1e6)"
   ]
  },
  {
   "cell_type": "code",
   "execution_count": 182,
   "id": "68cccdf3",
   "metadata": {
    "execution": {
     "iopub.execute_input": "2024-12-13T14:03:26.533998Z",
     "iopub.status.busy": "2024-12-13T14:03:26.533752Z",
     "iopub.status.idle": "2024-12-13T14:03:26.538704Z",
     "shell.execute_reply": "2024-12-13T14:03:26.537875Z",
     "shell.execute_reply.started": "2024-12-13T14:03:26.533959Z"
    }
   },
   "outputs": [],
   "source": [
    "def compute_metrics(pred):\n",
    "    y_true,y_pred = align_predictions(pred.predictions,pred.label_ids)\n",
    "    f1 = f1_score(y_true,y_pred)\n",
    "    return {'f1':f1}"
   ]
  },
  {
   "cell_type": "code",
   "execution_count": 183,
   "id": "8f113870",
   "metadata": {
    "execution": {
     "iopub.execute_input": "2024-12-13T14:03:26.539939Z",
     "iopub.status.busy": "2024-12-13T14:03:26.539713Z",
     "iopub.status.idle": "2024-12-13T14:03:26.556252Z",
     "shell.execute_reply": "2024-12-13T14:03:26.555533Z",
     "shell.execute_reply.started": "2024-12-13T14:03:26.539916Z"
    }
   },
   "outputs": [],
   "source": [
    "from transformers import Trainer\n",
    "trainer = Trainer(model=xlm_model,\n",
    "                 args = training_args,data_collator=data_collator,\n",
    "                 compute_metrics=compute_metrics,\n",
    "                 train_dataset=panx_de_encoded['train'],\n",
    "                 eval_dataset=panx_de_encoded['validation'],\n",
    "                 tokenizer=xlmr_tokenizer)"
   ]
  },
  {
   "cell_type": "code",
   "execution_count": 184,
   "id": "c6377550",
   "metadata": {
    "execution": {
     "iopub.execute_input": "2024-12-13T14:03:26.560466Z",
     "iopub.status.busy": "2024-12-13T14:03:26.560212Z",
     "iopub.status.idle": "2024-12-13T14:11:10.107397Z",
     "shell.execute_reply": "2024-12-13T14:11:10.106528Z",
     "shell.execute_reply.started": "2024-12-13T14:03:26.560441Z"
    }
   },
   "outputs": [
    {
     "data": {
      "text/html": [
       "\n",
       "    <div>\n",
       "      \n",
       "      <progress value='4719' max='4719' style='width:300px; height:20px; vertical-align: middle;'></progress>\n",
       "      [4719/4719 07:42, Epoch 3/3]\n",
       "    </div>\n",
       "    <table border=\"1\" class=\"dataframe\">\n",
       "  <thead>\n",
       " <tr style=\"text-align: left;\">\n",
       "      <th>Epoch</th>\n",
       "      <th>Training Loss</th>\n",
       "      <th>Validation Loss</th>\n",
       "      <th>F1</th>\n",
       "    </tr>\n",
       "  </thead>\n",
       "  <tbody>\n",
       "    <tr>\n",
       "      <td>1</td>\n",
       "      <td>0.333300</td>\n",
       "      <td>0.231996</td>\n",
       "      <td>0.803615</td>\n",
       "    </tr>\n",
       "    <tr>\n",
       "      <td>2</td>\n",
       "      <td>0.179500</td>\n",
       "      <td>0.194158</td>\n",
       "      <td>0.837066</td>\n",
       "    </tr>\n",
       "    <tr>\n",
       "      <td>3</td>\n",
       "      <td>0.106300</td>\n",
       "      <td>0.215021</td>\n",
       "      <td>0.844686</td>\n",
       "    </tr>\n",
       "  </tbody>\n",
       "</table><p>"
      ],
      "text/plain": [
       "<IPython.core.display.HTML object>"
      ]
     },
     "metadata": {},
     "output_type": "display_data"
    },
    {
     "data": {
      "text/plain": [
       "TrainOutput(global_step=4719, training_loss=0.20629638485242613, metrics={'train_runtime': 463.0355, 'train_samples_per_second': 81.506, 'train_steps_per_second': 10.191, 'total_flos': 669933925633104.0, 'train_loss': 0.20629638485242613, 'epoch': 3.0})"
      ]
     },
     "execution_count": 184,
     "metadata": {},
     "output_type": "execute_result"
    }
   ],
   "source": [
    "trainer.train()"
   ]
  },
  {
   "cell_type": "code",
   "execution_count": 199,
   "id": "3dcadfc6",
   "metadata": {
    "execution": {
     "iopub.execute_input": "2024-12-13T14:24:35.612741Z",
     "iopub.status.busy": "2024-12-13T14:24:35.612400Z",
     "iopub.status.idle": "2024-12-13T14:24:35.637882Z",
     "shell.execute_reply": "2024-12-13T14:24:35.637077Z",
     "shell.execute_reply.started": "2024-12-13T14:24:35.612713Z"
    }
   },
   "outputs": [
    {
     "data": {
      "text/html": [
       "<div>\n",
       "<style scoped>\n",
       "    .dataframe tbody tr th:only-of-type {\n",
       "        vertical-align: middle;\n",
       "    }\n",
       "\n",
       "    .dataframe tbody tr th {\n",
       "        vertical-align: top;\n",
       "    }\n",
       "\n",
       "    .dataframe thead th {\n",
       "        text-align: right;\n",
       "    }\n",
       "</style>\n",
       "<table border=\"1\" class=\"dataframe\">\n",
       "  <thead>\n",
       "    <tr style=\"text-align: right;\">\n",
       "      <th></th>\n",
       "      <th>0</th>\n",
       "      <th>1</th>\n",
       "      <th>2</th>\n",
       "      <th>3</th>\n",
       "      <th>4</th>\n",
       "      <th>5</th>\n",
       "      <th>6</th>\n",
       "      <th>7</th>\n",
       "      <th>8</th>\n",
       "      <th>9</th>\n",
       "    </tr>\n",
       "  </thead>\n",
       "  <tbody>\n",
       "    <tr>\n",
       "      <th>Tokens</th>\n",
       "      <td>&lt;s&gt;</td>\n",
       "      <td>▁Apple</td>\n",
       "      <td>▁Company</td>\n",
       "      <td>▁eröffnet</td>\n",
       "      <td>▁eine</td>\n",
       "      <td>▁Nieder</td>\n",
       "      <td>lassung</td>\n",
       "      <td>▁in</td>\n",
       "      <td>▁Hongkong</td>\n",
       "      <td>&lt;/s&gt;</td>\n",
       "    </tr>\n",
       "    <tr>\n",
       "      <th>Preds</th>\n",
       "      <td>O</td>\n",
       "      <td>B-ORG</td>\n",
       "      <td>I-ORG</td>\n",
       "      <td>O</td>\n",
       "      <td>O</td>\n",
       "      <td>O</td>\n",
       "      <td>O</td>\n",
       "      <td>O</td>\n",
       "      <td>B-LOC</td>\n",
       "      <td>O</td>\n",
       "    </tr>\n",
       "  </tbody>\n",
       "</table>\n",
       "</div>"
      ],
      "text/plain": [
       "          0       1         2          3      4        5        6    7  \\\n",
       "Tokens  <s>  ▁Apple  ▁Company  ▁eröffnet  ▁eine  ▁Nieder  lassung  ▁in   \n",
       "Preds     O   B-ORG     I-ORG          O      O        O        O    O   \n",
       "\n",
       "                8     9  \n",
       "Tokens  ▁Hongkong  </s>  \n",
       "Preds       B-LOC     O  "
      ]
     },
     "execution_count": 199,
     "metadata": {},
     "output_type": "execute_result"
    },
    {
     "name": "stdout",
     "output_type": "stream",
     "text": [
      "\u001b[1;34mwandb\u001b[0m: 🚀 View run \u001b[33mXLM_Roberta_NER_task\u001b[0m at: \u001b[34mhttps://wandb.ai/adi-joshi2018-vit/huggingface/runs/aszqqret\u001b[0m\n",
      "\u001b[1;34mwandb\u001b[0m: Find logs at: \u001b[1;35mwandb/run-20241213_125527-aszqqret/logs\u001b[0m\n"
     ]
    }
   ],
   "source": [
    "text = \"Apple Company eröffnet eine Niederlassung in Hongkong\"\n",
    "tag_text(text,tags,trainer.model,xlmr_tokenizer)"
   ]
  },
  {
   "cell_type": "code",
   "execution_count": null,
   "id": "ef57aaad",
   "metadata": {},
   "outputs": [],
   "source": []
  }
 ],
 "metadata": {
  "kaggle": {
   "accelerator": "gpu",
   "dataSources": [],
   "dockerImageVersionId": 30805,
   "isGpuEnabled": true,
   "isInternetEnabled": true,
   "language": "python",
   "sourceType": "notebook"
  },
  "kernelspec": {
   "display_name": "Python 3 (ipykernel)",
   "language": "python",
   "name": "python3"
  },
  "language_info": {
   "codemirror_mode": {
    "name": "ipython",
    "version": 3
   },
   "file_extension": ".py",
   "mimetype": "text/x-python",
   "name": "python",
   "nbconvert_exporter": "python",
   "pygments_lexer": "ipython3",
   "version": "3.10.15"
  }
 },
 "nbformat": 4,
 "nbformat_minor": 5
}
