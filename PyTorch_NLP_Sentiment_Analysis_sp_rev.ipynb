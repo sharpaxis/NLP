{
 "cells": [
  {
   "cell_type": "code",
   "execution_count": 1,
   "id": "7248f02a",
   "metadata": {},
   "outputs": [],
   "source": [
    "#basic imports\n",
    "import numpy as np\n",
    "import pandas as pd\n",
    "import seaborn as sns\n",
    "import matplotlib.pyplot as plt\n",
    "import torch\n",
    "import torch.nn as nn\n",
    "import torch.nn.functional as F\n",
    "from torch.utils.data import DataLoader,Dataset\n",
    "from torch.nn.utils.rnn import pad_sequence\n",
    "from collections import defaultdict\n",
    "import spacy\n",
    "nlp = spacy.load('en_core_web_sm')\n",
    "device = torch.device(\"mps\")\n",
    "import warnings\n",
    "warnings.filterwarnings('ignore')"
   ]
  },
  {
   "cell_type": "code",
   "execution_count": 2,
   "id": "fd2c3cdd",
   "metadata": {},
   "outputs": [],
   "source": [
    "df = pd.read_csv('/Users/aadityajoshi/Downloads/DATASET.csv')"
   ]
  },
  {
   "cell_type": "code",
   "execution_count": 3,
   "id": "de4b8105",
   "metadata": {},
   "outputs": [
    {
     "data": {
      "text/html": [
       "<div>\n",
       "<style scoped>\n",
       "    .dataframe tbody tr th:only-of-type {\n",
       "        vertical-align: middle;\n",
       "    }\n",
       "\n",
       "    .dataframe tbody tr th {\n",
       "        vertical-align: top;\n",
       "    }\n",
       "\n",
       "    .dataframe thead th {\n",
       "        text-align: right;\n",
       "    }\n",
       "</style>\n",
       "<table border=\"1\" class=\"dataframe\">\n",
       "  <thead>\n",
       "    <tr style=\"text-align: right;\">\n",
       "      <th></th>\n",
       "      <th>Review</th>\n",
       "      <th>label</th>\n",
       "    </tr>\n",
       "  </thead>\n",
       "  <tbody>\n",
       "    <tr>\n",
       "      <th>0</th>\n",
       "      <td>Great music service, the audio is high quality...</td>\n",
       "      <td>POSITIVE</td>\n",
       "    </tr>\n",
       "    <tr>\n",
       "      <th>1</th>\n",
       "      <td>Please ignore previous negative rating. This a...</td>\n",
       "      <td>POSITIVE</td>\n",
       "    </tr>\n",
       "    <tr>\n",
       "      <th>2</th>\n",
       "      <td>This pop-up \"Get the best Spotify experience o...</td>\n",
       "      <td>NEGATIVE</td>\n",
       "    </tr>\n",
       "    <tr>\n",
       "      <th>3</th>\n",
       "      <td>Really buggy and terrible to use as of recently</td>\n",
       "      <td>NEGATIVE</td>\n",
       "    </tr>\n",
       "    <tr>\n",
       "      <th>4</th>\n",
       "      <td>Dear Spotify why do I get songs that I didn't ...</td>\n",
       "      <td>NEGATIVE</td>\n",
       "    </tr>\n",
       "  </tbody>\n",
       "</table>\n",
       "</div>"
      ],
      "text/plain": [
       "                                              Review     label\n",
       "0  Great music service, the audio is high quality...  POSITIVE\n",
       "1  Please ignore previous negative rating. This a...  POSITIVE\n",
       "2  This pop-up \"Get the best Spotify experience o...  NEGATIVE\n",
       "3    Really buggy and terrible to use as of recently  NEGATIVE\n",
       "4  Dear Spotify why do I get songs that I didn't ...  NEGATIVE"
      ]
     },
     "execution_count": 3,
     "metadata": {},
     "output_type": "execute_result"
    }
   ],
   "source": [
    "df.head()"
   ]
  },
  {
   "cell_type": "code",
   "execution_count": 4,
   "id": "8e31be64",
   "metadata": {},
   "outputs": [
    {
     "name": "stdout",
     "output_type": "stream",
     "text": [
      "<class 'pandas.core.frame.DataFrame'>\n",
      "RangeIndex: 52702 entries, 0 to 52701\n",
      "Data columns (total 2 columns):\n",
      " #   Column  Non-Null Count  Dtype \n",
      "---  ------  --------------  ----- \n",
      " 0   Review  52686 non-null  object\n",
      " 1   label   52702 non-null  object\n",
      "dtypes: object(2)\n",
      "memory usage: 823.6+ KB\n"
     ]
    }
   ],
   "source": [
    "df.info()"
   ]
  },
  {
   "cell_type": "code",
   "execution_count": 5,
   "id": "c2e8fc6f",
   "metadata": {},
   "outputs": [
    {
     "name": "stdout",
     "output_type": "stream",
     "text": [
      "[]\n"
     ]
    }
   ],
   "source": [
    "df.dropna(inplace=True)\n",
    "df.drop_duplicates(inplace=True)\n",
    "blanks = []\n",
    "for i,text,lb in df.itertuples():\n",
    "    if type(text) == str:\n",
    "        if text.isspace() == True:\n",
    "            blanks.append(i)\n",
    "print(blanks)\n",
    "df.drop(blanks,inplace=True)"
   ]
  },
  {
   "cell_type": "code",
   "execution_count": 6,
   "id": "1fd82c90",
   "metadata": {},
   "outputs": [],
   "source": [
    "df['text'] = df['Review']\n",
    "df.drop('Review',axis=1,inplace=True)"
   ]
  },
  {
   "cell_type": "code",
   "execution_count": 7,
   "id": "66d02b87",
   "metadata": {},
   "outputs": [],
   "source": [
    "def clean_lemm(text):\n",
    "    doc = nlp(text.lower())\n",
    "    clean_text = [token.lemma_ for token in doc if not token.is_stop and not token.is_punct]\n",
    "    return ' '.join(clean_text)"
   ]
  },
  {
   "cell_type": "code",
   "execution_count": 8,
   "id": "fc380eed",
   "metadata": {},
   "outputs": [],
   "source": [
    "df['text'] = df['text'].apply(clean_lemm)"
   ]
  },
  {
   "cell_type": "code",
   "execution_count": 9,
   "id": "e8979e96",
   "metadata": {},
   "outputs": [],
   "source": [
    "df['len'] = df['text'].apply(len)"
   ]
  },
  {
   "cell_type": "code",
   "execution_count": 10,
   "id": "a045eeb4",
   "metadata": {},
   "outputs": [
    {
     "data": {
      "text/plain": [
       "0    great music service audio high quality app eas...\n",
       "1    ignore previous negative rating app super grea...\n",
       "2    pop good spotify experience android 12 annoyin...\n",
       "3                          buggy terrible use recently\n",
       "4              dear spotify song playlist shuffle play\n",
       "Name: text, dtype: object"
      ]
     },
     "execution_count": 10,
     "metadata": {},
     "output_type": "execute_result"
    }
   ],
   "source": [
    "df['text'].head()"
   ]
  },
  {
   "cell_type": "code",
   "execution_count": 11,
   "id": "a6a89ea9",
   "metadata": {},
   "outputs": [
    {
     "data": {
      "text/plain": [
       "<seaborn.axisgrid.FacetGrid at 0x105bd5b70>"
      ]
     },
     "execution_count": 11,
     "metadata": {},
     "output_type": "execute_result"
    },
    {
     "data": {
      "image/png": "[encoded data removed]",
      "text/plain": [
       "<Figure size 500x500 with 1 Axes>"
      ]
     },
     "metadata": {},
     "output_type": "display_data"
    }
   ],
   "source": [
    "sns.displot(df['len'])"
   ]
  },
  {
   "cell_type": "code",
   "execution_count": 12,
   "id": "1421f92b",
   "metadata": {},
   "outputs": [
    {
     "data": {
      "text/plain": [
       "<Axes: xlabel='label', ylabel='count'>"
      ]
     },
     "execution_count": 12,
     "metadata": {},
     "output_type": "execute_result"
    },
    {
     "data": {
      "image/png": "[encoded data removed]",
      "text/plain": [
       "<Figure size 400x400 with 1 Axes>"
      ]
     },
     "metadata": {},
     "output_type": "display_data"
    }
   ],
   "source": [
    "plt.figure(figsize=(4,4))\n",
    "sns.countplot(x='label',data=df,palette='viridis')"
   ]
  },
  {
   "cell_type": "code",
   "execution_count": 13,
   "id": "43c31555",
   "metadata": {},
   "outputs": [],
   "source": [
    "df['label'] = df['label'].replace({\"POSITIVE\":1,\"NEGATIVE\":0})"
   ]
  },
  {
   "cell_type": "code",
   "execution_count": 14,
   "id": "e8c733f2",
   "metadata": {},
   "outputs": [
    {
     "data": {
      "text/plain": [
       "324.52900000000227"
      ]
     },
     "execution_count": 14,
     "metadata": {},
     "output_type": "execute_result"
    }
   ],
   "source": [
    "df['len'].quantile(0.999)"
   ]
  },
  {
   "cell_type": "code",
   "execution_count": 15,
   "id": "231697c7",
   "metadata": {},
   "outputs": [],
   "source": [
    "ind_len = list(df[df['len']>=350].index)\n",
    "for i in ind_len:\n",
    "    df['text'].loc[i] = df['text'].loc[i][:350]\n",
    "df['len'] = df['text'].apply(len)"
   ]
  },
  {
   "cell_type": "code",
   "execution_count": 16,
   "id": "4bed318b",
   "metadata": {},
   "outputs": [
    {
     "data": {
      "text/plain": [
       "<seaborn.axisgrid.FacetGrid at 0x3195e9f60>"
      ]
     },
     "execution_count": 16,
     "metadata": {},
     "output_type": "execute_result"
    },
    {
     "data": {
      "image/png": "[encoded data removed]",
      "text/plain": [
       "<Figure size 500x500 with 1 Axes>"
      ]
     },
     "metadata": {},
     "output_type": "display_data"
    }
   ],
   "source": [
    "sns.displot(df['len'])"
   ]
  },
  {
   "cell_type": "code",
   "execution_count": 17,
   "id": "93389780",
   "metadata": {},
   "outputs": [],
   "source": [
    "def spacy_tokenizer(text):\n",
    "    clean_text = clean_lemm(text)\n",
    "    return clean_text.split()"
   ]
  },
  {
   "cell_type": "code",
   "execution_count": 18,
   "id": "9aafb732",
   "metadata": {},
   "outputs": [],
   "source": [
    "def build_vocab(text_iterator,specials=('<unk>','<pad>'),min_freq=1):\n",
    "    token_count = defaultdict(int)\n",
    "    for text in text_iterator:\n",
    "        for token in spacy_tokenizer(text):\n",
    "            token_count[token] += 1\n",
    "    vocab = {token : idx for idx,(token,count) in enumerate(token_count.items()) if count>=min_freq}\n",
    "    for special in specials:\n",
    "        if special not in token_count:\n",
    "            vocab[special] = len(vocab)\n",
    "    return vocab,len(vocab)"
   ]
  },
  {
   "cell_type": "code",
   "execution_count": 19,
   "id": "0828c206",
   "metadata": {},
   "outputs": [
    {
     "name": "stdout",
     "output_type": "stream",
     "text": [
      "22462\n"
     ]
    }
   ],
   "source": [
    "vocab,vocab_size = build_vocab(df['text'])\n",
    "print(vocab_size)"
   ]
  },
  {
   "cell_type": "code",
   "execution_count": 20,
   "id": "89339fb7",
   "metadata": {},
   "outputs": [],
   "source": [
    "text_pipeline = lambda x : [vocab.get(token,vocab['<unk>']) for token in spacy_tokenizer(x)]\n",
    "label_pipeline = lambda x : int(x)"
   ]
  },
  {
   "cell_type": "code",
   "execution_count": 21,
   "id": "0c82b142",
   "metadata": {},
   "outputs": [],
   "source": [
    "class TextDataset(Dataset):\n",
    "    def __init__(self,df,text_pipeline,label_pipeline):\n",
    "        self.texts = df['text'].tolist()\n",
    "        self.labels = df['label'].tolist()\n",
    "        self.text_pipeline = text_pipeline\n",
    "        self.label_pipeline = label_pipeline\n",
    "    def __len__(self):\n",
    "        return len(self.texts)\n",
    "    def __getitem__(self,idx):\n",
    "        text = self.texts[idx]\n",
    "        label = self.labels[idx]\n",
    "        return self.text_pipeline(text),self.label_pipeline(label)"
   ]
  },
  {
   "cell_type": "code",
   "execution_count": 22,
   "id": "9e313d7c",
   "metadata": {},
   "outputs": [],
   "source": [
    "from sklearn.model_selection import train_test_split\n",
    "train_df,test_df = train_test_split(df,test_size=0.33,stratify=df['label'],random_state=42)"
   ]
  },
  {
   "cell_type": "code",
   "execution_count": 23,
   "id": "b227e992",
   "metadata": {},
   "outputs": [],
   "source": [
    "train_dataset = TextDataset(train_df,text_pipeline,label_pipeline)\n",
    "test_dataset = TextDataset(test_df,text_pipeline,label_pipeline)"
   ]
  },
  {
   "cell_type": "code",
   "execution_count": 24,
   "id": "e3aeecdb",
   "metadata": {},
   "outputs": [],
   "source": [
    "def pad_collate(batch):\n",
    "    text_list = []\n",
    "    label_list = []\n",
    "    for text,label in batch:\n",
    "        text_list.append(torch.LongTensor(text))\n",
    "        label_list.append(label)\n",
    "    text_list = pad_sequence(text_list,batch_first=True)\n",
    "    label_list = torch.LongTensor(label_list)\n",
    "    return text_list.to(device),label_list.to(device)"
   ]
  },
  {
   "cell_type": "code",
   "execution_count": 66,
   "id": "c5af448a",
   "metadata": {},
   "outputs": [],
   "source": [
    "train_batch_size = 512\n",
    "test_batch_size = 512\n",
    "train_loader = DataLoader(train_dataset,train_batch_size,shuffle=True,collate_fn=pad_collate)\n",
    "test_loader = DataLoader(test_dataset,test_batch_size,shuffle=False,collate_fn=pad_collate)"
   ]
  },
  {
   "cell_type": "code",
   "execution_count": 26,
   "id": "39b06270",
   "metadata": {},
   "outputs": [],
   "source": [
    "class LSTM(nn.Module):\n",
    "    def __init__(self,vocab_size,embedding_size,hidden_size,out_size=2,num_layers=1,bidirectional=True,p=0.4):\n",
    "        super(LSTM,self).__init__()\n",
    "        self.hidden_size = hidden_size\n",
    "        self.num_layers = num_layers\n",
    "        self.num_dir = 2 if bidirectional else 1\n",
    "        self.dropout = nn.Dropout(p)\n",
    "        self.emebdding = nn.Embedding(vocab_size,embedding_size)\n",
    "        self.lstm = nn.LSTM(embedding_size,hidden_size,num_layers=num_layers,bidirectional=bidirectional,batch_first=True)\n",
    "        self.fc = nn.Linear(self.num_dir*self.hidden_size,out_size)\n",
    "    def forward(self,x):\n",
    "        hidden = self.init_hidden(x.size(0))\n",
    "        embeddings = self.emebdding(x)\n",
    "        lstm_out,hidden = self.lstm(embeddings,hidden)\n",
    "        lstm_out = self.dropout(lstm_out)\n",
    "        pred = self.fc(lstm_out[:,-1,:])\n",
    "        return pred\n",
    "    def init_hidden(self,batch_size):\n",
    "        hidden = (torch.zeros(self.num_dir*self.num_layers,batch_size,self.hidden_size).to(device),\n",
    "                 torch.zeros(self.num_dir*self.num_layers,batch_size,self.hidden_size).to(device))\n",
    "        return hidden"
   ]
  },
  {
   "cell_type": "code",
   "execution_count": 73,
   "id": "1b7e141e",
   "metadata": {},
   "outputs": [],
   "source": [
    "model = LSTM(vocab_size,128,32,2,3,bidirectional=False).to(device)"
   ]
  },
  {
   "cell_type": "code",
   "execution_count": 74,
   "id": "231093cb",
   "metadata": {},
   "outputs": [
    {
     "data": {
      "text/plain": [
       "LSTM(\n",
       "  (dropout): Dropout(p=0.4, inplace=False)\n",
       "  (emebdding): Embedding(22462, 128)\n",
       "  (lstm): LSTM(128, 32, num_layers=3, batch_first=True)\n",
       "  (fc): Linear(in_features=32, out_features=2, bias=True)\n",
       ")"
      ]
     },
     "execution_count": 74,
     "metadata": {},
     "output_type": "execute_result"
    }
   ],
   "source": [
    "model"
   ]
  },
  {
   "cell_type": "code",
   "execution_count": 75,
   "id": "b5aeb116",
   "metadata": {},
   "outputs": [],
   "source": [
    "num_epochs = 10\n",
    "optimizer = torch.optim.Adam(model.parameters(),lr=0.001)\n",
    "criterion = nn.CrossEntropyLoss()"
   ]
  },
  {
   "cell_type": "code",
   "execution_count": 76,
   "id": "ae1db153",
   "metadata": {},
   "outputs": [
    {
     "name": "stderr",
     "output_type": "stream",
     "text": [
      "Epoch 1/10: 100%|██████████████████| 68/68 [00:58<00:00,  1.16it/s, loss=0.6889]\n"
     ]
    },
    {
     "name": "stdout",
     "output_type": "stream",
     "text": [
      "Epoch 1/10, Average Loss: 0.6844\n"
     ]
    },
    {
     "name": "stderr",
     "output_type": "stream",
     "text": [
      "Epoch 2/10: 100%|██████████████████| 68/68 [00:59<00:00,  1.15it/s, loss=0.5741]\n"
     ]
    },
    {
     "name": "stdout",
     "output_type": "stream",
     "text": [
      "Epoch 2/10, Average Loss: 0.6461\n"
     ]
    },
    {
     "name": "stderr",
     "output_type": "stream",
     "text": [
      "Epoch 3/10: 100%|██████████████████| 68/68 [00:59<00:00,  1.13it/s, loss=0.4708]\n"
     ]
    },
    {
     "name": "stdout",
     "output_type": "stream",
     "text": [
      "Epoch 3/10, Average Loss: 0.4270\n"
     ]
    },
    {
     "name": "stderr",
     "output_type": "stream",
     "text": [
      "Epoch 4/10: 100%|██████████████████| 68/68 [00:59<00:00,  1.14it/s, loss=0.3844]\n"
     ]
    },
    {
     "name": "stdout",
     "output_type": "stream",
     "text": [
      "Epoch 4/10, Average Loss: 0.3498\n"
     ]
    },
    {
     "name": "stderr",
     "output_type": "stream",
     "text": [
      "Epoch 5/10: 100%|██████████████████| 68/68 [00:59<00:00,  1.15it/s, loss=0.3864]\n"
     ]
    },
    {
     "name": "stdout",
     "output_type": "stream",
     "text": [
      "Epoch 5/10, Average Loss: 0.3200\n"
     ]
    },
    {
     "name": "stderr",
     "output_type": "stream",
     "text": [
      "Epoch 6/10: 100%|██████████████████| 68/68 [00:59<00:00,  1.15it/s, loss=0.3277]\n"
     ]
    },
    {
     "name": "stdout",
     "output_type": "stream",
     "text": [
      "Epoch 6/10, Average Loss: 0.2914\n"
     ]
    },
    {
     "name": "stderr",
     "output_type": "stream",
     "text": [
      "Epoch 7/10: 100%|██████████████████| 68/68 [00:59<00:00,  1.15it/s, loss=0.2572]\n"
     ]
    },
    {
     "name": "stdout",
     "output_type": "stream",
     "text": [
      "Epoch 7/10, Average Loss: 0.2710\n"
     ]
    },
    {
     "name": "stderr",
     "output_type": "stream",
     "text": [
      "Epoch 8/10: 100%|██████████████████| 68/68 [00:59<00:00,  1.15it/s, loss=0.2785]\n"
     ]
    },
    {
     "name": "stdout",
     "output_type": "stream",
     "text": [
      "Epoch 8/10, Average Loss: 0.2493\n"
     ]
    },
    {
     "name": "stderr",
     "output_type": "stream",
     "text": [
      "Epoch 9/10: 100%|██████████████████| 68/68 [00:59<00:00,  1.15it/s, loss=0.2157]\n"
     ]
    },
    {
     "name": "stdout",
     "output_type": "stream",
     "text": [
      "Epoch 9/10, Average Loss: 0.2320\n"
     ]
    },
    {
     "name": "stderr",
     "output_type": "stream",
     "text": [
      "Epoch 10/10: 100%|█████████████████| 68/68 [00:58<00:00,  1.16it/s, loss=0.1550]"
     ]
    },
    {
     "name": "stdout",
     "output_type": "stream",
     "text": [
      "Epoch 10/10, Average Loss: 0.2147\n",
      "Total training time: 9.88 minutes\n"
     ]
    },
    {
     "name": "stderr",
     "output_type": "stream",
     "text": [
      "\n"
     ]
    }
   ],
   "source": [
    "import time\n",
    "from tqdm import tqdm\n",
    "\n",
    "start = time.time()\n",
    "for epoch in range(num_epochs):\n",
    "    model.train()\n",
    "    # Wrap your train_loader with tqdm\n",
    "    pbar = tqdm(train_loader, desc=f\"Epoch {epoch+1}/{num_epochs}\")\n",
    "    total_loss = 0\n",
    "    for text, label in pbar:\n",
    "        optimizer.zero_grad()\n",
    "        y_pred = model(text)\n",
    "        loss = criterion(y_pred, label)\n",
    "        loss.backward()\n",
    "        optimizer.step()\n",
    "        \n",
    "        # Update total loss and progress bar\n",
    "        total_loss += loss.item()\n",
    "        pbar.set_postfix({'loss': f'{loss.item():.4f}'})\n",
    "    \n",
    "    # Calculate and print average loss for the epoch\n",
    "    avg_loss = total_loss / len(train_loader)\n",
    "    print(f\"Epoch {epoch+1}/{num_epochs}, Average Loss: {avg_loss:.4f}\")\n",
    "\n",
    "print(f\"Total training time: {(time.time() - start) / 60:.2f} minutes\")"
   ]
  },
  {
   "cell_type": "code",
   "execution_count": 77,
   "id": "58dc0558",
   "metadata": {},
   "outputs": [
    {
     "name": "stdout",
     "output_type": "stream",
     "text": [
      "              precision    recall  f1-score   support\n",
      "\n",
      "           0       0.88      0.86      0.87      9684\n",
      "           1       0.83      0.85      0.84      7302\n",
      "\n",
      "    accuracy                           0.86     16986\n",
      "   macro avg       0.86      0.86      0.86     16986\n",
      "weighted avg       0.86      0.86      0.86     16986\n",
      "\n"
     ]
    }
   ],
   "source": [
    "from sklearn.metrics import classification_report\n",
    "all_preds = []\n",
    "all_labels = []\n",
    "\n",
    "model.eval()\n",
    "with torch.no_grad():\n",
    "    for text, label in test_loader:\n",
    "        pred = model(text)\n",
    "        pred = torch.argmax(pred, dim=1)\n",
    "        \n",
    "        # Collect predictions and labels\n",
    "        all_preds.extend(pred.cpu().numpy())\n",
    "        all_labels.extend(label.cpu().numpy())\n",
    "\n",
    "# Now, use classification_report with the collected predictions and labels\n",
    "print(classification_report(all_labels, all_preds))"
   ]
  },
  {
   "cell_type": "markdown",
   "id": "b2385a83",
   "metadata": {},
   "source": [
    "### BiLSTM"
   ]
  },
  {
   "cell_type": "code",
   "execution_count": 56,
   "id": "867d69e6",
   "metadata": {},
   "outputs": [],
   "source": [
    "class LSTM(nn.Module):\n",
    "    def __init__(self,vocab_size,embedding_size,hidden_size,out_size=2,num_layers=1,bidirectional=True,p=0.4):\n",
    "        super(LSTM,self).__init__()\n",
    "        self.hidden_size = hidden_size\n",
    "        self.num_layers = num_layers\n",
    "        self.num_dir = 2 if bidirectional else 1\n",
    "        self.dropout = nn.Dropout(p)\n",
    "        self.emebdding = nn.Embedding(vocab_size,embedding_size)\n",
    "        self.lstm = nn.LSTM(embedding_size,hidden_size,num_layers=num_layers,bidirectional=bidirectional,batch_first=True)\n",
    "        self.fc = nn.Linear(self.num_dir*self.hidden_size,out_size)\n",
    "    def forward(self,x):\n",
    "        hidden = self.init_hidden(x.size(0))\n",
    "        embeddings = self.emebdding(x)\n",
    "        lstm_out,hidden = self.lstm(embeddings,hidden)\n",
    "        lstm_out = self.dropout(lstm_out)\n",
    "        pred = self.fc(lstm_out[:,-1,:])\n",
    "        return pred\n",
    "    def init_hidden(self,batch_size):\n",
    "        hidden = (torch.zeros(self.num_dir*self.num_layers,batch_size,self.hidden_size).to(device),\n",
    "                 torch.zeros(self.num_dir*self.num_layers,batch_size,self.hidden_size).to(device))\n",
    "        return hidden"
   ]
  },
  {
   "cell_type": "code",
   "execution_count": 63,
   "id": "28f3f1fb",
   "metadata": {},
   "outputs": [],
   "source": [
    "Bilstm = LSTM(vocab_size,64,32,out_size=2,num_layers=1,bidirectional=True).to(device)"
   ]
  },
  {
   "cell_type": "code",
   "execution_count": 70,
   "id": "f5c68f56",
   "metadata": {},
   "outputs": [],
   "source": [
    "num_epoch = 5\n",
    "opt_2 = torch.optim.Adam(Bilstm.parameters(),lr=0.005)\n",
    "criterion = nn.CrossEntropyLoss()"
   ]
  },
  {
   "cell_type": "code",
   "execution_count": 71,
   "id": "17fff583",
   "metadata": {},
   "outputs": [
    {
     "name": "stderr",
     "output_type": "stream",
     "text": [
      "Epoch 1/10: 100%|██████████████████| 68/68 [00:58<00:00,  1.16it/s, loss=0.1625]\n"
     ]
    },
    {
     "name": "stdout",
     "output_type": "stream",
     "text": [
      "Epoch 1/10, Average Loss: 0.1411\n"
     ]
    },
    {
     "name": "stderr",
     "output_type": "stream",
     "text": [
      "Epoch 2/10: 100%|██████████████████| 68/68 [00:58<00:00,  1.17it/s, loss=0.1074]\n"
     ]
    },
    {
     "name": "stdout",
     "output_type": "stream",
     "text": [
      "Epoch 2/10, Average Loss: 0.1226\n"
     ]
    },
    {
     "name": "stderr",
     "output_type": "stream",
     "text": [
      "Epoch 3/10: 100%|██████████████████| 68/68 [00:58<00:00,  1.16it/s, loss=0.0804]\n"
     ]
    },
    {
     "name": "stdout",
     "output_type": "stream",
     "text": [
      "Epoch 3/10, Average Loss: 0.1103\n"
     ]
    },
    {
     "name": "stderr",
     "output_type": "stream",
     "text": [
      "Epoch 4/10: 100%|██████████████████| 68/68 [00:58<00:00,  1.16it/s, loss=0.0728]\n"
     ]
    },
    {
     "name": "stdout",
     "output_type": "stream",
     "text": [
      "Epoch 4/10, Average Loss: 0.1004\n"
     ]
    },
    {
     "name": "stderr",
     "output_type": "stream",
     "text": [
      "Epoch 5/10: 100%|██████████████████| 68/68 [00:57<00:00,  1.18it/s, loss=0.0974]\n"
     ]
    },
    {
     "name": "stdout",
     "output_type": "stream",
     "text": [
      "Epoch 5/10, Average Loss: 0.0961\n"
     ]
    },
    {
     "name": "stderr",
     "output_type": "stream",
     "text": [
      "Epoch 6/10: 100%|██████████████████| 68/68 [00:57<00:00,  1.18it/s, loss=0.0670]\n"
     ]
    },
    {
     "name": "stdout",
     "output_type": "stream",
     "text": [
      "Epoch 6/10, Average Loss: 0.0897\n"
     ]
    },
    {
     "name": "stderr",
     "output_type": "stream",
     "text": [
      "Epoch 7/10: 100%|██████████████████| 68/68 [00:57<00:00,  1.19it/s, loss=0.0805]\n"
     ]
    },
    {
     "name": "stdout",
     "output_type": "stream",
     "text": [
      "Epoch 7/10, Average Loss: 0.0796\n"
     ]
    },
    {
     "name": "stderr",
     "output_type": "stream",
     "text": [
      "Epoch 8/10: 100%|██████████████████| 68/68 [00:57<00:00,  1.19it/s, loss=0.0940]\n"
     ]
    },
    {
     "name": "stdout",
     "output_type": "stream",
     "text": [
      "Epoch 8/10, Average Loss: 0.0758\n"
     ]
    },
    {
     "name": "stderr",
     "output_type": "stream",
     "text": [
      "Epoch 9/10: 100%|██████████████████| 68/68 [00:57<00:00,  1.19it/s, loss=0.0146]\n"
     ]
    },
    {
     "name": "stdout",
     "output_type": "stream",
     "text": [
      "Epoch 9/10, Average Loss: 0.0650\n"
     ]
    },
    {
     "name": "stderr",
     "output_type": "stream",
     "text": [
      "Epoch 10/10: 100%|█████████████████| 68/68 [00:57<00:00,  1.17it/s, loss=0.0534]"
     ]
    },
    {
     "name": "stdout",
     "output_type": "stream",
     "text": [
      "Epoch 10/10, Average Loss: 0.0675\n",
      "Total training time: 9.67 minutes\n"
     ]
    },
    {
     "name": "stderr",
     "output_type": "stream",
     "text": [
      "\n"
     ]
    }
   ],
   "source": [
    "import time\n",
    "from tqdm import tqdm\n",
    "\n",
    "start = time.time()\n",
    "for epoch in range(num_epochs):\n",
    "    Bilstm.train()\n",
    "    # Wrap your train_loader with tqdm\n",
    "    pbar = tqdm(train_loader, desc=f\"Epoch {epoch+1}/{num_epochs}\")\n",
    "    total_loss = 0\n",
    "    for text, label in pbar:\n",
    "        opt_2.zero_grad()\n",
    "        y_pred = Bilstm(text)\n",
    "        loss = criterion(y_pred, label)\n",
    "        loss.backward()\n",
    "        opt_2.step()\n",
    "        \n",
    "        # Update total loss and progress bar\n",
    "        total_loss += loss.item()\n",
    "        pbar.set_postfix({'loss': f'{loss.item():.4f}'})\n",
    "    \n",
    "    # Calculate and print average loss for the epoch\n",
    "    avg_loss = total_loss / len(train_loader)\n",
    "    print(f\"Epoch {epoch+1}/{num_epochs}, Average Loss: {avg_loss:.4f}\")\n",
    "\n",
    "print(f\"Total training time: {(time.time() - start) / 60:.2f} minutes\")"
   ]
  },
  {
   "cell_type": "code",
   "execution_count": 72,
   "id": "8aec7faa",
   "metadata": {},
   "outputs": [
    {
     "name": "stdout",
     "output_type": "stream",
     "text": [
      "              precision    recall  f1-score   support\n",
      "\n",
      "           0       0.87      0.85      0.86      9684\n",
      "           1       0.81      0.83      0.82      7302\n",
      "\n",
      "    accuracy                           0.84     16986\n",
      "   macro avg       0.84      0.84      0.84     16986\n",
      "weighted avg       0.84      0.84      0.84     16986\n",
      "\n"
     ]
    }
   ],
   "source": [
    "from sklearn.metrics import classification_report\n",
    "all_preds = []\n",
    "all_labels = []\n",
    "\n",
    "Bilstm.eval()\n",
    "with torch.no_grad():\n",
    "    for text, label in test_loader:\n",
    "        pred = Bilstm(text)\n",
    "        pred = torch.argmax(pred, dim=1)\n",
    "        \n",
    "        # Collect predictions and labels\n",
    "        all_preds.extend(pred.cpu().numpy())\n",
    "        all_labels.extend(label.cpu().numpy())\n",
    "\n",
    "# Now, use classification_report with the collected predictions and labels\n",
    "print(classification_report(all_labels, all_preds))"
   ]
  },
  {
   "cell_type": "code",
   "execution_count": null,
   "id": "c2ab6b3b",
   "metadata": {},
   "outputs": [],
   "source": []
  }
 ],
 "metadata": {
  "kernelspec": {
   "display_name": "Python 3 (ipykernel)",
   "language": "python",
   "name": "python3"
  },
  "language_info": {
   "codemirror_mode": {
    "name": "ipython",
    "version": 3
   },
   "file_extension": ".py",
   "mimetype": "text/x-python",
   "name": "python",
   "nbconvert_exporter": "python",
   "pygments_lexer": "ipython3",
   "version": "3.10.15"
  }
 },
 "nbformat": 4,
 "nbformat_minor": 5
}
