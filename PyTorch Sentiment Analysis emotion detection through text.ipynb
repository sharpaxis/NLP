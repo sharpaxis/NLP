{
 "cells": [
  {
   "cell_type": "code",
   "execution_count": 48,
   "id": "25200449",
   "metadata": {},
   "outputs": [],
   "source": [
    "#basic imports\n",
    "import numpy as np\n",
    "import pandas as pd\n",
    "import matplotlib.pyplot as plt\n",
    "import seaborn as sns\n",
    "import spacy\n",
    "import torch\n",
    "import torch.nn as nn\n",
    "import torch.nn.functional as F\n",
    "from torch.nn.utils.rnn import pad_sequence\n",
    "from torch.utils.data import Dataset,DataLoader\n",
    "from collections import defaultdict\n",
    "from sklearn.feature_extraction.text import TfidfVectorizer\n",
    "from sklearn.metrics import classification_report\n",
    "from sklearn.tree import DecisionTreeClassifier\n",
    "from sklearn.ensemble import RandomForestClassifier\n",
    "from sklearn.svm import SVC\n",
    "from sklearn.naive_bayes import MultinomialNB\n",
    "import warnings\n",
    "warnings.filterwarnings('ignore')\n",
    "from collections import defaultdict\n",
    "from sklearn.model_selection import train_test_split\n",
    "device = torch.device(\"mps\")\n",
    "import time\n",
    "from sklearn.metrics import classification_report,accuracy_score\n",
    "from tqdm import tqdm"
   ]
  },
  {
   "cell_type": "code",
   "execution_count": 2,
   "id": "deea3972",
   "metadata": {},
   "outputs": [],
   "source": [
    "df = pd.read_csv('/Users/aadityajoshi/Downloads/text.csv',index_col=0)\n",
    "df = df.sample(frac=0.25)"
   ]
  },
  {
   "cell_type": "code",
   "execution_count": 3,
   "id": "5d23584a",
   "metadata": {},
   "outputs": [
    {
     "data": {
      "text/html": [
       "<div>\n",
       "<style scoped>\n",
       "    .dataframe tbody tr th:only-of-type {\n",
       "        vertical-align: middle;\n",
       "    }\n",
       "\n",
       "    .dataframe tbody tr th {\n",
       "        vertical-align: top;\n",
       "    }\n",
       "\n",
       "    .dataframe thead th {\n",
       "        text-align: right;\n",
       "    }\n",
       "</style>\n",
       "<table border=\"1\" class=\"dataframe\">\n",
       "  <thead>\n",
       "    <tr style=\"text-align: right;\">\n",
       "      <th></th>\n",
       "      <th>text</th>\n",
       "      <th>label</th>\n",
       "    </tr>\n",
       "  </thead>\n",
       "  <tbody>\n",
       "    <tr>\n",
       "      <th>138798</th>\n",
       "      <td>im still feeling positive</td>\n",
       "      <td>1</td>\n",
       "    </tr>\n",
       "    <tr>\n",
       "      <th>140720</th>\n",
       "      <td>i also loved the feeling of that gentle rippli...</td>\n",
       "      <td>2</td>\n",
       "    </tr>\n",
       "    <tr>\n",
       "      <th>368862</th>\n",
       "      <td>i feel like i will be getting a superior pork ...</td>\n",
       "      <td>1</td>\n",
       "    </tr>\n",
       "    <tr>\n",
       "      <th>326771</th>\n",
       "      <td>i hate feeling regretful</td>\n",
       "      <td>0</td>\n",
       "    </tr>\n",
       "    <tr>\n",
       "      <th>336056</th>\n",
       "      <td>i just feel so blessed</td>\n",
       "      <td>1</td>\n",
       "    </tr>\n",
       "  </tbody>\n",
       "</table>\n",
       "</div>"
      ],
      "text/plain": [
       "                                                     text  label\n",
       "138798                          im still feeling positive      1\n",
       "140720  i also loved the feeling of that gentle rippli...      2\n",
       "368862  i feel like i will be getting a superior pork ...      1\n",
       "326771                           i hate feeling regretful      0\n",
       "336056                             i just feel so blessed      1"
      ]
     },
     "execution_count": 3,
     "metadata": {},
     "output_type": "execute_result"
    }
   ],
   "source": [
    "#Six categories: sadness (0), joy (1), love (2), anger (3), fear (4), and surprise (5).\n",
    "df.head()"
   ]
  },
  {
   "cell_type": "code",
   "execution_count": 4,
   "id": "7e3296a8",
   "metadata": {},
   "outputs": [
    {
     "name": "stdout",
     "output_type": "stream",
     "text": [
      "<class 'pandas.core.frame.DataFrame'>\n",
      "Index: 104202 entries, 138798 to 346108\n",
      "Data columns (total 2 columns):\n",
      " #   Column  Non-Null Count   Dtype \n",
      "---  ------  --------------   ----- \n",
      " 0   text    104202 non-null  object\n",
      " 1   label   104202 non-null  int64 \n",
      "dtypes: int64(1), object(1)\n",
      "memory usage: 2.4+ MB\n"
     ]
    }
   ],
   "source": [
    "df.info()"
   ]
  },
  {
   "cell_type": "code",
   "execution_count": 5,
   "id": "63a593fc",
   "metadata": {},
   "outputs": [
    {
     "data": {
      "text/plain": [
       "[]"
      ]
     },
     "execution_count": 5,
     "metadata": {},
     "output_type": "execute_result"
    }
   ],
   "source": [
    "#drop blanks and duplicates\n",
    "df.drop_duplicates(inplace=True)\n",
    "df.dropna(inplace=True)\n",
    "blanks = []\n",
    "for i,txt,lb in df.itertuples():\n",
    "    if type(txt) == str:\n",
    "        if txt.isspace() == True:\n",
    "            blanks.append(i)\n",
    "blanks"
   ]
  },
  {
   "cell_type": "markdown",
   "id": "8c6c5fa7",
   "metadata": {},
   "source": [
    "### Exploring text from each emotion"
   ]
  },
  {
   "cell_type": "code",
   "execution_count": 6,
   "id": "53572272",
   "metadata": {},
   "outputs": [
    {
     "name": "stdout",
     "output_type": "stream",
     "text": [
      "Sadness \n",
      "\n",
      "i hate feeling regretful\n",
      "i don t know why but after that night i didn t feel so hopeless anymore\n",
      "\n",
      "\n",
      "Joy \n",
      "\n",
      "im still feeling positive\n",
      "i feel like i will be getting a superior pork product and bringing attention to neat breed\n",
      "\n",
      "\n",
      "Love \n",
      "\n",
      "i also loved the feeling of that gentle rippling through the body when i floated in water it was a bonus having friends with pools growing up in australia\n",
      "i was feeling pret t y tender let me tell you\n",
      "\n",
      "\n",
      "Anger \n",
      "\n",
      "i was standing in a mumu outside my compound poking at a smoldering pile of trash with a stick being told by outsiders that i need to change what i m doing and feeling resentful as they drove away\n",
      "i feel insulted as if he feels he doesn t have to work for my money anymore he can put out anything people will buy it and radio will find something to play just because its him\n",
      "\n",
      "\n",
      "Fear \n",
      "\n",
      "i feel alarmed about his symptoms\n",
      "i dont know why i feel less anxious when less people know about my tiny growing one but i do\n",
      "\n",
      "\n",
      "Suprise \n",
      "\n",
      "i feel a strange serenity about it all\n",
      "i feel amazing right now and i got just as good a work out as i could on land\n",
      "\n",
      "\n"
     ]
    }
   ],
   "source": [
    "em_dict = { \"Sadness\":0, \"Joy\" :1,\"Love\":2, \"Anger\":3, \"Fear\":4,\"Suprise\":5}\n",
    "for k,v in em_dict.items():\n",
    "    print(f\"{k}\",\"\\n\")\n",
    "    for i in df[df['label'] == v]['text'][:2]:\n",
    "        print(i)\n",
    "    print(\"\\n\")"
   ]
  },
  {
   "cell_type": "code",
   "execution_count": 7,
   "id": "a529e1be",
   "metadata": {},
   "outputs": [
    {
     "data": {
      "text/plain": [
       "<Axes: xlabel='label', ylabel='count'>"
      ]
     },
     "execution_count": 7,
     "metadata": {},
     "output_type": "execute_result"
    },
    {
     "data": {
      "image/png": "[encoded data removed]",
      "text/plain": [
       "<Figure size 640x480 with 1 Axes>"
      ]
     },
     "metadata": {},
     "output_type": "display_data"
    }
   ],
   "source": [
    "sns.countplot(x='label',data=df,palette='winter')"
   ]
  },
  {
   "cell_type": "code",
   "execution_count": 15,
   "id": "ab6b5aee",
   "metadata": {},
   "outputs": [],
   "source": [
    "nlp = spacy.load('en_core_web_sm')\n",
    "def clean_lemm(text):\n",
    "    doc = nlp(text.lower())\n",
    "    clean_text = [token.lemma_ for token in doc if not token.is_stop and not token.is_punct]\n",
    "    return ' '.join(clean_text)"
   ]
  },
  {
   "cell_type": "code",
   "execution_count": 16,
   "id": "af668ddc",
   "metadata": {},
   "outputs": [],
   "source": [
    "df['text'] = df['text'].apply(clean_lemm)"
   ]
  },
  {
   "cell_type": "code",
   "execution_count": 30,
   "id": "a6a395eb",
   "metadata": {},
   "outputs": [],
   "source": [
    "df['len'] = df['text'].apply(len)"
   ]
  },
  {
   "cell_type": "code",
   "execution_count": 31,
   "id": "a0583514",
   "metadata": {},
   "outputs": [
    {
     "data": {
      "text/plain": [
       "<seaborn.axisgrid.FacetGrid at 0x179500100>"
      ]
     },
     "execution_count": 31,
     "metadata": {},
     "output_type": "execute_result"
    },
    {
     "data": {
      "image/png": "[encoded data removed]",
      "text/plain": [
       "<Figure size 500x500 with 1 Axes>"
      ]
     },
     "metadata": {},
     "output_type": "display_data"
    }
   ],
   "source": [
    "sns.displot(df['len'])"
   ]
  },
  {
   "cell_type": "markdown",
   "id": "fce3d956",
   "metadata": {},
   "source": [
    "### Tfidf"
   ]
  },
  {
   "cell_type": "code",
   "execution_count": 19,
   "id": "a9509ec8",
   "metadata": {},
   "outputs": [],
   "source": [
    "tfidf = TfidfVectorizer(max_features=7500)\n",
    "X = df['text']\n",
    "y = df['label']\n",
    "X_train,X_test,y_train,y_test = train_test_split(X,y,test_size=0.2)\n",
    "X_train = tfidf.fit_transform(X_train).toarray()\n",
    "X_test = tfidf.transform(X_test).toarray()"
   ]
  },
  {
   "cell_type": "code",
   "execution_count": 87,
   "id": "44155302",
   "metadata": {},
   "outputs": [
    {
     "name": "stdout",
     "output_type": "stream",
     "text": [
      "              precision    recall  f1-score   support\n",
      "\n",
      "           0       0.86      0.87      0.87      6092\n",
      "           1       0.86      0.86      0.86      7059\n",
      "           2       0.71      0.67      0.69      1748\n",
      "           3       0.82      0.84      0.83      2794\n",
      "           4       0.80      0.81      0.80      2430\n",
      "           5       0.68      0.67      0.68       708\n",
      "\n",
      "    accuracy                           0.83     20831\n",
      "   macro avg       0.79      0.79      0.79     20831\n",
      "weighted avg       0.83      0.83      0.83     20831\n",
      "\n",
      "accuracy : 0.8322692141519851\n",
      "9.892061618963877 mins\n"
     ]
    }
   ],
   "source": [
    "dtree = DecisionTreeClassifier()\n",
    "start = time.time()\n",
    "dtree.fit(X_train,y_train)\n",
    "pred_dtree = dtree.predict(X_test)\n",
    "print(classification_report(y_test,pred_dtree))\n",
    "print(f\"accuracy : {accuracy_score(y_test,pred_dtree)}\")\n",
    "print(f\"{(time.time()-start)/60} mins\")"
   ]
  },
  {
   "cell_type": "code",
   "execution_count": 108,
   "id": "c3043acd",
   "metadata": {},
   "outputs": [
    {
     "name": "stdout",
     "output_type": "stream",
     "text": [
      "              precision    recall  f1-score   support\n",
      "\n",
      "           0       0.91      0.91      0.91      6092\n",
      "           1       0.88      0.90      0.89      7059\n",
      "           2       0.78      0.67      0.72      1748\n",
      "           3       0.86      0.87      0.86      2794\n",
      "           4       0.82      0.84      0.83      2430\n",
      "           5       0.70      0.70      0.70       708\n",
      "\n",
      "    accuracy                           0.86     20831\n",
      "   macro avg       0.82      0.81      0.82     20831\n",
      "weighted avg       0.86      0.86      0.86     20831\n",
      "\n",
      "accuracy : 0.8644808218520474\n",
      "Training Time : 10.472678049405415 mins\n"
     ]
    }
   ],
   "source": [
    "rfc = RandomForestClassifier()\n",
    "start = time.time()\n",
    "rfc.fit(X_train,y_train)\n",
    "pred_rfc = rfc.predict(X_test)\n",
    "print(classification_report(y_test,pred_rfc))\n",
    "print(f\"accuracy : {accuracy_score(y_test,pred_rfc)}\")\n",
    "print(f\"Training Time : {(time.time()-start)/60} mins\")"
   ]
  },
  {
   "cell_type": "code",
   "execution_count": 28,
   "id": "baa0fe7b",
   "metadata": {},
   "outputs": [
    {
     "name": "stdout",
     "output_type": "stream",
     "text": [
      "              precision    recall  f1-score   support\n",
      "\n",
      "           0       0.81      0.93      0.86      6053\n",
      "           1       0.76      0.97      0.85      6996\n",
      "           2       0.96      0.36      0.52      1723\n",
      "           3       0.93      0.74      0.82      2960\n",
      "           4       0.90      0.67      0.77      2374\n",
      "           5       0.99      0.22      0.37       725\n",
      "\n",
      "    accuracy                           0.81     20831\n",
      "   macro avg       0.89      0.65      0.70     20831\n",
      "weighted avg       0.84      0.81      0.80     20831\n",
      "\n",
      "accuracy : 0.814075176419759\n",
      "Training Time : 0.058521366119384764 mins\n"
     ]
    }
   ],
   "source": [
    "nb = MultinomialNB()\n",
    "start = time.time()\n",
    "nb.fit(X_train,y_train)\n",
    "pred_nb = nb.predict(X_test)\n",
    "print(classification_report(y_test,pred_nb))\n",
    "print(f\"accuracy : {accuracy_score(y_test,pred_nb)}\")\n",
    "print(f\"Training Time : {(time.time()-start)/60} mins\")"
   ]
  },
  {
   "cell_type": "markdown",
   "id": "5d4d9307",
   "metadata": {},
   "source": [
    "### ANN with tfidf"
   ]
  },
  {
   "cell_type": "code",
   "execution_count": 58,
   "id": "8ef1d8ae",
   "metadata": {},
   "outputs": [
    {
     "data": {
      "text/plain": [
       "(83323, 7500)"
      ]
     },
     "execution_count": 58,
     "metadata": {},
     "output_type": "execute_result"
    }
   ],
   "source": [
    "X_train.shape"
   ]
  },
  {
   "cell_type": "code",
   "execution_count": 61,
   "id": "1e290b37",
   "metadata": {},
   "outputs": [],
   "source": [
    "class Model(nn.Module):\n",
    "    def __init__(self,embedding_dim,h1=128,h2=64,h3=32,h4=16,out=6,dropout=0.2):\n",
    "        super(Model,self).__init__()\n",
    "        self.fc1 = nn.Linear(embedding_dim,h1)\n",
    "        self.bn1 = nn.BatchNorm1d(h1)\n",
    "        self.fc2 = nn.Linear(h1,h2)\n",
    "        self.bn2 = nn.BatchNorm1d(h2)\n",
    "        self.fc3 = nn.Linear(h2,h3)\n",
    "        self.bn3 = nn.BatchNorm1d(h3)\n",
    "        self.fc4 = nn.Linear(h3,h4)\n",
    "        self.bn4 = nn.BatchNorm1d(h4)\n",
    "        self.out = nn.Linear(h4,out)\n",
    "        self.dropout = nn.Dropout(dropout)\n",
    "    def forward(self,x):\n",
    "        x = self.fc1(x)\n",
    "        x = F.relu(self.bn1(x))\n",
    "        x = self.dropout(x)\n",
    "        x = self.fc2(x)\n",
    "        x = F.relu(self.bn2(x))\n",
    "        x = self.dropout(x)\n",
    "        x = self.fc3(x)\n",
    "        x = F.relu(self.bn3(x))\n",
    "        x = self.dropout(x)\n",
    "        x = self.fc4(x)\n",
    "        x = F.relu(self.bn4(x))\n",
    "        x = self.dropout(x)\n",
    "        x = self.out(x)\n",
    "        return F.log_softmax(x,dim=1)"
   ]
  },
  {
   "cell_type": "code",
   "execution_count": 94,
   "id": "cee4b93e",
   "metadata": {},
   "outputs": [],
   "source": [
    "model = Model(X_train.shape[1],dropout=0.4).to(device)"
   ]
  },
  {
   "cell_type": "code",
   "execution_count": 95,
   "id": "f7311670",
   "metadata": {},
   "outputs": [],
   "source": [
    "num_epochs = 500\n",
    "optimizer_tf_ann = torch.optim.Adam(model.parameters(),lr=0.001)\n",
    "criterion = nn.CrossEntropyLoss()"
   ]
  },
  {
   "cell_type": "code",
   "execution_count": null,
   "id": "8f799b31",
   "metadata": {},
   "outputs": [
    {
     "name": "stdout",
     "output_type": "stream",
     "text": [
      "epoch : 50 loss : 0.989723265171051\n",
      "epoch : 100 loss : 0.6763586401939392\n",
      "epoch : 150 loss : 0.5017480254173279\n",
      "epoch : 200 loss : 0.40175798535346985\n",
      "epoch : 250 loss : 0.3399790823459625\n"
     ]
    }
   ],
   "source": [
    "for epoch in range(num_epochs):\n",
    "    y_pred = model(X_train)\n",
    "    loss = criterion(y_pred,y_train)\n",
    "    optimizer_tf_ann.zero_grad()\n",
    "    loss.backward()\n",
    "    optimizer_tf_ann.step()\n",
    "    if (epoch+1) % 50 == 0:\n",
    "        print(f\"epoch : {epoch+1} loss : {loss.item()}\")"
   ]
  },
  {
   "cell_type": "code",
   "execution_count": null,
   "id": "9a6c5f45",
   "metadata": {},
   "outputs": [],
   "source": [
    "model.eval()\n",
    "with torch.no_grad():\n",
    "    y_val = model(X_test)\n",
    "#y_test = y_test.cpu().numpy()\n",
    "y_val = torch.argmax(y_val,axis=1).cpu().numpy()\n",
    "print(classification_report(y_test,y_val))"
   ]
  },
  {
   "cell_type": "code",
   "execution_count": 29,
   "id": "a5d46ba1",
   "metadata": {},
   "outputs": [],
   "source": [
    "ind_len = list(df[df['len'] >= 150].index)\n",
    "for i in ind_len:\n",
    "    df['text'].loc[i] = df['text'].loc[i][:150]"
   ]
  },
  {
   "cell_type": "code",
   "execution_count": 32,
   "id": "b79546cf",
   "metadata": {},
   "outputs": [],
   "source": [
    "#create vocab\n",
    "def spacy_tokenizer(text):\n",
    "    clean_text = clean_lemm(text)\n",
    "    return clean_text.split()"
   ]
  },
  {
   "cell_type": "code",
   "execution_count": 33,
   "id": "3e63cac9",
   "metadata": {},
   "outputs": [],
   "source": [
    "def create_vocab(text_iterator,specials=(\"<pad>\",\"<unk>\"),min_freq=2):\n",
    "    token_count = defaultdict(int)\n",
    "    for text in text_iterator:\n",
    "        for token in spacy_tokenizer(text):\n",
    "            token_count[token]+=1\n",
    "    vocab = {token:idx for idx,(token,count) in enumerate(token_count.items()) if count>=min_freq}\n",
    "    for special in specials:\n",
    "        if special not in vocab:\n",
    "            vocab[special] = len(vocab)\n",
    "    return vocab"
   ]
  },
  {
   "cell_type": "code",
   "execution_count": 34,
   "id": "3fc70b11",
   "metadata": {},
   "outputs": [],
   "source": [
    "vocab = create_vocab(df['text'])"
   ]
  },
  {
   "cell_type": "code",
   "execution_count": 35,
   "id": "88528963",
   "metadata": {},
   "outputs": [],
   "source": [
    "vocab_size = len(vocab)"
   ]
  },
  {
   "cell_type": "code",
   "execution_count": 36,
   "id": "9a95373b",
   "metadata": {},
   "outputs": [
    {
     "data": {
      "text/plain": [
       "15239"
      ]
     },
     "execution_count": 36,
     "metadata": {},
     "output_type": "execute_result"
    }
   ],
   "source": [
    "vocab_size"
   ]
  },
  {
   "cell_type": "code",
   "execution_count": 37,
   "id": "56d6820f",
   "metadata": {},
   "outputs": [],
   "source": [
    "text_pipeline = lambda x : [vocab.get(token,vocab[\"<unk>\"]) for token in spacy_tokenizer(x)]\n",
    "label_pipeline = lambda x : int(x)"
   ]
  },
  {
   "cell_type": "code",
   "execution_count": 38,
   "id": "88356e7d",
   "metadata": {},
   "outputs": [],
   "source": [
    "#dataset\n",
    "class TextDataset(Dataset):\n",
    "    def __init__(self,df,text_pipeline,label_pipeline):\n",
    "        self.texts = df['text'].tolist()\n",
    "        self.labels = df['label'].tolist()\n",
    "        self.text_pipeline = text_pipeline\n",
    "        self.label_pipeline = label_pipeline\n",
    "    def __len__(self):\n",
    "        return len(self.texts)\n",
    "    def __getitem__(self,idx):\n",
    "        text = self.texts[idx]\n",
    "        label = self.labels[idx]\n",
    "        return text_pipeline(text),label_pipeline(label)"
   ]
  },
  {
   "cell_type": "code",
   "execution_count": 39,
   "id": "a8be6963",
   "metadata": {},
   "outputs": [],
   "source": [
    "train_df,test_df = train_test_split(df,test_size=0.2,stratify=df['label'])"
   ]
  },
  {
   "cell_type": "code",
   "execution_count": 40,
   "id": "b451b872",
   "metadata": {},
   "outputs": [],
   "source": [
    "train_data = TextDataset(train_df,text_pipeline,label_pipeline)\n",
    "test_data = TextDataset(test_df,text_pipeline,label_pipeline)"
   ]
  },
  {
   "cell_type": "code",
   "execution_count": 41,
   "id": "83524dde",
   "metadata": {},
   "outputs": [],
   "source": [
    "def pad_collate(batch):\n",
    "    text_list = []\n",
    "    label_list = []\n",
    "    for text,label in batch:\n",
    "        text_list.append(torch.tensor(text))\n",
    "        label_list.append(label)\n",
    "    text_list = pad_sequence(text_list,batch_first=True)\n",
    "    label_list = torch.tensor(label_list)\n",
    "    return text_list.to(device),label_list.to(device)"
   ]
  },
  {
   "cell_type": "code",
   "execution_count": 42,
   "id": "bf667a71",
   "metadata": {},
   "outputs": [],
   "source": [
    "train_loader = DataLoader(train_data,batch_size=128,collate_fn=pad_collate)\n",
    "test_loader = DataLoader(test_data,batch_size=128,collate_fn=pad_collate)"
   ]
  },
  {
   "cell_type": "code",
   "execution_count": 43,
   "id": "a2331fda",
   "metadata": {},
   "outputs": [],
   "source": [
    "for x,y in train_loader:\n",
    "    break"
   ]
  },
  {
   "cell_type": "code",
   "execution_count": 44,
   "id": "41f9e456",
   "metadata": {},
   "outputs": [],
   "source": [
    "class LSTM(nn.Module):\n",
    "    def __init__(self,vocab_size,embedding_dim,hidden_size,out_size,dropout,num_layers=1,bidirectional=False):\n",
    "        super(LSTM,self).__init__()\n",
    "        self.num_layers = num_layers\n",
    "        self.hidden_size = hidden_size\n",
    "        self.dropout = nn.Dropout(dropout)\n",
    "        self.num_dir = 2 if bidirectional else 1\n",
    "        self.embedding = nn.Embedding(vocab_size,embedding_dim)\n",
    "        self.lstm = nn.LSTM(embedding_dim,hidden_size,num_layers=num_layers,bidirectional=bidirectional,batch_first=True)\n",
    "        self.fc = nn.Linear(self.hidden_size*self.num_dir,out_size)\n",
    "    def forward(self,x):\n",
    "        hidden = self.init_hidden(x.size(0))\n",
    "        embedding = self.embedding(x)\n",
    "        embedding = self.dropout(embedding)\n",
    "        lstm_out,hidden = self.lstm(embedding,hidden)\n",
    "        lstm_out = self.dropout(lstm_out)\n",
    "        pred = self.fc(lstm_out[:,-1,:])\n",
    "        return pred\n",
    "    def init_hidden(self,batch_size):\n",
    "        hidden = (torch.zeros(self.num_layers*self.num_dir,batch_size,self.hidden_size).to(device),\n",
    "                 torch.zeros(self.num_layers*self.num_dir,batch_size,self.hidden_size).to(device))\n",
    "        return hidden"
   ]
  },
  {
   "cell_type": "code",
   "execution_count": 70,
   "id": "41ae988d",
   "metadata": {},
   "outputs": [],
   "source": [
    "lstm = LSTM(vocab_size,128,32,6,0.3).to(device)"
   ]
  },
  {
   "cell_type": "code",
   "execution_count": 71,
   "id": "2038f06b",
   "metadata": {},
   "outputs": [
    {
     "data": {
      "text/plain": [
       "LSTM(\n",
       "  (dropout): Dropout(p=0.3, inplace=False)\n",
       "  (embedding): Embedding(15407, 128)\n",
       "  (lstm): LSTM(128, 32, batch_first=True)\n",
       "  (fc): Linear(in_features=32, out_features=6, bias=True)\n",
       ")"
      ]
     },
     "execution_count": 71,
     "metadata": {},
     "output_type": "execute_result"
    }
   ],
   "source": [
    "lstm"
   ]
  },
  {
   "cell_type": "code",
   "execution_count": 73,
   "id": "27443a4a",
   "metadata": {},
   "outputs": [],
   "source": [
    "num_epochs = 5\n",
    "criterion = nn.CrossEntropyLoss()\n",
    "optimizer = torch.optim.Adam(lstm.parameters(),lr=0.001)"
   ]
  },
  {
   "cell_type": "code",
   "execution_count": 75,
   "id": "f2ffc440",
   "metadata": {},
   "outputs": [
    {
     "name": "stderr",
     "output_type": "stream",
     "text": [
      "Epoch 1/5: 100%|█████████████████| 651/651 [01:59<00:00,  5.45it/s, loss=1.2710]\n"
     ]
    },
    {
     "name": "stdout",
     "output_type": "stream",
     "text": [
      "Epoch 1/5, Average Loss: 1.5019\n"
     ]
    },
    {
     "name": "stderr",
     "output_type": "stream",
     "text": [
      "Epoch 2/5: 100%|█████████████████| 651/651 [02:01<00:00,  5.36it/s, loss=0.8245]\n"
     ]
    },
    {
     "name": "stdout",
     "output_type": "stream",
     "text": [
      "Epoch 2/5, Average Loss: 0.9981\n"
     ]
    },
    {
     "name": "stderr",
     "output_type": "stream",
     "text": [
      "Epoch 3/5: 100%|█████████████████| 651/651 [02:03<00:00,  5.29it/s, loss=0.6296]\n"
     ]
    },
    {
     "name": "stdout",
     "output_type": "stream",
     "text": [
      "Epoch 3/5, Average Loss: 0.6104\n"
     ]
    },
    {
     "name": "stderr",
     "output_type": "stream",
     "text": [
      "Epoch 4/5: 100%|█████████████████| 651/651 [02:02<00:00,  5.31it/s, loss=0.5644]\n"
     ]
    },
    {
     "name": "stdout",
     "output_type": "stream",
     "text": [
      "Epoch 4/5, Average Loss: 0.4336\n"
     ]
    },
    {
     "name": "stderr",
     "output_type": "stream",
     "text": [
      "Epoch 5/5: 100%|█████████████████| 651/651 [02:02<00:00,  5.31it/s, loss=0.4288]"
     ]
    },
    {
     "name": "stdout",
     "output_type": "stream",
     "text": [
      "Epoch 5/5, Average Loss: 0.3498\n",
      "Total training time: 10.16 minutes\n"
     ]
    },
    {
     "name": "stderr",
     "output_type": "stream",
     "text": [
      "\n"
     ]
    }
   ],
   "source": [
    "import time\n",
    "from tqdm import tqdm\n",
    "\n",
    "start = time.time()\n",
    "for epoch in range(num_epochs):\n",
    "    lstm.train()\n",
    "    # Wrap your train_loader with tqdm\n",
    "    pbar = tqdm(train_loader, desc=f\"Epoch {epoch+1}/{num_epochs}\")\n",
    "    total_loss = 0\n",
    "    for text, label in pbar:\n",
    "        optimizer.zero_grad()\n",
    "        y_pred = lstm(text)\n",
    "        loss = criterion(y_pred, label)\n",
    "        loss.backward()\n",
    "        optimizer.step()\n",
    "        \n",
    "        # Update total loss and progress bar\n",
    "        total_loss += loss.item()\n",
    "        pbar.set_postfix({'loss': f'{loss.item():.4f}'})\n",
    "    \n",
    "    # Calculate and print average loss for the epoch\n",
    "    avg_loss = total_loss / len(train_loader)\n",
    "    print(f\"Epoch {epoch+1}/{num_epochs}, Average Loss: {avg_loss:.4f}\")\n",
    "\n",
    "print(f\"Total training time: {(time.time() - start) / 60:.2f} minutes\")"
   ]
  },
  {
   "cell_type": "code",
   "execution_count": 82,
   "id": "a0d3afa6",
   "metadata": {},
   "outputs": [
    {
     "name": "stdout",
     "output_type": "stream",
     "text": [
      "              precision    recall  f1-score   support\n",
      "\n",
      "           0       0.93      0.96      0.95      6054\n",
      "           1       0.92      0.93      0.92      7093\n",
      "           2       0.74      0.68      0.71      1720\n",
      "           3       0.89      0.94      0.91      2824\n",
      "           4       0.92      0.83      0.87      2383\n",
      "           5       0.79      0.65      0.71       757\n",
      "\n",
      "    accuracy                           0.90     20831\n",
      "   macro avg       0.86      0.83      0.85     20831\n",
      "weighted avg       0.90      0.90      0.90     20831\n",
      "\n",
      "accuracy : 0.8989486822524123\n"
     ]
    }
   ],
   "source": [
    "from sklearn.metrics import classification_report,accuracy_score\n",
    "all_preds = []\n",
    "all_labels = []\n",
    "  \n",
    "lstm.eval()\n",
    "with torch.no_grad():\n",
    "    for text, label in test_loader:\n",
    "        pred = lstm(text)\n",
    "        pred = torch.argmax(pred, dim=1)\n",
    "        \n",
    "        # Collect predictions and labels\n",
    "        all_preds.extend(pred.cpu().numpy())\n",
    "        all_labels.extend(label.cpu().numpy())\n",
    "\n",
    "# Now, use classification_report with the collected predictions and labels\n",
    "print(classification_report(all_labels, all_preds))\n",
    "print(f\"accuracy : {accuracy_score(all_labels,all_preds)}\")"
   ]
  },
  {
   "cell_type": "markdown",
   "id": "dcdf826a",
   "metadata": {},
   "source": [
    "### Multilayer LSTM"
   ]
  },
  {
   "cell_type": "code",
   "execution_count": 89,
   "id": "56eaf2a4",
   "metadata": {},
   "outputs": [],
   "source": [
    "class LSTM(nn.Module):\n",
    "    def __init__(self,vocab_size,embedding_dim,hidden_size,out_size,dropout,num_layers=2,bidirectional=False):\n",
    "        super(LSTM,self).__init__()\n",
    "        self.num_layers = num_layers\n",
    "        self.hidden_size = hidden_size\n",
    "        self.dropout = nn.Dropout(dropout)\n",
    "        self.num_dir = 2 if bidirectional else 1\n",
    "        self.embedding = nn.Embedding(vocab_size,embedding_dim)\n",
    "        self.lstm = nn.LSTM(embedding_dim,hidden_size,num_layers=num_layers,bidirectional=bidirectional,batch_first=True)\n",
    "        self.fc = nn.Linear(self.hidden_size*self.num_dir,out_size)\n",
    "    def forward(self,x):\n",
    "        hidden = self.init_hidden(x.size(0))\n",
    "        embedding = self.embedding(x)\n",
    "        embedding = self.dropout(embedding)\n",
    "        lstm_out,hidden = self.lstm(embedding,hidden)\n",
    "        lstm_out = self.dropout(lstm_out)\n",
    "        pred = self.fc(lstm_out[:,-1,:])\n",
    "        return pred\n",
    "    def init_hidden(self,batch_size):\n",
    "        hidden = (torch.zeros(self.num_layers*self.num_dir,batch_size,self.hidden_size).to(device),\n",
    "                 torch.zeros(self.num_layers*self.num_dir,batch_size,self.hidden_size).to(device))\n",
    "        return hidden"
   ]
  },
  {
   "cell_type": "code",
   "execution_count": 93,
   "id": "b6a26afa",
   "metadata": {},
   "outputs": [],
   "source": [
    "lstm_2 = LSTM(vocab_size,128,64,6,0.2).to(device)"
   ]
  },
  {
   "cell_type": "code",
   "execution_count": 94,
   "id": "4b856997",
   "metadata": {},
   "outputs": [
    {
     "name": "stderr",
     "output_type": "stream",
     "text": [
      "Epoch 1/5: 100%|█████████████████| 651/651 [02:05<00:00,  5.19it/s, loss=1.4774]\n"
     ]
    },
    {
     "name": "stdout",
     "output_type": "stream",
     "text": [
      "Epoch 1/5, Average Loss: 1.5765\n"
     ]
    },
    {
     "name": "stderr",
     "output_type": "stream",
     "text": [
      "Epoch 2/5: 100%|█████████████████| 651/651 [02:04<00:00,  5.21it/s, loss=0.3788]\n"
     ]
    },
    {
     "name": "stdout",
     "output_type": "stream",
     "text": [
      "Epoch 2/5, Average Loss: 0.9731\n"
     ]
    },
    {
     "name": "stderr",
     "output_type": "stream",
     "text": [
      "Epoch 3/5: 100%|█████████████████| 651/651 [02:03<00:00,  5.28it/s, loss=0.3101]\n"
     ]
    },
    {
     "name": "stdout",
     "output_type": "stream",
     "text": [
      "Epoch 3/5, Average Loss: 0.2345\n"
     ]
    },
    {
     "name": "stderr",
     "output_type": "stream",
     "text": [
      "Epoch 4/5: 100%|█████████████████| 651/651 [02:05<00:00,  5.17it/s, loss=0.2415]\n"
     ]
    },
    {
     "name": "stdout",
     "output_type": "stream",
     "text": [
      "Epoch 4/5, Average Loss: 0.1707\n"
     ]
    },
    {
     "name": "stderr",
     "output_type": "stream",
     "text": [
      "Epoch 5/5: 100%|█████████████████| 651/651 [02:04<00:00,  5.24it/s, loss=0.1771]"
     ]
    },
    {
     "name": "stdout",
     "output_type": "stream",
     "text": [
      "Epoch 5/5, Average Loss: 0.1522\n",
      "Total training time: 10.40 minutes\n"
     ]
    },
    {
     "name": "stderr",
     "output_type": "stream",
     "text": [
      "\n"
     ]
    }
   ],
   "source": [
    "num_epochs = 5\n",
    "criterion = nn.CrossEntropyLoss()\n",
    "optimizer = torch.optim.Adam(lstm_2.parameters(),lr=0.005)\n",
    "start = time.time()\n",
    "for epoch in range(num_epochs):\n",
    "    lstm_2.train()\n",
    "    # Wrap your train_loader with tqdm\n",
    "    pbar = tqdm(train_loader, desc=f\"Epoch {epoch+1}/{num_epochs}\")\n",
    "    total_loss = 0\n",
    "    for text, label in pbar:\n",
    "        optimizer.zero_grad()\n",
    "        y_pred = lstm_2(text)\n",
    "        loss = criterion(y_pred, label)\n",
    "        loss.backward()\n",
    "        optimizer.step()\n",
    "        \n",
    "        # Update total loss and progress bar\n",
    "        total_loss += loss.item()\n",
    "        pbar.set_postfix({'loss': f'{loss.item():.4f}'})\n",
    "    \n",
    "    # Calculate and print average loss for the epoch\n",
    "    avg_loss = total_loss / len(train_loader)\n",
    "    print(f\"Epoch {epoch+1}/{num_epochs}, Average Loss: {avg_loss:.4f}\")\n",
    "\n",
    "print(f\"Total training time: {(time.time() - start) / 60:.2f} minutes\")"
   ]
  },
  {
   "cell_type": "code",
   "execution_count": 95,
   "id": "4146a1de",
   "metadata": {},
   "outputs": [
    {
     "name": "stdout",
     "output_type": "stream",
     "text": [
      "              precision    recall  f1-score   support\n",
      "\n",
      "           0       0.95      0.96      0.95      6054\n",
      "           1       0.96      0.91      0.94      7093\n",
      "           2       0.77      0.89      0.83      1720\n",
      "           3       0.95      0.91      0.93      2824\n",
      "           4       0.84      0.95      0.89      2383\n",
      "           5       0.86      0.71      0.78       757\n",
      "\n",
      "    accuracy                           0.92     20831\n",
      "   macro avg       0.89      0.89      0.89     20831\n",
      "weighted avg       0.92      0.92      0.92     20831\n",
      "\n",
      "accuracy : 0.9203590802169843\n"
     ]
    }
   ],
   "source": [
    "from sklearn.metrics import classification_report,accuracy_score\n",
    "all_preds = []\n",
    "all_labels = []\n",
    "  \n",
    "lstm_2.eval()\n",
    "with torch.no_grad():\n",
    "    for text, label in test_loader:\n",
    "        pred = lstm_2(text)\n",
    "        pred = torch.argmax(pred, dim=1)\n",
    "        \n",
    "        # Collect predictions and labels\n",
    "        all_preds.extend(pred.cpu().numpy())\n",
    "        all_labels.extend(label.cpu().numpy())\n",
    "\n",
    "# Now, use classification_report with the collected predictions and labels\n",
    "print(classification_report(all_labels, all_preds))\n",
    "print(f\"accuracy : {accuracy_score(all_labels,all_preds)}\")"
   ]
  },
  {
   "cell_type": "markdown",
   "id": "4dbbc1b8",
   "metadata": {},
   "source": [
    "### BILSTM"
   ]
  },
  {
   "cell_type": "code",
   "execution_count": 97,
   "id": "4936af8f",
   "metadata": {},
   "outputs": [],
   "source": [
    "class BILSTM(nn.Module):\n",
    "    def __init__(self,vocab_size,embedding_dim,hidden_size,out_size,dropout,num_layers=2,bidirectional=True):\n",
    "        super(BILSTM,self).__init__()\n",
    "        self.num_layers = num_layers\n",
    "        self.hidden_size = hidden_size\n",
    "        self.dropout = nn.Dropout(dropout)\n",
    "        self.num_dir = 2 if bidirectional else 1\n",
    "        self.embedding = nn.Embedding(vocab_size,embedding_dim)\n",
    "        self.lstm = nn.LSTM(embedding_dim,hidden_size,num_layers=num_layers,bidirectional=bidirectional,batch_first=True)\n",
    "        self.fc = nn.Linear(self.hidden_size*self.num_dir,out_size)\n",
    "    def forward(self,x):\n",
    "        hidden = self.init_hidden(x.size(0))\n",
    "        embedding = self.embedding(x)\n",
    "        embedding = self.dropout(embedding)\n",
    "        lstm_out,hidden = self.lstm(embedding,hidden)\n",
    "        lstm_out = self.dropout(lstm_out)\n",
    "        pred = self.fc(lstm_out[:,-1,:])\n",
    "        return pred\n",
    "    def init_hidden(self,batch_size):\n",
    "        hidden = (torch.zeros(self.num_layers*self.num_dir,batch_size,self.hidden_size).to(device),\n",
    "                 torch.zeros(self.num_layers*self.num_dir,batch_size,self.hidden_size).to(device))\n",
    "        return hidden"
   ]
  },
  {
   "cell_type": "code",
   "execution_count": 102,
   "id": "d28ceae0",
   "metadata": {},
   "outputs": [],
   "source": [
    "bilstm = BILSTM(vocab_size,128,64,6,0.2).to(device)"
   ]
  },
  {
   "cell_type": "code",
   "execution_count": 106,
   "id": "68fd63dc",
   "metadata": {},
   "outputs": [
    {
     "name": "stderr",
     "output_type": "stream",
     "text": [
      "Epoch 1/2: 100%|█████████████████| 651/651 [02:28<00:00,  4.37it/s, loss=0.1723]\n"
     ]
    },
    {
     "name": "stdout",
     "output_type": "stream",
     "text": [
      "Epoch 1/2, Average Loss: 0.1489\n"
     ]
    },
    {
     "name": "stderr",
     "output_type": "stream",
     "text": [
      "Epoch 2/2: 100%|█████████████████| 651/651 [02:47<00:00,  3.88it/s, loss=0.1901]"
     ]
    },
    {
     "name": "stdout",
     "output_type": "stream",
     "text": [
      "Epoch 2/2, Average Loss: 0.1368\n",
      "Total training time: 5.28 minutes\n"
     ]
    },
    {
     "name": "stderr",
     "output_type": "stream",
     "text": [
      "\n"
     ]
    }
   ],
   "source": [
    "num_epochs = 2\n",
    "criterion = nn.CrossEntropyLoss()\n",
    "optimizer = torch.optim.Adam(bilstm.parameters(),lr=0.005)\n",
    "start = time.time()\n",
    "for epoch in range(num_epochs):\n",
    "    bilstm.train()\n",
    "    # Wrap your train_loader with tqdm\n",
    "    pbar = tqdm(train_loader, desc=f\"Epoch {epoch+1}/{num_epochs}\")\n",
    "    total_loss = 0\n",
    "    for text, label in pbar:\n",
    "        optimizer.zero_grad()\n",
    "        y_pred = bilstm(text)\n",
    "        loss = criterion(y_pred, label)\n",
    "        loss.backward()\n",
    "        optimizer.step()\n",
    "        \n",
    "        # Update total loss and progress bar\n",
    "        total_loss += loss.item()\n",
    "        pbar.set_postfix({'loss': f'{loss.item():.4f}'})\n",
    "    \n",
    "    # Calculate and print average loss for the epoch\n",
    "    avg_loss = total_loss / len(train_loader)\n",
    "    print(f\"Epoch {epoch+1}/{num_epochs}, Average Loss: {avg_loss:.4f}\")\n",
    "\n",
    "print(f\"Total training time: {(time.time() - start) / 60:.2f} minutes\")"
   ]
  },
  {
   "cell_type": "code",
   "execution_count": 107,
   "id": "c45624b0",
   "metadata": {
    "scrolled": true
   },
   "outputs": [
    {
     "name": "stdout",
     "output_type": "stream",
     "text": [
      "              precision    recall  f1-score   support\n",
      "\n",
      "           0       0.96      0.95      0.95      6054\n",
      "           1       0.93      0.94      0.94      7093\n",
      "           2       0.83      0.81      0.82      1720\n",
      "           3       0.97      0.89      0.93      2824\n",
      "           4       0.83      0.96      0.89      2383\n",
      "           5       0.86      0.70      0.77       757\n",
      "\n",
      "    accuracy                           0.92     20831\n",
      "   macro avg       0.90      0.88      0.88     20831\n",
      "weighted avg       0.92      0.92      0.92     20831\n",
      "\n",
      "accuracy : 0.9196870049445538\n"
     ]
    }
   ],
   "source": [
    "from sklearn.metrics import classification_report,accuracy_score\n",
    "all_preds = []\n",
    "all_labels = []\n",
    "  \n",
    "bilstm.eval()\n",
    "with torch.no_grad():\n",
    "    for text, label in test_loader:\n",
    "        pred = bilstm(text)\n",
    "        pred = torch.argmax(pred, dim=1)\n",
    "        \n",
    "        # Collect predictions and labels\n",
    "        all_preds.extend(pred.cpu().numpy())\n",
    "        all_labels.extend(label.cpu().numpy())\n",
    "\n",
    "# Now, use classification_report with the collected predictions and labels\n",
    "print(classification_report(all_labels, all_preds))\n",
    "print(f\"accuracy : {accuracy_score(all_labels,all_preds)}\")"
   ]
  },
  {
   "cell_type": "markdown",
   "id": "22b2828d",
   "metadata": {},
   "source": [
    "### GRU"
   ]
  },
  {
   "cell_type": "code",
   "execution_count": 45,
   "id": "0ced82fd",
   "metadata": {},
   "outputs": [],
   "source": [
    "class GRU(nn.Module):\n",
    "    def __init__(self,vocab_size,embedding_dim,hidden_size,out_size,dropout,num_layers=2,bidirectional=False):\n",
    "        super(GRU,self).__init__()\n",
    "        self.num_layers = num_layers\n",
    "        self.hidden_size = hidden_size\n",
    "        self.dropout = nn.Dropout(dropout)\n",
    "        self.num_dir = 2 if bidirectional else 1\n",
    "        self.embedding = nn.Embedding(vocab_size,embedding_dim)\n",
    "        self.gru = nn.GRU(embedding_dim,hidden_size,num_layers=num_layers,bidirectional=bidirectional,batch_first=True)\n",
    "        self.fc = nn.Linear(self.hidden_size*self.num_dir,out_size)\n",
    "    def forward(self,x):\n",
    "        hidden = self.init_hidden(x.size(0))\n",
    "        embedding = self.embedding(x)\n",
    "        embedding = self.dropout(embedding)\n",
    "        gru_out,hidden = self.gru(embedding,hidden)\n",
    "        gru_out = self.dropout(gru_out)\n",
    "        pred = self.fc(gru_out[:,-1,:])\n",
    "        return pred\n",
    "    def init_hidden(self,batch_size):\n",
    "        hidden = (torch.zeros(self.num_layers*self.num_dir,batch_size,self.hidden_size).to(device))\n",
    "        return hidden"
   ]
  },
  {
   "cell_type": "code",
   "execution_count": 46,
   "id": "03a73e03",
   "metadata": {},
   "outputs": [],
   "source": [
    "Gru = GRU(vocab_size,128,64,6,0.2).to(device)"
   ]
  },
  {
   "cell_type": "code",
   "execution_count": 50,
   "id": "69229f98",
   "metadata": {},
   "outputs": [
    {
     "name": "stderr",
     "output_type": "stream",
     "text": [
      "Epoch 1/7: 100%|█████████████████| 651/651 [02:18<00:00,  4.71it/s, loss=0.2569]\n"
     ]
    },
    {
     "name": "stdout",
     "output_type": "stream",
     "text": [
      "Epoch 1/7, Average Loss: 0.6118\n"
     ]
    },
    {
     "name": "stderr",
     "output_type": "stream",
     "text": [
      "Epoch 2/7: 100%|█████████████████| 651/651 [02:19<00:00,  4.66it/s, loss=0.2006]\n"
     ]
    },
    {
     "name": "stdout",
     "output_type": "stream",
     "text": [
      "Epoch 2/7, Average Loss: 0.1994\n"
     ]
    },
    {
     "name": "stderr",
     "output_type": "stream",
     "text": [
      "Epoch 3/7: 100%|█████████████████| 651/651 [02:20<00:00,  4.63it/s, loss=0.1244]\n"
     ]
    },
    {
     "name": "stdout",
     "output_type": "stream",
     "text": [
      "Epoch 3/7, Average Loss: 0.1622\n"
     ]
    },
    {
     "name": "stderr",
     "output_type": "stream",
     "text": [
      "Epoch 4/7: 100%|█████████████████| 651/651 [02:20<00:00,  4.64it/s, loss=0.1255]\n"
     ]
    },
    {
     "name": "stdout",
     "output_type": "stream",
     "text": [
      "Epoch 4/7, Average Loss: 0.1454\n"
     ]
    },
    {
     "name": "stderr",
     "output_type": "stream",
     "text": [
      "Epoch 5/7: 100%|█████████████████| 651/651 [02:19<00:00,  4.67it/s, loss=0.1056]\n"
     ]
    },
    {
     "name": "stdout",
     "output_type": "stream",
     "text": [
      "Epoch 5/7, Average Loss: 0.1340\n"
     ]
    },
    {
     "name": "stderr",
     "output_type": "stream",
     "text": [
      "Epoch 6/7: 100%|█████████████████| 651/651 [02:19<00:00,  4.68it/s, loss=0.0961]\n"
     ]
    },
    {
     "name": "stdout",
     "output_type": "stream",
     "text": [
      "Epoch 6/7, Average Loss: 0.1262\n"
     ]
    },
    {
     "name": "stderr",
     "output_type": "stream",
     "text": [
      "Epoch 7/7: 100%|█████████████████| 651/651 [02:18<00:00,  4.69it/s, loss=0.1449]"
     ]
    },
    {
     "name": "stdout",
     "output_type": "stream",
     "text": [
      "Epoch 7/7, Average Loss: 0.1193\n"
     ]
    },
    {
     "name": "stderr",
     "output_type": "stream",
     "text": [
      "\n"
     ]
    }
   ],
   "source": [
    "num_epochs = 7\n",
    "criterion = nn.CrossEntropyLoss()\n",
    "optimizer = torch.optim.Adam(Gru.parameters(),lr=0.0025)\n",
    "start = time.time()\n",
    "for epoch in range(num_epochs):\n",
    "    Gru.train()\n",
    "    # Wrap your train_loader with tqdm\n",
    "    pbar = tqdm(train_loader, desc=f\"Epoch {epoch+1}/{num_epochs}\")\n",
    "    total_loss = 0\n",
    "    for text, label in pbar:\n",
    "        optimizer.zero_grad()\n",
    "        y_pred = Gru(text)\n",
    "        loss = criterion(y_pred, label)\n",
    "        loss.backward()\n",
    "        optimizer.step()\n",
    "        \n",
    "        # Update total loss and progress bar\n",
    "        total_loss += loss.item()\n",
    "        pbar.set_postfix({'loss': f'{loss.item():.4f}'})\n",
    "    \n",
    "    # Calculate and print average loss for the epoch\n",
    "    avg_loss = total_loss / len(train_loader)\n",
    "    print(f\"Epoch {epoch+1}/{num_epochs}, Average Loss: {avg_loss:.4f}\")"
   ]
  },
  {
   "cell_type": "code",
   "execution_count": 51,
   "id": "4bcb1bd1",
   "metadata": {},
   "outputs": [
    {
     "name": "stdout",
     "output_type": "stream",
     "text": [
      "              precision    recall  f1-score   support\n",
      "\n",
      "           0       0.97      0.94      0.95      6065\n",
      "           1       0.91      0.96      0.94      7046\n",
      "           2       0.88      0.71      0.79      1727\n",
      "           3       0.93      0.93      0.93      2865\n",
      "           4       0.87      0.91      0.89      2384\n",
      "           5       0.84      0.74      0.79       744\n",
      "\n",
      "    accuracy                           0.92     20831\n",
      "   macro avg       0.90      0.87      0.88     20831\n",
      "weighted avg       0.92      0.92      0.92     20831\n",
      "\n",
      "accuracy : 0.9180068167634775\n"
     ]
    }
   ],
   "source": [
    "from sklearn.metrics import classification_report,accuracy_score\n",
    "all_preds = []\n",
    "all_labels = []\n",
    "  \n",
    "Gru.eval()\n",
    "with torch.no_grad():\n",
    "    for text, label in test_loader:\n",
    "        pred = Gru(text)\n",
    "        pred = torch.argmax(pred, dim=1)\n",
    "        \n",
    "        # Collect predictions and labels\n",
    "        all_preds.extend(pred.cpu().numpy())\n",
    "        all_labels.extend(label.cpu().numpy())\n",
    "\n",
    "# Now, use classification_report with the collected predictions and labels\n",
    "print(classification_report(all_labels, all_preds))\n",
    "print(f\"accuracy : {accuracy_score(all_labels,all_preds)}\")"
   ]
  },
  {
   "cell_type": "markdown",
   "id": "6c20b5da",
   "metadata": {},
   "source": [
    "### BIGRU"
   ]
  },
  {
   "cell_type": "code",
   "execution_count": 53,
   "id": "fd7fb99e",
   "metadata": {},
   "outputs": [],
   "source": [
    "class BIGRU(nn.Module):\n",
    "    def __init__(self,vocab_size,embedding_dim,hidden_size,out_size,dropout,num_layers=2,bidirectional=True):\n",
    "        super(BIGRU,self).__init__()\n",
    "        self.num_layers = num_layers\n",
    "        self.hidden_size = hidden_size\n",
    "        self.dropout = nn.Dropout(dropout)\n",
    "        self.num_dir = 2 if bidirectional else 1\n",
    "        self.embedding = nn.Embedding(vocab_size,embedding_dim)\n",
    "        self.gru = nn.GRU(embedding_dim,hidden_size,num_layers=num_layers,bidirectional=bidirectional,batch_first=True)\n",
    "        self.fc = nn.Linear(self.hidden_size*self.num_dir,out_size)\n",
    "    def forward(self,x):\n",
    "        hidden = self.init_hidden(x.size(0))\n",
    "        embedding = self.embedding(x)\n",
    "        embedding = self.dropout(embedding)\n",
    "        gru_out,hidden = self.gru(embedding,hidden)\n",
    "        gru_out = self.dropout(gru_out)\n",
    "        pred = self.fc(gru_out[:,-1,:])\n",
    "        return pred\n",
    "    def init_hidden(self,batch_size):\n",
    "        hidden = (torch.zeros(self.num_layers*self.num_dir,batch_size,self.hidden_size).to(device))\n",
    "        return hidden"
   ]
  },
  {
   "cell_type": "code",
   "execution_count": 54,
   "id": "a1399acb",
   "metadata": {},
   "outputs": [],
   "source": [
    "bigru = BIGRU(vocab_size,128,64,6,0.2).to(device)"
   ]
  },
  {
   "cell_type": "code",
   "execution_count": 55,
   "id": "d645bd68",
   "metadata": {},
   "outputs": [
    {
     "name": "stderr",
     "output_type": "stream",
     "text": [
      "Epoch 1/7: 100%|█████████████████| 651/651 [02:41<00:00,  4.04it/s, loss=0.2872]\n"
     ]
    },
    {
     "name": "stdout",
     "output_type": "stream",
     "text": [
      "Epoch 1/7, Average Loss: 0.6747\n"
     ]
    },
    {
     "name": "stderr",
     "output_type": "stream",
     "text": [
      "Epoch 2/7: 100%|█████████████████| 651/651 [02:41<00:00,  4.03it/s, loss=0.1791]\n"
     ]
    },
    {
     "name": "stdout",
     "output_type": "stream",
     "text": [
      "Epoch 2/7, Average Loss: 0.1949\n"
     ]
    },
    {
     "name": "stderr",
     "output_type": "stream",
     "text": [
      "Epoch 3/7: 100%|█████████████████| 651/651 [02:38<00:00,  4.11it/s, loss=0.1611]\n"
     ]
    },
    {
     "name": "stdout",
     "output_type": "stream",
     "text": [
      "Epoch 3/7, Average Loss: 0.1580\n"
     ]
    },
    {
     "name": "stderr",
     "output_type": "stream",
     "text": [
      "Epoch 4/7: 100%|█████████████████| 651/651 [02:39<00:00,  4.07it/s, loss=0.1137]\n"
     ]
    },
    {
     "name": "stdout",
     "output_type": "stream",
     "text": [
      "Epoch 4/7, Average Loss: 0.1397\n"
     ]
    },
    {
     "name": "stderr",
     "output_type": "stream",
     "text": [
      "Epoch 5/7: 100%|█████████████████| 651/651 [02:40<00:00,  4.07it/s, loss=0.1376]\n"
     ]
    },
    {
     "name": "stdout",
     "output_type": "stream",
     "text": [
      "Epoch 5/7, Average Loss: 0.1309\n"
     ]
    },
    {
     "name": "stderr",
     "output_type": "stream",
     "text": [
      "Epoch 6/7: 100%|█████████████████| 651/651 [02:39<00:00,  4.08it/s, loss=0.1057]\n"
     ]
    },
    {
     "name": "stdout",
     "output_type": "stream",
     "text": [
      "Epoch 6/7, Average Loss: 0.1205\n"
     ]
    },
    {
     "name": "stderr",
     "output_type": "stream",
     "text": [
      "Epoch 7/7: 100%|█████████████████| 651/651 [02:40<00:00,  4.05it/s, loss=0.1135]"
     ]
    },
    {
     "name": "stdout",
     "output_type": "stream",
     "text": [
      "Epoch 7/7, Average Loss: 0.1146\n"
     ]
    },
    {
     "name": "stderr",
     "output_type": "stream",
     "text": [
      "\n"
     ]
    }
   ],
   "source": [
    "num_epochs = 7\n",
    "criterion = nn.CrossEntropyLoss()\n",
    "optimizer = torch.optim.Adam(bigru.parameters(),lr=0.0025)\n",
    "start = time.time()\n",
    "for epoch in range(num_epochs):\n",
    "    bigru.train()\n",
    "    # Wrap your train_loader with tqdm\n",
    "    pbar = tqdm(train_loader, desc=f\"Epoch {epoch+1}/{num_epochs}\")\n",
    "    total_loss = 0\n",
    "    for text, label in pbar:\n",
    "        optimizer.zero_grad()\n",
    "        y_pred = bigru(text)\n",
    "        loss = criterion(y_pred, label)\n",
    "        loss.backward()\n",
    "        optimizer.step()\n",
    "        \n",
    "        # Update total loss and progress bar\n",
    "        total_loss += loss.item()\n",
    "        pbar.set_postfix({'loss': f'{loss.item():.4f}'})\n",
    "    \n",
    "    # Calculate and print average loss for the epoch\n",
    "    avg_loss = total_loss / len(train_loader)\n",
    "    print(f\"Epoch {epoch+1}/{num_epochs}, Average Loss: {avg_loss:.4f}\")"
   ]
  },
  {
   "cell_type": "code",
   "execution_count": null,
   "id": "f7836e24",
   "metadata": {},
   "outputs": [],
   "source": []
  }
 ],
 "metadata": {
  "kernelspec": {
   "display_name": "Python 3 (ipykernel)",
   "language": "python",
   "name": "python3"
  },
  "language_info": {
   "codemirror_mode": {
    "name": "ipython",
    "version": 3
   },
   "file_extension": ".py",
   "mimetype": "text/x-python",
   "name": "python",
   "nbconvert_exporter": "python",
   "pygments_lexer": "ipython3",
   "version": "3.10.15"
  }
 },
 "nbformat": 4,
 "nbformat_minor": 5
}
