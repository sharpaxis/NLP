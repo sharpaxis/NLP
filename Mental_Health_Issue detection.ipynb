{
 "cells": [
  {
   "cell_type": "code",
   "execution_count": 1,
   "id": "593c805a",
   "metadata": {},
   "outputs": [],
   "source": [
    "#basic imports\n",
    "import numpy as np\n",
    "import pandas as pd\n",
    "import seaborn as sns\n",
    "import matplotlib.pyplot as plt\n",
    "import warnings\n",
    "warnings.filterwarnings('ignore')"
   ]
  },
  {
   "cell_type": "code",
   "execution_count": 2,
   "id": "0cd3818e",
   "metadata": {},
   "outputs": [],
   "source": [
    "df = pd.read_csv(\"/Users/aadityajoshi/Downloads/Combined Data.csv\",encoding='utf-8')"
   ]
  },
  {
   "cell_type": "code",
   "execution_count": 3,
   "id": "c36ce1f6",
   "metadata": {},
   "outputs": [
    {
     "data": {
      "text/html": [
       "<div>\n",
       "<style scoped>\n",
       "    .dataframe tbody tr th:only-of-type {\n",
       "        vertical-align: middle;\n",
       "    }\n",
       "\n",
       "    .dataframe tbody tr th {\n",
       "        vertical-align: top;\n",
       "    }\n",
       "\n",
       "    .dataframe thead th {\n",
       "        text-align: right;\n",
       "    }\n",
       "</style>\n",
       "<table border=\"1\" class=\"dataframe\">\n",
       "  <thead>\n",
       "    <tr style=\"text-align: right;\">\n",
       "      <th></th>\n",
       "      <th>Unnamed: 0</th>\n",
       "      <th>statement</th>\n",
       "      <th>status</th>\n",
       "    </tr>\n",
       "  </thead>\n",
       "  <tbody>\n",
       "    <tr>\n",
       "      <th>0</th>\n",
       "      <td>0</td>\n",
       "      <td>oh my gosh</td>\n",
       "      <td>Anxiety</td>\n",
       "    </tr>\n",
       "    <tr>\n",
       "      <th>1</th>\n",
       "      <td>1</td>\n",
       "      <td>trouble sleeping, confused mind, restless hear...</td>\n",
       "      <td>Anxiety</td>\n",
       "    </tr>\n",
       "    <tr>\n",
       "      <th>2</th>\n",
       "      <td>2</td>\n",
       "      <td>All wrong, back off dear, forward doubt. Stay ...</td>\n",
       "      <td>Anxiety</td>\n",
       "    </tr>\n",
       "    <tr>\n",
       "      <th>3</th>\n",
       "      <td>3</td>\n",
       "      <td>I've shifted my focus to something else but I'...</td>\n",
       "      <td>Anxiety</td>\n",
       "    </tr>\n",
       "    <tr>\n",
       "      <th>4</th>\n",
       "      <td>4</td>\n",
       "      <td>I'm restless and restless, it's been a month n...</td>\n",
       "      <td>Anxiety</td>\n",
       "    </tr>\n",
       "  </tbody>\n",
       "</table>\n",
       "</div>"
      ],
      "text/plain": [
       "   Unnamed: 0                                          statement   status\n",
       "0           0                                         oh my gosh  Anxiety\n",
       "1           1  trouble sleeping, confused mind, restless hear...  Anxiety\n",
       "2           2  All wrong, back off dear, forward doubt. Stay ...  Anxiety\n",
       "3           3  I've shifted my focus to something else but I'...  Anxiety\n",
       "4           4  I'm restless and restless, it's been a month n...  Anxiety"
      ]
     },
     "execution_count": 3,
     "metadata": {},
     "output_type": "execute_result"
    }
   ],
   "source": [
    "df.head()"
   ]
  },
  {
   "cell_type": "code",
   "execution_count": 4,
   "id": "1bdd971f",
   "metadata": {},
   "outputs": [],
   "source": [
    "df.drop('Unnamed: 0',axis=1,inplace=True)"
   ]
  },
  {
   "cell_type": "code",
   "execution_count": 5,
   "id": "42e25d3f",
   "metadata": {},
   "outputs": [
    {
     "data": {
      "text/html": [
       "<div>\n",
       "<style scoped>\n",
       "    .dataframe tbody tr th:only-of-type {\n",
       "        vertical-align: middle;\n",
       "    }\n",
       "\n",
       "    .dataframe tbody tr th {\n",
       "        vertical-align: top;\n",
       "    }\n",
       "\n",
       "    .dataframe thead th {\n",
       "        text-align: right;\n",
       "    }\n",
       "</style>\n",
       "<table border=\"1\" class=\"dataframe\">\n",
       "  <thead>\n",
       "    <tr style=\"text-align: right;\">\n",
       "      <th></th>\n",
       "      <th>statement</th>\n",
       "      <th>status</th>\n",
       "    </tr>\n",
       "  </thead>\n",
       "  <tbody>\n",
       "    <tr>\n",
       "      <th>0</th>\n",
       "      <td>oh my gosh</td>\n",
       "      <td>Anxiety</td>\n",
       "    </tr>\n",
       "    <tr>\n",
       "      <th>1</th>\n",
       "      <td>trouble sleeping, confused mind, restless hear...</td>\n",
       "      <td>Anxiety</td>\n",
       "    </tr>\n",
       "    <tr>\n",
       "      <th>2</th>\n",
       "      <td>All wrong, back off dear, forward doubt. Stay ...</td>\n",
       "      <td>Anxiety</td>\n",
       "    </tr>\n",
       "    <tr>\n",
       "      <th>3</th>\n",
       "      <td>I've shifted my focus to something else but I'...</td>\n",
       "      <td>Anxiety</td>\n",
       "    </tr>\n",
       "    <tr>\n",
       "      <th>4</th>\n",
       "      <td>I'm restless and restless, it's been a month n...</td>\n",
       "      <td>Anxiety</td>\n",
       "    </tr>\n",
       "  </tbody>\n",
       "</table>\n",
       "</div>"
      ],
      "text/plain": [
       "                                           statement   status\n",
       "0                                         oh my gosh  Anxiety\n",
       "1  trouble sleeping, confused mind, restless hear...  Anxiety\n",
       "2  All wrong, back off dear, forward doubt. Stay ...  Anxiety\n",
       "3  I've shifted my focus to something else but I'...  Anxiety\n",
       "4  I'm restless and restless, it's been a month n...  Anxiety"
      ]
     },
     "execution_count": 5,
     "metadata": {},
     "output_type": "execute_result"
    }
   ],
   "source": [
    "df.head()"
   ]
  },
  {
   "cell_type": "code",
   "execution_count": 6,
   "id": "3d6d361b",
   "metadata": {},
   "outputs": [
    {
     "name": "stdout",
     "output_type": "stream",
     "text": [
      "<class 'pandas.core.frame.DataFrame'>\n",
      "RangeIndex: 53043 entries, 0 to 53042\n",
      "Data columns (total 2 columns):\n",
      " #   Column     Non-Null Count  Dtype \n",
      "---  ------     --------------  ----- \n",
      " 0   statement  52681 non-null  object\n",
      " 1   status     53043 non-null  object\n",
      "dtypes: object(2)\n",
      "memory usage: 828.9+ KB\n"
     ]
    }
   ],
   "source": [
    "df.info()"
   ]
  },
  {
   "cell_type": "code",
   "execution_count": 7,
   "id": "599ca309",
   "metadata": {},
   "outputs": [
    {
     "data": {
      "text/plain": [
       "statement    362\n",
       "status         0\n",
       "dtype: int64"
      ]
     },
     "execution_count": 7,
     "metadata": {},
     "output_type": "execute_result"
    }
   ],
   "source": [
    "df.isnull().sum()"
   ]
  },
  {
   "cell_type": "code",
   "execution_count": 8,
   "id": "91bffe15",
   "metadata": {},
   "outputs": [],
   "source": [
    "df.drop_duplicates(inplace=True)"
   ]
  },
  {
   "cell_type": "code",
   "execution_count": 9,
   "id": "7305d49d",
   "metadata": {},
   "outputs": [],
   "source": [
    "#dropping missing values\n",
    "df.dropna(inplace=True)"
   ]
  },
  {
   "cell_type": "code",
   "execution_count": 10,
   "id": "d80f7f0c",
   "metadata": {},
   "outputs": [
    {
     "name": "stdout",
     "output_type": "stream",
     "text": [
      "<class 'pandas.core.frame.DataFrame'>\n",
      "Index: 51093 entries, 0 to 52840\n",
      "Data columns (total 2 columns):\n",
      " #   Column     Non-Null Count  Dtype \n",
      "---  ------     --------------  ----- \n",
      " 0   statement  51093 non-null  object\n",
      " 1   status     51093 non-null  object\n",
      "dtypes: object(2)\n",
      "memory usage: 1.2+ MB\n"
     ]
    }
   ],
   "source": [
    "df.info()"
   ]
  },
  {
   "cell_type": "code",
   "execution_count": 11,
   "id": "10387634",
   "metadata": {},
   "outputs": [
    {
     "data": {
      "text/plain": [
       "[]"
      ]
     },
     "execution_count": 11,
     "metadata": {},
     "output_type": "execute_result"
    }
   ],
   "source": [
    "#check for blanks\n",
    "blanks = []\n",
    "for i,txt,lbl in df.itertuples():\n",
    "    if type(txt) == str:\n",
    "        if txt.isspace() == True:\n",
    "            blanks.append(i)\n",
    "blanks"
   ]
  },
  {
   "cell_type": "code",
   "execution_count": 35,
   "id": "9f543257",
   "metadata": {},
   "outputs": [],
   "source": [
    "df['len'] = df['statement'].apply(len)"
   ]
  },
  {
   "cell_type": "code",
   "execution_count": 13,
   "id": "bd5089d7",
   "metadata": {},
   "outputs": [],
   "source": [
    "#removing punctuation and stop words\n",
    "import spacy\n",
    "nlp = spacy.load('en_core_web_lg')"
   ]
  },
  {
   "cell_type": "code",
   "execution_count": 16,
   "id": "435812f8",
   "metadata": {},
   "outputs": [],
   "source": [
    "def clean_text(text):\n",
    "    doc = nlp(text)\n",
    "    return ' '.join([token.text.lower() for token in doc if not token.is_punct and not token.is_stop ])"
   ]
  },
  {
   "cell_type": "code",
   "execution_count": 17,
   "id": "dd1b4e7a",
   "metadata": {},
   "outputs": [],
   "source": [
    "df['text'] = df['statement'].apply(clean_text)"
   ]
  },
  {
   "cell_type": "code",
   "execution_count": 18,
   "id": "6eb01e3c",
   "metadata": {},
   "outputs": [],
   "source": [
    "#stemming, lemmatizing\n",
    "from nltk.stem import PorterStemmer\n",
    "stemmer = PorterStemmer()\n",
    "df['stem_text'] = df['text'].apply(lambda x : stemmer.stem(x))"
   ]
  },
  {
   "cell_type": "code",
   "execution_count": 19,
   "id": "1e2fb142",
   "metadata": {},
   "outputs": [],
   "source": [
    "def lemmatize(text):\n",
    "    doc = nlp(text)\n",
    "    return ' '.join([token.lemma_ for token in doc])"
   ]
  },
  {
   "cell_type": "code",
   "execution_count": 20,
   "id": "d8eefe61",
   "metadata": {},
   "outputs": [],
   "source": [
    "df['lemm_text'] = df['text'].apply(lemmatize)"
   ]
  },
  {
   "cell_type": "code",
   "execution_count": 14,
   "id": "84e33b53",
   "metadata": {},
   "outputs": [
    {
     "data": {
      "text/html": [
       "<div>\n",
       "<style scoped>\n",
       "    .dataframe tbody tr th:only-of-type {\n",
       "        vertical-align: middle;\n",
       "    }\n",
       "\n",
       "    .dataframe tbody tr th {\n",
       "        vertical-align: top;\n",
       "    }\n",
       "\n",
       "    .dataframe thead th {\n",
       "        text-align: right;\n",
       "    }\n",
       "</style>\n",
       "<table border=\"1\" class=\"dataframe\">\n",
       "  <thead>\n",
       "    <tr style=\"text-align: right;\">\n",
       "      <th></th>\n",
       "      <th>statement</th>\n",
       "      <th>status</th>\n",
       "      <th>len</th>\n",
       "    </tr>\n",
       "  </thead>\n",
       "  <tbody>\n",
       "    <tr>\n",
       "      <th>0</th>\n",
       "      <td>oh my gosh</td>\n",
       "      <td>Anxiety</td>\n",
       "      <td>10</td>\n",
       "    </tr>\n",
       "    <tr>\n",
       "      <th>1</th>\n",
       "      <td>trouble sleeping, confused mind, restless hear...</td>\n",
       "      <td>Anxiety</td>\n",
       "      <td>64</td>\n",
       "    </tr>\n",
       "    <tr>\n",
       "      <th>2</th>\n",
       "      <td>All wrong, back off dear, forward doubt. Stay ...</td>\n",
       "      <td>Anxiety</td>\n",
       "      <td>78</td>\n",
       "    </tr>\n",
       "    <tr>\n",
       "      <th>3</th>\n",
       "      <td>I've shifted my focus to something else but I'...</td>\n",
       "      <td>Anxiety</td>\n",
       "      <td>61</td>\n",
       "    </tr>\n",
       "    <tr>\n",
       "      <th>4</th>\n",
       "      <td>I'm restless and restless, it's been a month n...</td>\n",
       "      <td>Anxiety</td>\n",
       "      <td>72</td>\n",
       "    </tr>\n",
       "  </tbody>\n",
       "</table>\n",
       "</div>"
      ],
      "text/plain": [
       "                                           statement   status  len\n",
       "0                                         oh my gosh  Anxiety   10\n",
       "1  trouble sleeping, confused mind, restless hear...  Anxiety   64\n",
       "2  All wrong, back off dear, forward doubt. Stay ...  Anxiety   78\n",
       "3  I've shifted my focus to something else but I'...  Anxiety   61\n",
       "4  I'm restless and restless, it's been a month n...  Anxiety   72"
      ]
     },
     "execution_count": 14,
     "metadata": {},
     "output_type": "execute_result"
    }
   ],
   "source": [
    "df.head()"
   ]
  },
  {
   "cell_type": "code",
   "execution_count": 158,
   "id": "0326e992",
   "metadata": {},
   "outputs": [],
   "source": [
    "df['len'] = df['lemm_text'].apply(len)"
   ]
  },
  {
   "cell_type": "code",
   "execution_count": 41,
   "id": "e48f40d7",
   "metadata": {},
   "outputs": [
    {
     "data": {
      "text/plain": [
       "9416     25282\n",
       "46660    13834\n",
       "10834    12775\n",
       "51396    11147\n",
       "13293    10079\n",
       "         ...  \n",
       "32810        0\n",
       "32095        0\n",
       "31749        0\n",
       "31755        0\n",
       "31187        0\n",
       "Name: len, Length: 51093, dtype: int64"
      ]
     },
     "execution_count": 41,
     "metadata": {},
     "output_type": "execute_result"
    }
   ],
   "source": [
    "df['len'].sort_values(ascending=False)"
   ]
  },
  {
   "cell_type": "code",
   "execution_count": 21,
   "id": "1073761e",
   "metadata": {},
   "outputs": [],
   "source": [
    "def tokenize(text):\n",
    "    doc = nlp(text)\n",
    "    return [token.text for token in doc]\n",
    "df['tokens'] = df['statement'].apply(tokenize)\n",
    "df['wrd_len'] = df['tokens'].apply(len)\n"
   ]
  },
  {
   "cell_type": "code",
   "execution_count": 41,
   "id": "93101ab9",
   "metadata": {},
   "outputs": [
    {
     "data": {
      "text/plain": [
       "16425    125\n",
       "16923    125\n",
       "37793    125\n",
       "12646    125\n",
       "34476    125\n",
       "        ... \n",
       "1854       1\n",
       "5202       1\n",
       "4680       1\n",
       "5971       1\n",
       "3180       1\n",
       "Name: wrd_len, Length: 34519, dtype: int64"
      ]
     },
     "execution_count": 41,
     "metadata": {},
     "output_type": "execute_result"
    }
   ],
   "source": [
    "df['wrd_len'].sort_values(ascending=False)"
   ]
  },
  {
   "cell_type": "code",
   "execution_count": 42,
   "id": "3a1fc4b2",
   "metadata": {},
   "outputs": [],
   "source": [
    "df = df[df['wrd_len'] <= 125]"
   ]
  },
  {
   "cell_type": "code",
   "execution_count": 43,
   "id": "93a460d1",
   "metadata": {},
   "outputs": [
    {
     "data": {
      "text/plain": [
       "<seaborn.axisgrid.FacetGrid at 0x395e5f590>"
      ]
     },
     "execution_count": 43,
     "metadata": {},
     "output_type": "execute_result"
    },
    {
     "data": {
      "image/png": "[encoded data removed]",
      "text/plain": [
       "<Figure size 500x500 with 1 Axes>"
      ]
     },
     "metadata": {},
     "output_type": "display_data"
    }
   ],
   "source": [
    "sns.displot(df['wrd_len'])"
   ]
  },
  {
   "cell_type": "code",
   "execution_count": 44,
   "id": "2870d9b9",
   "metadata": {},
   "outputs": [
    {
     "data": {
      "text/html": [
       "<div>\n",
       "<style scoped>\n",
       "    .dataframe tbody tr th:only-of-type {\n",
       "        vertical-align: middle;\n",
       "    }\n",
       "\n",
       "    .dataframe tbody tr th {\n",
       "        vertical-align: top;\n",
       "    }\n",
       "\n",
       "    .dataframe thead th {\n",
       "        text-align: right;\n",
       "    }\n",
       "</style>\n",
       "<table border=\"1\" class=\"dataframe\">\n",
       "  <thead>\n",
       "    <tr style=\"text-align: right;\">\n",
       "      <th></th>\n",
       "      <th>statement</th>\n",
       "      <th>status</th>\n",
       "      <th>len</th>\n",
       "      <th>text</th>\n",
       "      <th>stem_text</th>\n",
       "      <th>lemm_text</th>\n",
       "      <th>tokens</th>\n",
       "      <th>wrd_len</th>\n",
       "    </tr>\n",
       "  </thead>\n",
       "  <tbody>\n",
       "    <tr>\n",
       "      <th>0</th>\n",
       "      <td>oh my gosh</td>\n",
       "      <td>Anxiety</td>\n",
       "      <td>10</td>\n",
       "      <td>oh gosh</td>\n",
       "      <td>oh gosh</td>\n",
       "      <td>oh gosh</td>\n",
       "      <td>[oh, my, gosh]</td>\n",
       "      <td>3</td>\n",
       "    </tr>\n",
       "    <tr>\n",
       "      <th>1</th>\n",
       "      <td>trouble sleeping, confused mind, restless hear...</td>\n",
       "      <td>Anxiety</td>\n",
       "      <td>64</td>\n",
       "      <td>trouble sleeping confused mind restless heart ...</td>\n",
       "      <td>trouble sleeping confused mind restless heart tun</td>\n",
       "      <td>trouble sleep confuse mind restless heart tune</td>\n",
       "      <td>[trouble, sleeping, ,, confused, mind, ,, rest...</td>\n",
       "      <td>13</td>\n",
       "    </tr>\n",
       "    <tr>\n",
       "      <th>2</th>\n",
       "      <td>All wrong, back off dear, forward doubt. Stay ...</td>\n",
       "      <td>Anxiety</td>\n",
       "      <td>78</td>\n",
       "      <td>wrong dear forward doubt stay restless restles...</td>\n",
       "      <td>wrong dear forward doubt stay restless restles...</td>\n",
       "      <td>wrong dear forward doubt stay restless restles...</td>\n",
       "      <td>[All, wrong, ,, back, off, dear, ,, forward, d...</td>\n",
       "      <td>17</td>\n",
       "    </tr>\n",
       "    <tr>\n",
       "      <th>3</th>\n",
       "      <td>I've shifted my focus to something else but I'...</td>\n",
       "      <td>Anxiety</td>\n",
       "      <td>61</td>\n",
       "      <td>shifted focus worried</td>\n",
       "      <td>shifted focus worri</td>\n",
       "      <td>shift focus worry</td>\n",
       "      <td>[I, 've, shifted, my, focus, to, something, el...</td>\n",
       "      <td>13</td>\n",
       "    </tr>\n",
       "    <tr>\n",
       "      <th>4</th>\n",
       "      <td>I'm restless and restless, it's been a month n...</td>\n",
       "      <td>Anxiety</td>\n",
       "      <td>72</td>\n",
       "      <td>restless restless month boy mean</td>\n",
       "      <td>restless restless month boy mean</td>\n",
       "      <td>restless restless month boy mean</td>\n",
       "      <td>[I, 'm, restless, and, restless, ,, it, 's, be...</td>\n",
       "      <td>20</td>\n",
       "    </tr>\n",
       "  </tbody>\n",
       "</table>\n",
       "</div>"
      ],
      "text/plain": [
       "                                           statement   status  len  \\\n",
       "0                                         oh my gosh  Anxiety   10   \n",
       "1  trouble sleeping, confused mind, restless hear...  Anxiety   64   \n",
       "2  All wrong, back off dear, forward doubt. Stay ...  Anxiety   78   \n",
       "3  I've shifted my focus to something else but I'...  Anxiety   61   \n",
       "4  I'm restless and restless, it's been a month n...  Anxiety   72   \n",
       "\n",
       "                                                text  \\\n",
       "0                                            oh gosh   \n",
       "1  trouble sleeping confused mind restless heart ...   \n",
       "2  wrong dear forward doubt stay restless restles...   \n",
       "3                              shifted focus worried   \n",
       "4                   restless restless month boy mean   \n",
       "\n",
       "                                           stem_text  \\\n",
       "0                                            oh gosh   \n",
       "1  trouble sleeping confused mind restless heart tun   \n",
       "2  wrong dear forward doubt stay restless restles...   \n",
       "3                                shifted focus worri   \n",
       "4                   restless restless month boy mean   \n",
       "\n",
       "                                           lemm_text  \\\n",
       "0                                            oh gosh   \n",
       "1     trouble sleep confuse mind restless heart tune   \n",
       "2  wrong dear forward doubt stay restless restles...   \n",
       "3                                  shift focus worry   \n",
       "4                   restless restless month boy mean   \n",
       "\n",
       "                                              tokens  wrd_len  \n",
       "0                                     [oh, my, gosh]        3  \n",
       "1  [trouble, sleeping, ,, confused, mind, ,, rest...       13  \n",
       "2  [All, wrong, ,, back, off, dear, ,, forward, d...       17  \n",
       "3  [I, 've, shifted, my, focus, to, something, el...       13  \n",
       "4  [I, 'm, restless, and, restless, ,, it, 's, be...       20  "
      ]
     },
     "execution_count": 44,
     "metadata": {},
     "output_type": "execute_result"
    }
   ],
   "source": [
    "#creating 3 pipelines\n",
    "df.head()"
   ]
  },
  {
   "cell_type": "code",
   "execution_count": 84,
   "id": "2f7b9b82",
   "metadata": {},
   "outputs": [
    {
     "name": "stdout",
     "output_type": "stream",
     "text": [
      "<class 'pandas.core.frame.DataFrame'>\n",
      "Index: 34519 entries, 0 to 52840\n",
      "Data columns (total 8 columns):\n",
      " #   Column     Non-Null Count  Dtype \n",
      "---  ------     --------------  ----- \n",
      " 0   statement  34519 non-null  object\n",
      " 1   status     34519 non-null  object\n",
      " 2   len        34519 non-null  int64 \n",
      " 3   text       34519 non-null  object\n",
      " 4   stem_text  34519 non-null  object\n",
      " 5   lemm_text  34519 non-null  object\n",
      " 6   tokens     34519 non-null  object\n",
      " 7   wrd_len    34519 non-null  int64 \n",
      "dtypes: int64(2), object(6)\n",
      "memory usage: 3.4+ MB\n"
     ]
    }
   ],
   "source": [
    "df.info()"
   ]
  },
  {
   "cell_type": "code",
   "execution_count": 66,
   "id": "3f62fdb6",
   "metadata": {},
   "outputs": [
    {
     "data": {
      "text/plain": [
       "<Axes: xlabel='status', ylabel='count'>"
      ]
     },
     "execution_count": 66,
     "metadata": {},
     "output_type": "execute_result"
    },
    {
     "data": {
      "image/png": "[encoded data removed]",
      "text/plain": [
       "<Figure size 640x480 with 1 Axes>"
      ]
     },
     "metadata": {},
     "output_type": "display_data"
    }
   ],
   "source": [
    "sns.set_style('white')\n",
    "sns.countplot(x='status',data=df,palette='viridis')"
   ]
  },
  {
   "cell_type": "code",
   "execution_count": 90,
   "id": "79a4866e",
   "metadata": {},
   "outputs": [
    {
     "data": {
      "text/plain": [
       "status\n",
       "Normal                  15836\n",
       "Depression               7652\n",
       "Suicidal                 6176\n",
       "Anxiety                  1900\n",
       "Stress                   1569\n",
       "Bipolar                  1009\n",
       "Personality disorder      377\n",
       "Name: count, dtype: int64"
      ]
     },
     "execution_count": 90,
     "metadata": {},
     "output_type": "execute_result"
    }
   ],
   "source": [
    "df['status'].value_counts()"
   ]
  },
  {
   "cell_type": "code",
   "execution_count": null,
   "id": "1c385702",
   "metadata": {},
   "outputs": [],
   "source": [
    "#we will be dividing all classes into 3 bins\n",
    "\"\"\"Normal: Doesn't need help (15,836 samples)\n",
    "Depression/Suicidal: Needs help with depression and suicide risk (13,828 samples)\n",
    "Other: Needs other kinds of assistance (4,855 samples)\n",
    "\n",
    "This grouping makes sense because:\n",
    "\n",
    "It maintains a clear distinction between those who likely don't need intervention and those who do.\n",
    "It prioritizes depression and suicide, which often co-occur and represent high-risk conditions requiring immediate attention.\n",
    "It groups other conditions that, while serious, might require different types of interventions.\"\"\""
   ]
  },
  {
   "cell_type": "code",
   "execution_count": 110,
   "id": "68609858",
   "metadata": {},
   "outputs": [],
   "source": [
    "def bin_3(label):\n",
    "    if label == \"Normal\":\n",
    "        return label\n",
    "    elif label == \"Depression\" or label == \"Suicidal\":\n",
    "        return \"Depression + Suicidal\"\n",
    "    else:\n",
    "        return \"Other\""
   ]
  },
  {
   "cell_type": "code",
   "execution_count": 111,
   "id": "a0a7bf66",
   "metadata": {},
   "outputs": [
    {
     "data": {
      "text/plain": [
       "status\n",
       "Normal                   15836\n",
       "Depression + Suicidal    13828\n",
       "Other                     4855\n",
       "Name: count, dtype: int64"
      ]
     },
     "execution_count": 111,
     "metadata": {},
     "output_type": "execute_result"
    }
   ],
   "source": [
    "df['status'].apply(bin_3).value_counts()"
   ]
  },
  {
   "cell_type": "code",
   "execution_count": 112,
   "id": "05affc57",
   "metadata": {},
   "outputs": [],
   "source": [
    "df['status'] = df['status'].apply(bin_3)"
   ]
  },
  {
   "cell_type": "code",
   "execution_count": 113,
   "id": "89bf2c10",
   "metadata": {},
   "outputs": [
    {
     "data": {
      "text/plain": [
       "status\n",
       "Normal                   15836\n",
       "Depression + Suicidal    13828\n",
       "Other                     4855\n",
       "Name: count, dtype: int64"
      ]
     },
     "execution_count": 113,
     "metadata": {},
     "output_type": "execute_result"
    }
   ],
   "source": [
    "df['status'].value_counts()"
   ]
  },
  {
   "cell_type": "code",
   "execution_count": 128,
   "id": "881e1675",
   "metadata": {},
   "outputs": [],
   "source": [
    "text_raw = df['text']\n",
    "text_stem = df['stem_text']\n",
    "text_lemm = df['lemm_text']\n",
    "label = df['status']"
   ]
  },
  {
   "cell_type": "code",
   "execution_count": 129,
   "id": "91ec30ab",
   "metadata": {},
   "outputs": [],
   "source": [
    "#train and test split\n",
    "from sklearn.model_selection import train_test_split\n",
    "text_raw_train,text_raw_test,label_train,label_test = train_test_split(text_raw,label,test_size=0.2,stratify=label)"
   ]
  },
  {
   "cell_type": "code",
   "execution_count": 130,
   "id": "83da478d",
   "metadata": {},
   "outputs": [],
   "source": [
    "text_stem_train,text_stem_test,label_train,label_test = train_test_split(text_stem,label,test_size=0.2,stratify=label)"
   ]
  },
  {
   "cell_type": "code",
   "execution_count": 131,
   "id": "882a2f47",
   "metadata": {},
   "outputs": [],
   "source": [
    "text_lemm_train,text_lemm_test,label_train,label_test = train_test_split(text_lemm,label,test_size=0.2,stratify=label)"
   ]
  },
  {
   "cell_type": "markdown",
   "id": "5b58979e",
   "metadata": {},
   "source": [
    "### countvect only and countvect + tfidf with 4 models each"
   ]
  },
  {
   "cell_type": "code",
   "execution_count": 119,
   "id": "b4d50a3c",
   "metadata": {},
   "outputs": [],
   "source": [
    "from sklearn.pipeline import Pipeline\n",
    "from sklearn.feature_extraction.text import CountVectorizer,TfidfVectorizer\n",
    "from sklearn.tree import DecisionTreeClassifier\n",
    "from sklearn.ensemble import RandomForestClassifier\n",
    "from sklearn.svm import SVC\n",
    "from sklearn.naive_bayes import MultinomialNB\n",
    "from sklearn.metrics import classification_report,roc_auc_score,accuracy_score,f1_score"
   ]
  },
  {
   "cell_type": "markdown",
   "id": "6498526a",
   "metadata": {},
   "source": [
    "### Dtree pipelines + Bow"
   ]
  },
  {
   "cell_type": "code",
   "execution_count": 120,
   "id": "0e1ef051",
   "metadata": {},
   "outputs": [],
   "source": [
    "bow_dtree_raw = Pipeline([(\"bow\",CountVectorizer()),\n",
    "                          (\"dtree\",DecisionTreeClassifier())])\n",
    "bow_dtree_stem = Pipeline([(\"bow\",CountVectorizer()),\n",
    "                          (\"dtree\",DecisionTreeClassifier())])\n",
    "bow_dtree_lemm = Pipeline([(\"bow\",CountVectorizer()),\n",
    "                          (\"dtree\",DecisionTreeClassifier())])"
   ]
  },
  {
   "cell_type": "code",
   "execution_count": 121,
   "id": "1f3229ed",
   "metadata": {},
   "outputs": [
    {
     "name": "stdout",
     "output_type": "stream",
     "text": [
      "Decision Tree + BOW - Raw Text\n",
      "                       precision    recall  f1-score   support\n",
      "\n",
      "Depression + Suicidal       0.40      0.44      0.42      2766\n",
      "               Normal       0.45      0.45      0.45      3167\n",
      "                Other       0.16      0.12      0.13       971\n",
      "\n",
      "             accuracy                           0.40      6904\n",
      "            macro avg       0.34      0.34      0.33      6904\n",
      "         weighted avg       0.39      0.40      0.39      6904\n",
      "\n"
     ]
    }
   ],
   "source": [
    "bow_dtree_raw.fit(text_raw_train,label_train)\n",
    "pred_bow_dtree_raw = bow_dtree_raw.predict(text_raw_test)\n",
    "print(\"Decision Tree + BOW - Raw Text\")\n",
    "print(classification_report(label_test,pred_bow_dtree_raw))"
   ]
  },
  {
   "cell_type": "code",
   "execution_count": 122,
   "id": "6e5e1e07",
   "metadata": {},
   "outputs": [
    {
     "name": "stdout",
     "output_type": "stream",
     "text": [
      "Decision Tree + BOW -Stem Text\n",
      "                       precision    recall  f1-score   support\n",
      "\n",
      "Depression + Suicidal       0.40      0.42      0.41      2766\n",
      "               Normal       0.45      0.48      0.47      3167\n",
      "                Other       0.14      0.09      0.11       971\n",
      "\n",
      "             accuracy                           0.40      6904\n",
      "            macro avg       0.33      0.33      0.33      6904\n",
      "         weighted avg       0.39      0.40      0.39      6904\n",
      "\n"
     ]
    }
   ],
   "source": [
    "bow_dtree_stem.fit(text_stem_train,label_train)\n",
    "pred_bow_dtree_stem = bow_dtree_stem.predict(text_stem_test)\n",
    "print(\"Decision Tree + BOW -Stem Text\")\n",
    "print(classification_report(label_test,pred_bow_dtree_stem))"
   ]
  },
  {
   "cell_type": "code",
   "execution_count": 155,
   "id": "b5ef096f",
   "metadata": {},
   "outputs": [
    {
     "name": "stdout",
     "output_type": "stream",
     "text": [
      "Decision Tree + BOW -Lemm Text\n",
      "                       precision    recall  f1-score   support\n",
      "\n",
      "Depression + Suicidal       0.77      0.78      0.78      2766\n",
      "               Normal       0.84      0.87      0.86      3167\n",
      "                Other       0.59      0.51      0.54       971\n",
      "\n",
      "             accuracy                           0.78      6904\n",
      "            macro avg       0.74      0.72      0.73      6904\n",
      "         weighted avg       0.78      0.78      0.78      6904\n",
      "\n"
     ]
    }
   ],
   "source": [
    "bow_dtree_lemm.fit(text_lemm_train,label_train)\n",
    "pred_bow_dtree_lemm = bow_dtree_lemm.predict(text_lemm_test)\n",
    "print(\"Decision Tree + BOW -Lemm Text\")\n",
    "print(classification_report(label_test,pred_bow_dtree_lemm))"
   ]
  },
  {
   "cell_type": "markdown",
   "id": "20d18483",
   "metadata": {},
   "source": [
    "### RFC pipelines + Bow"
   ]
  },
  {
   "cell_type": "code",
   "execution_count": 124,
   "id": "908183bf",
   "metadata": {},
   "outputs": [],
   "source": [
    "bow_rfc_raw = Pipeline([(\"bow\",CountVectorizer()),\n",
    "                          (\"RFC\",RandomForestClassifier())])\n",
    "bow_rfc_stem = Pipeline([(\"bow\",CountVectorizer()),\n",
    "                          (\"RFC\",RandomForestClassifier())])\n",
    "bow_rfc_lemm = Pipeline([(\"bow\",CountVectorizer()),\n",
    "                          (\"RFC\",RandomForestClassifier())])"
   ]
  },
  {
   "cell_type": "code",
   "execution_count": 132,
   "id": "fdcb3df7",
   "metadata": {},
   "outputs": [
    {
     "name": "stdout",
     "output_type": "stream",
     "text": [
      "RFC + BOW - Raw Text\n",
      "                       precision    recall  f1-score   support\n",
      "\n",
      "Depression + Suicidal       0.39      0.36      0.38      2766\n",
      "               Normal       0.45      0.59      0.51      3167\n",
      "                Other       0.11      0.02      0.03       971\n",
      "\n",
      "             accuracy                           0.42      6904\n",
      "            macro avg       0.32      0.32      0.31      6904\n",
      "         weighted avg       0.38      0.42      0.39      6904\n",
      "\n"
     ]
    }
   ],
   "source": [
    "bow_rfc_raw.fit(text_raw_train,label_train)\n",
    "pred_bow_rfc_raw = bow_rfc_raw.predict(text_raw_test)\n",
    "print(\"RFC + BOW - Raw Text\")\n",
    "print(classification_report(label_test,pred_bow_rfc_raw))"
   ]
  },
  {
   "cell_type": "code",
   "execution_count": 133,
   "id": "82f77642",
   "metadata": {},
   "outputs": [
    {
     "name": "stdout",
     "output_type": "stream",
     "text": [
      "RFC + BOW - STEM Text\n",
      "                       precision    recall  f1-score   support\n",
      "\n",
      "Depression + Suicidal       0.41      0.37      0.39      2766\n",
      "               Normal       0.46      0.62      0.53      3167\n",
      "                Other       0.11      0.02      0.03       971\n",
      "\n",
      "             accuracy                           0.43      6904\n",
      "            macro avg       0.33      0.34      0.32      6904\n",
      "         weighted avg       0.39      0.43      0.40      6904\n",
      "\n"
     ]
    }
   ],
   "source": [
    "bow_rfc_stem.fit(text_stem_train,label_train)\n",
    "pred_bow_rfc_stem = bow_rfc_stem.predict(text_stem_test)\n",
    "print(\"RFC + BOW - STEM Text\")\n",
    "print(classification_report(label_test,pred_bow_rfc_stem))"
   ]
  },
  {
   "cell_type": "code",
   "execution_count": 127,
   "id": "b2b790a4",
   "metadata": {},
   "outputs": [
    {
     "name": "stdout",
     "output_type": "stream",
     "text": [
      "RFC + BOW - STEM Text\n",
      "                       precision    recall  f1-score   support\n",
      "\n",
      "Depression + Suicidal       0.76      0.90      0.82      2766\n",
      "               Normal       0.88      0.91      0.90      3167\n",
      "                Other       0.90      0.32      0.47       971\n",
      "\n",
      "             accuracy                           0.82      6904\n",
      "            macro avg       0.84      0.71      0.73      6904\n",
      "         weighted avg       0.83      0.82      0.81      6904\n",
      "\n"
     ]
    }
   ],
   "source": [
    "bow_rfc_lemm.fit(text_lemm_train,label_train)\n",
    "pred_bow_rfc_lemm = bow_rfc_lemm.predict(text_lemm_test)\n",
    "print(\"RFC + BOW - LEMM Text\")\n",
    "print(classification_report(label_test,pred_bow_rfc_lemm))"
   ]
  },
  {
   "cell_type": "markdown",
   "id": "4276a518",
   "metadata": {},
   "source": [
    "### SVM + BOW pipeline"
   ]
  },
  {
   "cell_type": "code",
   "execution_count": 134,
   "id": "fce212e0",
   "metadata": {},
   "outputs": [],
   "source": [
    "bow_svm_raw = Pipeline([(\"bow\",CountVectorizer()),\n",
    "                          (\"svm\",SVC())])\n",
    "bow_svm_stem = Pipeline([(\"bow\",CountVectorizer()),\n",
    "                          (\"svm\",SVC())])\n",
    "bow_svm_lemm = Pipeline([(\"bow\",CountVectorizer()),\n",
    "                          (\"svm\",SVC())])"
   ]
  },
  {
   "cell_type": "code",
   "execution_count": 135,
   "id": "35449eb4",
   "metadata": {},
   "outputs": [
    {
     "name": "stdout",
     "output_type": "stream",
     "text": [
      "SVM + BOW - Raw Text\n",
      "                       precision    recall  f1-score   support\n",
      "\n",
      "Depression + Suicidal       0.37      0.15      0.21      2766\n",
      "               Normal       0.45      0.83      0.59      3167\n",
      "                Other       0.00      0.00      0.00       971\n",
      "\n",
      "             accuracy                           0.44      6904\n",
      "            macro avg       0.28      0.33      0.27      6904\n",
      "         weighted avg       0.36      0.44      0.36      6904\n",
      "\n"
     ]
    }
   ],
   "source": [
    "bow_svm_raw.fit(text_raw_train,label_train)\n",
    "pred_bow_svm_raw = bow_svm_raw.predict(text_raw_test)\n",
    "print(\"SVM + BOW - Raw Text\")\n",
    "print(classification_report(label_test,pred_bow_svm_raw))"
   ]
  },
  {
   "cell_type": "code",
   "execution_count": 136,
   "id": "0935309e",
   "metadata": {},
   "outputs": [
    {
     "name": "stdout",
     "output_type": "stream",
     "text": [
      "SVM + BOW - STEM Text\n",
      "                       precision    recall  f1-score   support\n",
      "\n",
      "Depression + Suicidal       0.39      0.15      0.21      2766\n",
      "               Normal       0.46      0.85      0.60      3167\n",
      "                Other       0.00      0.00      0.00       971\n",
      "\n",
      "             accuracy                           0.45      6904\n",
      "            macro avg       0.28      0.33      0.27      6904\n",
      "         weighted avg       0.37      0.45      0.36      6904\n",
      "\n"
     ]
    }
   ],
   "source": [
    "bow_svm_stem.fit(text_stem_train,label_train)\n",
    "pred_bow_svm_stem = bow_svm_stem.predict(text_stem_test)\n",
    "print(\"SVM + BOW - STEM Text\")\n",
    "print(classification_report(label_test,pred_bow_svm_stem))"
   ]
  },
  {
   "cell_type": "code",
   "execution_count": 137,
   "id": "989d5e53",
   "metadata": {},
   "outputs": [
    {
     "name": "stdout",
     "output_type": "stream",
     "text": [
      "SVM + BOW - LEMM Text\n",
      "                       precision    recall  f1-score   support\n",
      "\n",
      "Depression + Suicidal       0.83      0.90      0.86      2766\n",
      "               Normal       0.91      0.92      0.92      3167\n",
      "                Other       0.80      0.58      0.67       971\n",
      "\n",
      "             accuracy                           0.86      6904\n",
      "            macro avg       0.85      0.80      0.82      6904\n",
      "         weighted avg       0.86      0.86      0.86      6904\n",
      "\n"
     ]
    }
   ],
   "source": [
    "bow_svm_lemm.fit(text_lemm_train,label_train)\n",
    "pred_bow_svm_lemm = bow_svm_lemm.predict(text_lemm_test)\n",
    "print(\"SVM + BOW - LEMM Text\")\n",
    "print(classification_report(label_test,pred_bow_svm_lemm))"
   ]
  },
  {
   "cell_type": "markdown",
   "id": "562a34fe",
   "metadata": {},
   "source": [
    "### NB+BOW pipeline"
   ]
  },
  {
   "cell_type": "code",
   "execution_count": 138,
   "id": "dd06be57",
   "metadata": {},
   "outputs": [],
   "source": [
    "bow_nb_raw = Pipeline([(\"bow\",CountVectorizer()),\n",
    "                          (\"nb\",MultinomialNB())])\n",
    "bow_nb_stem = Pipeline([(\"bow\",CountVectorizer()),\n",
    "                          (\"nb\",MultinomialNB())])\n",
    "bow_nb_lemm = Pipeline([(\"bow\",CountVectorizer()),\n",
    "                          (\"nb\",MultinomialNB())])"
   ]
  },
  {
   "cell_type": "code",
   "execution_count": 140,
   "id": "385d1e92",
   "metadata": {},
   "outputs": [
    {
     "name": "stdout",
     "output_type": "stream",
     "text": [
      "NB + BOW - Raw Text\n",
      "                       precision    recall  f1-score   support\n",
      "\n",
      "Depression + Suicidal       0.39      0.32      0.35      2766\n",
      "               Normal       0.45      0.64      0.53      3167\n",
      "                Other       0.19      0.02      0.04       971\n",
      "\n",
      "             accuracy                           0.43      6904\n",
      "            macro avg       0.34      0.33      0.31      6904\n",
      "         weighted avg       0.39      0.43      0.39      6904\n",
      "\n"
     ]
    }
   ],
   "source": [
    "bow_nb_raw.fit(text_raw_train,label_train)\n",
    "pred_bow_nb_raw = bow_nb_raw.predict(text_raw_test)\n",
    "print(\"NB + BOW - Raw Text\")\n",
    "print(classification_report(label_test,pred_bow_nb_raw))"
   ]
  },
  {
   "cell_type": "code",
   "execution_count": 141,
   "id": "fb228aae",
   "metadata": {},
   "outputs": [
    {
     "name": "stdout",
     "output_type": "stream",
     "text": [
      "NB + BOW - STEM Text\n",
      "                       precision    recall  f1-score   support\n",
      "\n",
      "Depression + Suicidal       0.39      0.32      0.35      2766\n",
      "               Normal       0.46      0.65      0.54      3167\n",
      "                Other       0.11      0.01      0.02       971\n",
      "\n",
      "             accuracy                           0.43      6904\n",
      "            macro avg       0.32      0.33      0.30      6904\n",
      "         weighted avg       0.38      0.43      0.39      6904\n",
      "\n"
     ]
    }
   ],
   "source": [
    "bow_nb_stem.fit(text_stem_train,label_train)\n",
    "pred_bow_nb_stem = bow_nb_stem.predict(text_stem_test)\n",
    "print(\"NB + BOW - STEM Text\")\n",
    "print(classification_report(label_test,pred_bow_nb_stem))"
   ]
  },
  {
   "cell_type": "code",
   "execution_count": 142,
   "id": "f73f7083",
   "metadata": {},
   "outputs": [
    {
     "name": "stdout",
     "output_type": "stream",
     "text": [
      "NB + BOW - LEMM Text\n",
      "                       precision    recall  f1-score   support\n",
      "\n",
      "Depression + Suicidal       0.71      0.93      0.81      2766\n",
      "               Normal       0.95      0.74      0.83      3167\n",
      "                Other       0.72      0.62      0.67       971\n",
      "\n",
      "             accuracy                           0.80      6904\n",
      "            macro avg       0.80      0.76      0.77      6904\n",
      "         weighted avg       0.82      0.80      0.80      6904\n",
      "\n"
     ]
    }
   ],
   "source": [
    "bow_nb_lemm.fit(text_lemm_train,label_train)\n",
    "pred_bow_nb_lemm = bow_nb_lemm.predict(text_lemm_test)\n",
    "print(\"NB + BOW - LEMM Text\")\n",
    "print(classification_report(label_test,pred_bow_nb_lemm))"
   ]
  },
  {
   "cell_type": "markdown",
   "id": "6712bcc7",
   "metadata": {},
   "source": [
    "### Best Accuracy - SVM+LEMM (86%),RFC+LEMM(82%)"
   ]
  },
  {
   "cell_type": "markdown",
   "id": "4b427804",
   "metadata": {},
   "source": [
    "### Dtree pipelines + Bow +Tfidf"
   ]
  },
  {
   "cell_type": "code",
   "execution_count": 143,
   "id": "64672249",
   "metadata": {},
   "outputs": [],
   "source": [
    "bow_tfidf_dtree_raw = Pipeline([(\"bow+tfidf\",TfidfVectorizer()),\n",
    "                          (\"dtree\",DecisionTreeClassifier())])\n",
    "bow_tfidf_dtree_stem = Pipeline([(\"bow+tfidf\",TfidfVectorizer()),\n",
    "                          (\"dtree\",DecisionTreeClassifier())])\n",
    "bow_tfidf_dtree_lemm = Pipeline([(\"bow+tfidf\",TfidfVectorizer()),\n",
    "                          (\"dtree\",DecisionTreeClassifier())])"
   ]
  },
  {
   "cell_type": "code",
   "execution_count": 144,
   "id": "514ec932",
   "metadata": {},
   "outputs": [
    {
     "name": "stdout",
     "output_type": "stream",
     "text": [
      "Dtree + BOW + Tfidf - Raw Text\n",
      "                       precision    recall  f1-score   support\n",
      "\n",
      "Depression + Suicidal       0.39      0.40      0.39      2766\n",
      "               Normal       0.46      0.51      0.48      3167\n",
      "                Other       0.13      0.08      0.10       971\n",
      "\n",
      "             accuracy                           0.40      6904\n",
      "            macro avg       0.33      0.33      0.33      6904\n",
      "         weighted avg       0.39      0.40      0.39      6904\n",
      "\n"
     ]
    }
   ],
   "source": [
    "bow_tfidf_dtree_raw.fit(text_raw_train,label_train)\n",
    "pred_bow_tfidf_dtree_raw = bow_tfidf_dtree_raw.predict(text_raw_test)\n",
    "print(\"Dtree + BOW + Tfidf - Raw Text\")\n",
    "print(classification_report(label_test,pred_bow_tfidf_dtree_raw))"
   ]
  },
  {
   "cell_type": "code",
   "execution_count": 145,
   "id": "beef3285",
   "metadata": {},
   "outputs": [
    {
     "name": "stdout",
     "output_type": "stream",
     "text": [
      "Dtree + BOW + Tfidf - STEM Text\n",
      "                       precision    recall  f1-score   support\n",
      "\n",
      "Depression + Suicidal       0.39      0.40      0.39      2766\n",
      "               Normal       0.45      0.50      0.47      3167\n",
      "                Other       0.15      0.10      0.12       971\n",
      "\n",
      "             accuracy                           0.40      6904\n",
      "            macro avg       0.33      0.33      0.33      6904\n",
      "         weighted avg       0.38      0.40      0.39      6904\n",
      "\n"
     ]
    }
   ],
   "source": [
    "bow_tfidf_dtree_stem.fit(text_stem_train,label_train)\n",
    "pred_bow_tfidf_dtree_stem = bow_tfidf_dtree_stem.predict(text_stem_test)\n",
    "print(\"Dtree + BOW + Tfidf - STEM Text\")\n",
    "print(classification_report(label_test,pred_bow_tfidf_dtree_stem))"
   ]
  },
  {
   "cell_type": "code",
   "execution_count": 150,
   "id": "c85f347d",
   "metadata": {},
   "outputs": [
    {
     "name": "stdout",
     "output_type": "stream",
     "text": [
      "Dtree + BOW + Tfidf - LEMM Text\n",
      "                       precision    recall  f1-score   support\n",
      "\n",
      "Depression + Suicidal       0.78      0.77      0.77      2766\n",
      "               Normal       0.84      0.87      0.85      3167\n",
      "                Other       0.57      0.54      0.56       971\n",
      "\n",
      "             accuracy                           0.78      6904\n",
      "            macro avg       0.73      0.73      0.73      6904\n",
      "         weighted avg       0.78      0.78      0.78      6904\n",
      "\n"
     ]
    }
   ],
   "source": [
    "bow_tfidf_dtree_lemm.fit(text_lemm_train,label_train)\n",
    "pred_bow_tfidf_dtree_lemm = bow_tfidf_dtree_lemm.predict(text_lemm_test)\n",
    "print(\"Dtree + BOW + Tfidf - LEMM Text\")\n",
    "print(classification_report(label_test,pred_bow_tfidf_dtree_lemm))"
   ]
  },
  {
   "cell_type": "markdown",
   "id": "86e1f498",
   "metadata": {},
   "source": [
    "### RFC + BOW +Tfidf pipelines"
   ]
  },
  {
   "cell_type": "code",
   "execution_count": 147,
   "id": "3fbd3500",
   "metadata": {},
   "outputs": [],
   "source": [
    "bow_tfidf_rfc_raw = Pipeline([(\"bow+tfidf\",TfidfVectorizer()),\n",
    "                          (\"RFC\",RandomForestClassifier())])\n",
    "bow_tfidf_rfc_stem = Pipeline([(\"bow+tfidf\",TfidfVectorizer()),\n",
    "                          (\"RFC\",RandomForestClassifier())])\n",
    "bow_tfidf_rfc_lemm = Pipeline([(\"bow+tfidf\",TfidfVectorizer()),\n",
    "                          (\"RFC\",RandomForestClassifier())])"
   ]
  },
  {
   "cell_type": "code",
   "execution_count": 148,
   "id": "8f07fe08",
   "metadata": {},
   "outputs": [
    {
     "name": "stdout",
     "output_type": "stream",
     "text": [
      "RFC + BOW + Tfidf - Raw Text\n",
      "                       precision    recall  f1-score   support\n",
      "\n",
      "Depression + Suicidal       0.40      0.33      0.36      2766\n",
      "               Normal       0.46      0.66      0.54      3167\n",
      "                Other       0.13      0.01      0.02       971\n",
      "\n",
      "             accuracy                           0.43      6904\n",
      "            macro avg       0.33      0.33      0.31      6904\n",
      "         weighted avg       0.39      0.43      0.40      6904\n",
      "\n"
     ]
    }
   ],
   "source": [
    "bow_tfidf_rfc_raw.fit(text_raw_train,label_train)\n",
    "pred_bow_tfidf_rfc_raw = bow_tfidf_rfc_raw.predict(text_raw_test)\n",
    "print(\"RFC + BOW + Tfidf - Raw Text\")\n",
    "print(classification_report(label_test,pred_bow_tfidf_rfc_raw))"
   ]
  },
  {
   "cell_type": "code",
   "execution_count": 149,
   "id": "5e9c3064",
   "metadata": {},
   "outputs": [
    {
     "name": "stdout",
     "output_type": "stream",
     "text": [
      "RFC + BOW + Tfidf - STEM Text\n",
      "                       precision    recall  f1-score   support\n",
      "\n",
      "Depression + Suicidal       0.40      0.33      0.36      2766\n",
      "               Normal       0.46      0.67      0.55      3167\n",
      "                Other       0.20      0.02      0.03       971\n",
      "\n",
      "             accuracy                           0.44      6904\n",
      "            macro avg       0.35      0.34      0.31      6904\n",
      "         weighted avg       0.40      0.44      0.40      6904\n",
      "\n"
     ]
    }
   ],
   "source": [
    "bow_tfidf_rfc_stem.fit(text_stem_train,label_train)\n",
    "pred_bow_tfidf_rfc_stem = bow_tfidf_rfc_stem.predict(text_stem_test)\n",
    "print(\"RFC + BOW + Tfidf - STEM Text\")\n",
    "print(classification_report(label_test,pred_bow_tfidf_rfc_stem))"
   ]
  },
  {
   "cell_type": "code",
   "execution_count": 152,
   "id": "bf2af48c",
   "metadata": {},
   "outputs": [
    {
     "name": "stdout",
     "output_type": "stream",
     "text": [
      "rfc + BOW + Tfidf - LEMM Text\n",
      "                       precision    recall  f1-score   support\n",
      "\n",
      "Depression + Suicidal       0.76      0.91      0.83      2766\n",
      "               Normal       0.90      0.92      0.91      3167\n",
      "                Other       0.88      0.34      0.49       971\n",
      "\n",
      "             accuracy                           0.83      6904\n",
      "            macro avg       0.85      0.72      0.74      6904\n",
      "         weighted avg       0.84      0.83      0.82      6904\n",
      "\n"
     ]
    }
   ],
   "source": [
    "bow_tfidf_rfc_lemm.fit(text_lemm_train,label_train)\n",
    "pred_bow_tfidf_rfc_lemm = bow_tfidf_rfc_lemm.predict(text_lemm_test)\n",
    "print(\"rfc + BOW + Tfidf - LEMM Text\")\n",
    "print(classification_report(label_test,pred_bow_tfidf_rfc_lemm))"
   ]
  },
  {
   "cell_type": "markdown",
   "id": "739c3c32",
   "metadata": {},
   "source": [
    "### SVM + BOW +Tfidf pipelines "
   ]
  },
  {
   "cell_type": "code",
   "execution_count": 153,
   "id": "21ce50c9",
   "metadata": {},
   "outputs": [],
   "source": [
    "bow_tfidf_svm_raw = Pipeline([(\"bow+tfidf\",TfidfVectorizer()),\n",
    "                          (\"SVM\",SVC())])\n",
    "bow_tfidf_svm_stem = Pipeline([(\"bow+tfidf\",TfidfVectorizer()),\n",
    "                          (\"SVM\",SVC())])\n",
    "bow_tfidf_svm_lemm = Pipeline([(\"bow+tfidf\",TfidfVectorizer()),\n",
    "                          (\"SVM\",SVC())])"
   ]
  },
  {
   "cell_type": "code",
   "execution_count": 154,
   "id": "e72e0aa6",
   "metadata": {},
   "outputs": [
    {
     "name": "stdout",
     "output_type": "stream",
     "text": [
      "SVM + BOW + Tfidf - Raw Text\n",
      "                       precision    recall  f1-score   support\n",
      "\n",
      "Depression + Suicidal       0.39      0.28      0.32      2766\n",
      "               Normal       0.46      0.71      0.56      3167\n",
      "                Other       0.00      0.00      0.00       971\n",
      "\n",
      "             accuracy                           0.44      6904\n",
      "            macro avg       0.28      0.33      0.29      6904\n",
      "         weighted avg       0.37      0.44      0.39      6904\n",
      "\n"
     ]
    }
   ],
   "source": [
    "bow_tfidf_svm_raw.fit(text_raw_train,label_train)\n",
    "pred_bow_tfidf_svm_raw = bow_tfidf_svm_raw.predict(text_raw_test)\n",
    "print(\"SVM + BOW + Tfidf - Raw Text\")\n",
    "print(classification_report(label_test,pred_bow_tfidf_svm_raw))"
   ]
  },
  {
   "cell_type": "code",
   "execution_count": 156,
   "id": "07195df4",
   "metadata": {},
   "outputs": [
    {
     "name": "stdout",
     "output_type": "stream",
     "text": [
      "SVM + BOW + Tfidf - STEM Text\n",
      "                       precision    recall  f1-score   support\n",
      "\n",
      "Depression + Suicidal       0.38      0.26      0.31      2766\n",
      "               Normal       0.46      0.72      0.56      3167\n",
      "                Other       0.00      0.00      0.00       971\n",
      "\n",
      "             accuracy                           0.44      6904\n",
      "            macro avg       0.28      0.33      0.29      6904\n",
      "         weighted avg       0.36      0.44      0.38      6904\n",
      "\n"
     ]
    }
   ],
   "source": [
    "bow_tfidf_svm_stem.fit(text_stem_train,label_train)\n",
    "pred_bow_tfidf_svm_stem = bow_tfidf_svm_stem.predict(text_stem_test)\n",
    "print(\"SVM + BOW + Tfidf - STEM Text\")\n",
    "print(classification_report(label_test,pred_bow_tfidf_svm_stem))"
   ]
  },
  {
   "cell_type": "code",
   "execution_count": 157,
   "id": "d47732e3",
   "metadata": {},
   "outputs": [
    {
     "name": "stdout",
     "output_type": "stream",
     "text": [
      "svm + BOW + Tfidf - LEMM Text\n",
      "                       precision    recall  f1-score   support\n",
      "\n",
      "Depression + Suicidal       0.86      0.89      0.87      2766\n",
      "               Normal       0.90      0.93      0.91      3167\n",
      "                Other       0.82      0.60      0.69       971\n",
      "\n",
      "             accuracy                           0.87      6904\n",
      "            macro avg       0.86      0.81      0.83      6904\n",
      "         weighted avg       0.87      0.87      0.87      6904\n",
      "\n"
     ]
    }
   ],
   "source": [
    "bow_tfidf_svm_lemm.fit(text_lemm_train,label_train)\n",
    "pred_bow_tfidf_svm_lemm = bow_tfidf_svm_lemm.predict(text_lemm_test)\n",
    "print(\"svm + BOW + Tfidf - LEMM Text\")\n",
    "print(classification_report(label_test,pred_bow_tfidf_svm_lemm))"
   ]
  },
  {
   "cell_type": "code",
   "execution_count": 159,
   "id": "fbd2324c",
   "metadata": {},
   "outputs": [],
   "source": [
    "bow_tfidf_nb_raw = Pipeline([(\"bow+tfidf\",TfidfVectorizer()),\n",
    "                          (\"nb\",MultinomialNB())])\n",
    "bow_tfidf_nb_stem = Pipeline([(\"bow+tfidf\",TfidfVectorizer()),\n",
    "                          (\"nb\",MultinomialNB())])\n",
    "bow_tfidf_nb_lemm = Pipeline([(\"bow+tfidf\",TfidfVectorizer()),\n",
    "                          (\"nb\",MultinomialNB())])"
   ]
  },
  {
   "cell_type": "code",
   "execution_count": 160,
   "id": "f834b6e5",
   "metadata": {},
   "outputs": [
    {
     "name": "stdout",
     "output_type": "stream",
     "text": [
      "NB + BOW + Tfidf - Raw Text\n",
      "                       precision    recall  f1-score   support\n",
      "\n",
      "Depression + Suicidal       0.38      0.16      0.23      2766\n",
      "               Normal       0.45      0.82      0.59      3167\n",
      "                Other       0.00      0.00      0.00       971\n",
      "\n",
      "             accuracy                           0.44      6904\n",
      "            macro avg       0.28      0.33      0.27      6904\n",
      "         weighted avg       0.36      0.44      0.36      6904\n",
      "\n"
     ]
    }
   ],
   "source": [
    "bow_tfidf_nb_raw.fit(text_raw_train,label_train)\n",
    "pred_bow_tfidf_nb_raw = bow_tfidf_nb_raw.predict(text_raw_test)\n",
    "print(\"NB + BOW + Tfidf - Raw Text\")\n",
    "print(classification_report(label_test,pred_bow_tfidf_nb_raw))"
   ]
  },
  {
   "cell_type": "code",
   "execution_count": 161,
   "id": "4073f36d",
   "metadata": {},
   "outputs": [
    {
     "name": "stdout",
     "output_type": "stream",
     "text": [
      "NB + BOW + Tfidf - STEM Text\n",
      "                       precision    recall  f1-score   support\n",
      "\n",
      "Depression + Suicidal       0.37      0.17      0.23      2766\n",
      "               Normal       0.45      0.81      0.58      3167\n",
      "                Other       1.00      0.00      0.00       971\n",
      "\n",
      "             accuracy                           0.44      6904\n",
      "            macro avg       0.61      0.33      0.27      6904\n",
      "         weighted avg       0.50      0.44      0.36      6904\n",
      "\n"
     ]
    }
   ],
   "source": [
    "bow_tfidf_nb_stem.fit(text_stem_train,label_train)\n",
    "pred_bow_tfidf_nb_stem = bow_tfidf_nb_stem.predict(text_stem_test)\n",
    "print(\"NB + BOW + Tfidf - STEM Text\")\n",
    "print(classification_report(label_test,pred_bow_tfidf_nb_stem))"
   ]
  },
  {
   "cell_type": "code",
   "execution_count": 162,
   "id": "3f6fc9d8",
   "metadata": {},
   "outputs": [
    {
     "name": "stdout",
     "output_type": "stream",
     "text": [
      "NB + BOW + Tfidf - LEMM Text\n",
      "                       precision    recall  f1-score   support\n",
      "\n",
      "Depression + Suicidal       0.64      0.97      0.77      2766\n",
      "               Normal       0.93      0.74      0.82      3167\n",
      "                Other       0.93      0.17      0.28       971\n",
      "\n",
      "             accuracy                           0.75      6904\n",
      "            macro avg       0.83      0.62      0.62      6904\n",
      "         weighted avg       0.81      0.75      0.73      6904\n",
      "\n"
     ]
    }
   ],
   "source": [
    "bow_tfidf_nb_lemm.fit(text_lemm_train,label_train)\n",
    "pred_bow_tfidf_nb_lemm = bow_tfidf_nb_lemm.predict(text_lemm_test)\n",
    "print(\"NB + BOW + Tfidf - LEMM Text\")\n",
    "print(classification_report(label_test,pred_bow_tfidf_nb_lemm))"
   ]
  },
  {
   "cell_type": "markdown",
   "id": "0fc585f1",
   "metadata": {},
   "source": [
    "### Best accuracy SVM+BoW+tfidf - 87%"
   ]
  },
  {
   "cell_type": "markdown",
   "id": "a5b2b08f",
   "metadata": {},
   "source": [
    "### Vectorizing Text"
   ]
  },
  {
   "cell_type": "code",
   "execution_count": 170,
   "id": "a95b497a",
   "metadata": {},
   "outputs": [],
   "source": [
    "def vectorize(text):\n",
    "    doc = nlp(text)\n",
    "    return doc.vector"
   ]
  },
  {
   "cell_type": "code",
   "execution_count": null,
   "id": "64f70ca6",
   "metadata": {},
   "outputs": [],
   "source": [
    "#use this for now, forgot to add vect\n",
    "text_raw = df['text'].apply(vectorize)\n",
    "text_stem = df['stem_text'].apply(vectorize)\n",
    "text_lemm = df['lemm_text'].apply(vectorize)"
   ]
  },
  {
   "cell_type": "code",
   "execution_count": 177,
   "id": "c6de206b",
   "metadata": {},
   "outputs": [],
   "source": [
    "label = df['status']\n",
    "from sklearn.preprocessing import LabelEncoder\n",
    "lbl = LabelEncoder()\n",
    "label_en = lbl.fit_transform(df['status'])\n",
    "from tensorflow.keras.utils import to_categorical\n",
    "label_en = to_categorical(label_en,num_classes =3)"
   ]
  },
  {
   "cell_type": "code",
   "execution_count": 181,
   "id": "1c964528",
   "metadata": {},
   "outputs": [],
   "source": [
    "text_raw_train_vect,text_raw_test_vect,label_train_en,label_test_en = train_test_split(text_raw,label_en,test_size=0.2,stratify=label)"
   ]
  },
  {
   "cell_type": "code",
   "execution_count": 182,
   "id": "cc4acdf2",
   "metadata": {},
   "outputs": [],
   "source": [
    "text_stem_train_vect,text_stem_test_vect,_,_ = train_test_split(text_stem,label_en,test_size=0.2,stratify=label)"
   ]
  },
  {
   "cell_type": "code",
   "execution_count": 183,
   "id": "71e3fac9",
   "metadata": {},
   "outputs": [],
   "source": [
    "text_lemm_train_vect,text_lemm_test_vect,_,_ = train_test_split(text_lemm,label_en,test_size=0.2,stratify=label)"
   ]
  },
  {
   "cell_type": "code",
   "execution_count": 184,
   "id": "174fe893",
   "metadata": {},
   "outputs": [],
   "source": [
    "text_raw_train_vect = np.array(text_raw_train_vect.tolist())\n",
    "text_raw_test_vect = np.array(text_raw_test_vect.tolist())\n",
    "text_stem_train_vect = np.array(text_stem_train_vect.tolist())\n",
    "text_stem_test_vect = np.array(text_stem_test_vect.tolist())\n",
    "text_lemm_train_vect = np.array(text_lemm_train_vect.tolist())\n",
    "text_lemm_test_vect = np.array(text_lemm_test_vect.tolist())"
   ]
  },
  {
   "cell_type": "code",
   "execution_count": 185,
   "id": "5d608a54",
   "metadata": {},
   "outputs": [
    {
     "data": {
      "text/plain": [
       "array([[ 1.1360738 ,  2.1963723 , -2.441451  , ...,  0.16634843,\n",
       "        -1.3382624 ,  1.059014  ],\n",
       "       [-0.04329304,  0.4880501 , -2.5585122 , ...,  1.5938971 ,\n",
       "        -3.1678433 ,  2.2137842 ],\n",
       "       [-0.6871018 ,  0.89500815, -1.0987227 , ...,  0.16608816,\n",
       "        -1.2401965 ,  0.43304366],\n",
       "       ...,\n",
       "       [ 0.43235362, -0.11997981, -0.81152797, ...,  0.2651369 ,\n",
       "        -2.7310343 ,  0.7777474 ],\n",
       "       [ 0.29954374,  0.93336254, -1.622493  , ...,  0.76761806,\n",
       "        -1.0794976 ,  0.16948687],\n",
       "       [ 2.2735848 ,  0.70357543, -2.344398  , ..., -1.3723776 ,\n",
       "        -4.410455  ,  0.93325996]], dtype=float32)"
      ]
     },
     "execution_count": 185,
     "metadata": {},
     "output_type": "execute_result"
    }
   ],
   "source": [
    "text_raw_train_vect"
   ]
  },
  {
   "cell_type": "code",
   "execution_count": 186,
   "id": "72b3e286",
   "metadata": {},
   "outputs": [
    {
     "name": "stdout",
     "output_type": "stream",
     "text": [
      "Raw text train shape: (27615, 300)\n",
      "Raw text test shape: (6904, 300)\n",
      "Stem text train shape: (27615, 300)\n",
      "Stem text test shape: (6904, 300)\n",
      "Lemm text train shape: (27615, 300)\n",
      "Lemm text test shape: (6904, 300)\n",
      "Labels train shape: (27615, 3)\n",
      "Labels test shape: (6904, 3)\n"
     ]
    }
   ],
   "source": [
    "print(\"Raw text train shape:\", text_raw_train_vect.shape)\n",
    "print(\"Raw text test shape:\", text_raw_test_vect.shape)\n",
    "print(\"Stem text train shape:\", text_stem_train_vect.shape)\n",
    "print(\"Stem text test shape:\", text_stem_test_vect.shape)\n",
    "print(\"Lemm text train shape:\", text_lemm_train_vect.shape)\n",
    "print(\"Lemm text test shape:\", text_lemm_test_vect.shape)\n",
    "print(\"Labels train shape:\", label_train_en.shape)\n",
    "print(\"Labels test shape:\", label_test_en.shape)"
   ]
  },
  {
   "cell_type": "markdown",
   "id": "a1ab41e5",
   "metadata": {},
   "source": [
    "### Creating NN for Word2vec"
   ]
  },
  {
   "cell_type": "code",
   "execution_count": 187,
   "id": "0262bfb1",
   "metadata": {},
   "outputs": [],
   "source": [
    "from tensorflow.keras.models import Sequential\n",
    "from tensorflow.keras.layers import Dense,Dropout"
   ]
  },
  {
   "cell_type": "code",
   "execution_count": 232,
   "id": "f478802e",
   "metadata": {},
   "outputs": [],
   "source": [
    "def create_NN():\n",
    "    #define model\n",
    "    model = Sequential()\n",
    "    #data shape = (-1,300) first layer -> 300\n",
    "    model.add(Dense(1200,activation='relu'))\n",
    "    model.add(Dropout(0.2))\n",
    "    model.add(Dense(600,activation='relu'))\n",
    "    model.add(Dropout(0.2))\n",
    "    model.add(Dense(300,activation='relu'))\n",
    "    model.add(Dropout(0.2))\n",
    "    #2nd ->150\n",
    "    model.add(Dense(150,activation='relu'))\n",
    "    model.add(Dropout(0.2))\n",
    "    #3rd - >75\n",
    "    model.add(Dense(75,activation='relu'))\n",
    "    model.add(Dropout(0.2))\n",
    "    #4th-> 37\n",
    "    model.add(Dense(37,activation='relu'))\n",
    "    model.add(Dropout(0.2))\n",
    "    # 5th -> 18\n",
    "    model.add(Dense(18,activation='relu'))\n",
    "    model.add(Dropout(0.2))\n",
    "    #6th -> 9\n",
    "    model.add(Dense(9,activation='relu'))\n",
    "    model.add(Dropout(0.2))\n",
    "    #output layer\n",
    "    model.add(Dense(3,activation='softmax'))\n",
    "    \n",
    "    model.compile(loss='categorical_crossentropy',optimizer='adam',metrics=['accuracy'])\n",
    "    return model\n",
    "    "
   ]
  },
  {
   "cell_type": "markdown",
   "id": "a4b52632",
   "metadata": {},
   "source": [
    "### Raw text model"
   ]
  },
  {
   "cell_type": "code",
   "execution_count": 195,
   "id": "1dbb91c9",
   "metadata": {},
   "outputs": [],
   "source": [
    "from tensorflow.keras.backend import clear_session\n",
    "clear_session()\n",
    "raw_text_model = create_NN()"
   ]
  },
  {
   "cell_type": "code",
   "execution_count": 196,
   "id": "8a752cb0",
   "metadata": {},
   "outputs": [
    {
     "name": "stdout",
     "output_type": "stream",
     "text": [
      "Epoch 1/50\n"
     ]
    },
    {
     "name": "stderr",
     "output_type": "stream",
     "text": [
      "2024-07-30 21:50:04.898359: I tensorflow/core/grappler/optimizers/custom_graph_optimizer_registry.cc:117] Plugin optimizer for device_type GPU is enabled.\n"
     ]
    },
    {
     "name": "stdout",
     "output_type": "stream",
     "text": [
      "\u001b[1m863/863\u001b[0m \u001b[32m━━━━━━━━━━━━━━━━━━━━\u001b[0m\u001b[37m\u001b[0m \u001b[1m14s\u001b[0m 13ms/step - accuracy: 0.6304 - loss: 0.8566\n",
      "Epoch 2/50\n",
      "\u001b[1m863/863\u001b[0m \u001b[32m━━━━━━━━━━━━━━━━━━━━\u001b[0m\u001b[37m\u001b[0m \u001b[1m11s\u001b[0m 13ms/step - accuracy: 0.7593 - loss: 0.6226\n",
      "Epoch 3/50\n",
      "\u001b[1m863/863\u001b[0m \u001b[32m━━━━━━━━━━━━━━━━━━━━\u001b[0m\u001b[37m\u001b[0m \u001b[1m11s\u001b[0m 13ms/step - accuracy: 0.7833 - loss: 0.5744\n",
      "Epoch 4/50\n",
      "\u001b[1m863/863\u001b[0m \u001b[32m━━━━━━━━━━━━━━━━━━━━\u001b[0m\u001b[37m\u001b[0m \u001b[1m11s\u001b[0m 13ms/step - accuracy: 0.7962 - loss: 0.5368\n",
      "Epoch 5/50\n",
      "\u001b[1m863/863\u001b[0m \u001b[32m━━━━━━━━━━━━━━━━━━━━\u001b[0m\u001b[37m\u001b[0m \u001b[1m11s\u001b[0m 13ms/step - accuracy: 0.8092 - loss: 0.5101\n",
      "Epoch 6/50\n",
      "\u001b[1m863/863\u001b[0m \u001b[32m━━━━━━━━━━━━━━━━━━━━\u001b[0m\u001b[37m\u001b[0m \u001b[1m11s\u001b[0m 13ms/step - accuracy: 0.8165 - loss: 0.4944\n",
      "Epoch 7/50\n",
      "\u001b[1m863/863\u001b[0m \u001b[32m━━━━━━━━━━━━━━━━━━━━\u001b[0m\u001b[37m\u001b[0m \u001b[1m11s\u001b[0m 13ms/step - accuracy: 0.8297 - loss: 0.4660\n",
      "Epoch 8/50\n",
      "\u001b[1m863/863\u001b[0m \u001b[32m━━━━━━━━━━━━━━━━━━━━\u001b[0m\u001b[37m\u001b[0m \u001b[1m11s\u001b[0m 13ms/step - accuracy: 0.8266 - loss: 0.4558\n",
      "Epoch 9/50\n",
      "\u001b[1m863/863\u001b[0m \u001b[32m━━━━━━━━━━━━━━━━━━━━\u001b[0m\u001b[37m\u001b[0m \u001b[1m11s\u001b[0m 13ms/step - accuracy: 0.8352 - loss: 0.4431\n",
      "Epoch 10/50\n",
      "\u001b[1m863/863\u001b[0m \u001b[32m━━━━━━━━━━━━━━━━━━━━\u001b[0m\u001b[37m\u001b[0m \u001b[1m11s\u001b[0m 13ms/step - accuracy: 0.8365 - loss: 0.4356\n",
      "Epoch 11/50\n",
      "\u001b[1m863/863\u001b[0m \u001b[32m━━━━━━━━━━━━━━━━━━━━\u001b[0m\u001b[37m\u001b[0m \u001b[1m11s\u001b[0m 13ms/step - accuracy: 0.8377 - loss: 0.4305\n",
      "Epoch 12/50\n",
      "\u001b[1m863/863\u001b[0m \u001b[32m━━━━━━━━━━━━━━━━━━━━\u001b[0m\u001b[37m\u001b[0m \u001b[1m11s\u001b[0m 13ms/step - accuracy: 0.8487 - loss: 0.4081\n",
      "Epoch 13/50\n",
      "\u001b[1m863/863\u001b[0m \u001b[32m━━━━━━━━━━━━━━━━━━━━\u001b[0m\u001b[37m\u001b[0m \u001b[1m11s\u001b[0m 13ms/step - accuracy: 0.8483 - loss: 0.4085\n",
      "Epoch 14/50\n",
      "\u001b[1m863/863\u001b[0m \u001b[32m━━━━━━━━━━━━━━━━━━━━\u001b[0m\u001b[37m\u001b[0m \u001b[1m11s\u001b[0m 13ms/step - accuracy: 0.8504 - loss: 0.4020\n",
      "Epoch 15/50\n",
      "\u001b[1m863/863\u001b[0m \u001b[32m━━━━━━━━━━━━━━━━━━━━\u001b[0m\u001b[37m\u001b[0m \u001b[1m11s\u001b[0m 13ms/step - accuracy: 0.8544 - loss: 0.3975\n",
      "Epoch 16/50\n",
      "\u001b[1m863/863\u001b[0m \u001b[32m━━━━━━━━━━━━━━━━━━━━\u001b[0m\u001b[37m\u001b[0m \u001b[1m11s\u001b[0m 13ms/step - accuracy: 0.8530 - loss: 0.3863\n",
      "Epoch 17/50\n",
      "\u001b[1m863/863\u001b[0m \u001b[32m━━━━━━━━━━━━━━━━━━━━\u001b[0m\u001b[37m\u001b[0m \u001b[1m11s\u001b[0m 13ms/step - accuracy: 0.8597 - loss: 0.3798\n",
      "Epoch 18/50\n",
      "\u001b[1m863/863\u001b[0m \u001b[32m━━━━━━━━━━━━━━━━━━━━\u001b[0m\u001b[37m\u001b[0m \u001b[1m11s\u001b[0m 13ms/step - accuracy: 0.8636 - loss: 0.3729\n",
      "Epoch 19/50\n",
      "\u001b[1m863/863\u001b[0m \u001b[32m━━━━━━━━━━━━━━━━━━━━\u001b[0m\u001b[37m\u001b[0m \u001b[1m11s\u001b[0m 13ms/step - accuracy: 0.8632 - loss: 0.3678\n",
      "Epoch 20/50\n",
      "\u001b[1m863/863\u001b[0m \u001b[32m━━━━━━━━━━━━━━━━━━━━\u001b[0m\u001b[37m\u001b[0m \u001b[1m11s\u001b[0m 13ms/step - accuracy: 0.8616 - loss: 0.3669\n",
      "Epoch 21/50\n",
      "\u001b[1m863/863\u001b[0m \u001b[32m━━━━━━━━━━━━━━━━━━━━\u001b[0m\u001b[37m\u001b[0m \u001b[1m11s\u001b[0m 13ms/step - accuracy: 0.8658 - loss: 0.3541\n",
      "Epoch 22/50\n",
      "\u001b[1m863/863\u001b[0m \u001b[32m━━━━━━━━━━━━━━━━━━━━\u001b[0m\u001b[37m\u001b[0m \u001b[1m11s\u001b[0m 13ms/step - accuracy: 0.8673 - loss: 0.3501\n",
      "Epoch 23/50\n",
      "\u001b[1m863/863\u001b[0m \u001b[32m━━━━━━━━━━━━━━━━━━━━\u001b[0m\u001b[37m\u001b[0m \u001b[1m12s\u001b[0m 13ms/step - accuracy: 0.8724 - loss: 0.3416\n",
      "Epoch 24/50\n",
      "\u001b[1m863/863\u001b[0m \u001b[32m━━━━━━━━━━━━━━━━━━━━\u001b[0m\u001b[37m\u001b[0m \u001b[1m11s\u001b[0m 13ms/step - accuracy: 0.8709 - loss: 0.3393\n",
      "Epoch 25/50\n",
      "\u001b[1m863/863\u001b[0m \u001b[32m━━━━━━━━━━━━━━━━━━━━\u001b[0m\u001b[37m\u001b[0m \u001b[1m11s\u001b[0m 13ms/step - accuracy: 0.8725 - loss: 0.3336\n",
      "Epoch 26/50\n",
      "\u001b[1m863/863\u001b[0m \u001b[32m━━━━━━━━━━━━━━━━━━━━\u001b[0m\u001b[37m\u001b[0m \u001b[1m11s\u001b[0m 13ms/step - accuracy: 0.8746 - loss: 0.3313\n",
      "Epoch 27/50\n",
      "\u001b[1m863/863\u001b[0m \u001b[32m━━━━━━━━━━━━━━━━━━━━\u001b[0m\u001b[37m\u001b[0m \u001b[1m11s\u001b[0m 13ms/step - accuracy: 0.8768 - loss: 0.3264\n",
      "Epoch 28/50\n",
      "\u001b[1m863/863\u001b[0m \u001b[32m━━━━━━━━━━━━━━━━━━━━\u001b[0m\u001b[37m\u001b[0m \u001b[1m11s\u001b[0m 13ms/step - accuracy: 0.8802 - loss: 0.3210\n",
      "Epoch 29/50\n",
      "\u001b[1m863/863\u001b[0m \u001b[32m━━━━━━━━━━━━━━━━━━━━\u001b[0m\u001b[37m\u001b[0m \u001b[1m11s\u001b[0m 13ms/step - accuracy: 0.8784 - loss: 0.3215\n",
      "Epoch 30/50\n",
      "\u001b[1m863/863\u001b[0m \u001b[32m━━━━━━━━━━━━━━━━━━━━\u001b[0m\u001b[37m\u001b[0m \u001b[1m11s\u001b[0m 13ms/step - accuracy: 0.8853 - loss: 0.3156\n",
      "Epoch 31/50\n",
      "\u001b[1m863/863\u001b[0m \u001b[32m━━━━━━━━━━━━━━━━━━━━\u001b[0m\u001b[37m\u001b[0m \u001b[1m11s\u001b[0m 13ms/step - accuracy: 0.8759 - loss: 0.3229\n",
      "Epoch 32/50\n",
      "\u001b[1m863/863\u001b[0m \u001b[32m━━━━━━━━━━━━━━━━━━━━\u001b[0m\u001b[37m\u001b[0m \u001b[1m11s\u001b[0m 13ms/step - accuracy: 0.8826 - loss: 0.3122\n",
      "Epoch 33/50\n",
      "\u001b[1m863/863\u001b[0m \u001b[32m━━━━━━━━━━━━━━━━━━━━\u001b[0m\u001b[37m\u001b[0m \u001b[1m12s\u001b[0m 14ms/step - accuracy: 0.8839 - loss: 0.3091\n",
      "Epoch 34/50\n",
      "\u001b[1m863/863\u001b[0m \u001b[32m━━━━━━━━━━━━━━━━━━━━\u001b[0m\u001b[37m\u001b[0m \u001b[1m12s\u001b[0m 14ms/step - accuracy: 0.8819 - loss: 0.3168\n",
      "Epoch 35/50\n",
      "\u001b[1m863/863\u001b[0m \u001b[32m━━━━━━━━━━━━━━━━━━━━\u001b[0m\u001b[37m\u001b[0m \u001b[1m12s\u001b[0m 14ms/step - accuracy: 0.8825 - loss: 0.3125\n",
      "Epoch 36/50\n",
      "\u001b[1m863/863\u001b[0m \u001b[32m━━━━━━━━━━━━━━━━━━━━\u001b[0m\u001b[37m\u001b[0m \u001b[1m12s\u001b[0m 14ms/step - accuracy: 0.8888 - loss: 0.2936\n",
      "Epoch 37/50\n",
      "\u001b[1m863/863\u001b[0m \u001b[32m━━━━━━━━━━━━━━━━━━━━\u001b[0m\u001b[37m\u001b[0m \u001b[1m12s\u001b[0m 14ms/step - accuracy: 0.8950 - loss: 0.2817\n",
      "Epoch 38/50\n",
      "\u001b[1m863/863\u001b[0m \u001b[32m━━━━━━━━━━━━━━━━━━━━\u001b[0m\u001b[37m\u001b[0m \u001b[1m12s\u001b[0m 14ms/step - accuracy: 0.8871 - loss: 0.3066\n",
      "Epoch 39/50\n",
      "\u001b[1m863/863\u001b[0m \u001b[32m━━━━━━━━━━━━━━━━━━━━\u001b[0m\u001b[37m\u001b[0m \u001b[1m12s\u001b[0m 14ms/step - accuracy: 0.8922 - loss: 0.2869\n",
      "Epoch 40/50\n",
      "\u001b[1m863/863\u001b[0m \u001b[32m━━━━━━━━━━━━━━━━━━━━\u001b[0m\u001b[37m\u001b[0m \u001b[1m12s\u001b[0m 14ms/step - accuracy: 0.8906 - loss: 0.2923\n",
      "Epoch 41/50\n",
      "\u001b[1m863/863\u001b[0m \u001b[32m━━━━━━━━━━━━━━━━━━━━\u001b[0m\u001b[37m\u001b[0m \u001b[1m12s\u001b[0m 14ms/step - accuracy: 0.8925 - loss: 0.2879\n",
      "Epoch 42/50\n",
      "\u001b[1m863/863\u001b[0m \u001b[32m━━━━━━━━━━━━━━━━━━━━\u001b[0m\u001b[37m\u001b[0m \u001b[1m14s\u001b[0m 16ms/step - accuracy: 0.8976 - loss: 0.2789\n",
      "Epoch 43/50\n",
      "\u001b[1m863/863\u001b[0m \u001b[32m━━━━━━━━━━━━━━━━━━━━\u001b[0m\u001b[37m\u001b[0m \u001b[1m12s\u001b[0m 14ms/step - accuracy: 0.8977 - loss: 0.2752\n",
      "Epoch 44/50\n",
      "\u001b[1m863/863\u001b[0m \u001b[32m━━━━━━━━━━━━━━━━━━━━\u001b[0m\u001b[37m\u001b[0m \u001b[1m12s\u001b[0m 14ms/step - accuracy: 0.8958 - loss: 0.2806\n",
      "Epoch 45/50\n",
      "\u001b[1m863/863\u001b[0m \u001b[32m━━━━━━━━━━━━━━━━━━━━\u001b[0m\u001b[37m\u001b[0m \u001b[1m12s\u001b[0m 14ms/step - accuracy: 0.8976 - loss: 0.2730\n",
      "Epoch 46/50\n",
      "\u001b[1m863/863\u001b[0m \u001b[32m━━━━━━━━━━━━━━━━━━━━\u001b[0m\u001b[37m\u001b[0m \u001b[1m13s\u001b[0m 16ms/step - accuracy: 0.9000 - loss: 0.2651\n",
      "Epoch 47/50\n",
      "\u001b[1m863/863\u001b[0m \u001b[32m━━━━━━━━━━━━━━━━━━━━\u001b[0m\u001b[37m\u001b[0m \u001b[1m12s\u001b[0m 14ms/step - accuracy: 0.9024 - loss: 0.2623\n",
      "Epoch 48/50\n",
      "\u001b[1m863/863\u001b[0m \u001b[32m━━━━━━━━━━━━━━━━━━━━\u001b[0m\u001b[37m\u001b[0m \u001b[1m12s\u001b[0m 14ms/step - accuracy: 0.8949 - loss: 0.2818\n",
      "Epoch 49/50\n",
      "\u001b[1m863/863\u001b[0m \u001b[32m━━━━━━━━━━━━━━━━━━━━\u001b[0m\u001b[37m\u001b[0m \u001b[1m12s\u001b[0m 14ms/step - accuracy: 0.9007 - loss: 0.2745\n",
      "Epoch 50/50\n",
      "\u001b[1m863/863\u001b[0m \u001b[32m━━━━━━━━━━━━━━━━━━━━\u001b[0m\u001b[37m\u001b[0m \u001b[1m11s\u001b[0m 13ms/step - accuracy: 0.9056 - loss: 0.2665\n"
     ]
    },
    {
     "data": {
      "text/plain": [
       "<keras.src.callbacks.history.History at 0x3871b8f10>"
      ]
     },
     "execution_count": 196,
     "metadata": {},
     "output_type": "execute_result"
    }
   ],
   "source": [
    "raw_text_model.fit(text_raw_train_vect,label_train_en,epochs=50)"
   ]
  },
  {
   "cell_type": "code",
   "execution_count": 217,
   "id": "00ee9729",
   "metadata": {},
   "outputs": [
    {
     "name": "stdout",
     "output_type": "stream",
     "text": [
      "\u001b[1m216/216\u001b[0m \u001b[32m━━━━━━━━━━━━━━━━━━━━\u001b[0m\u001b[37m\u001b[0m \u001b[1m0s\u001b[0m 1ms/step\n"
     ]
    }
   ],
   "source": [
    "prediction = model.predict(text_raw_test_vect)"
   ]
  },
  {
   "cell_type": "code",
   "execution_count": 218,
   "id": "071dc015",
   "metadata": {},
   "outputs": [],
   "source": [
    "y_pred = np.argmax(prediction, axis=1)\n",
    "y_true = np.argmax(label_test_en, axis=1)"
   ]
  },
  {
   "cell_type": "code",
   "execution_count": 221,
   "id": "95ffc3dd",
   "metadata": {},
   "outputs": [
    {
     "name": "stdout",
     "output_type": "stream",
     "text": [
      "              precision    recall  f1-score   support\n",
      "\n",
      "           0       0.12      0.01      0.01      2766\n",
      "           1       0.44      0.91      0.59      3167\n",
      "           2       0.07      0.02      0.03       971\n",
      "\n",
      "    accuracy                           0.42      6904\n",
      "   macro avg       0.21      0.31      0.21      6904\n",
      "weighted avg       0.26      0.42      0.28      6904\n",
      "\n"
     ]
    }
   ],
   "source": [
    "\n",
    "report = classification_report(y_true, y_pred)\n",
    "print(report)"
   ]
  },
  {
   "cell_type": "markdown",
   "id": "6235db8d",
   "metadata": {},
   "source": [
    "### Stem text model"
   ]
  },
  {
   "cell_type": "code",
   "execution_count": 225,
   "id": "5ace4756",
   "metadata": {},
   "outputs": [],
   "source": [
    "stem_text_model = create_NN()"
   ]
  },
  {
   "cell_type": "code",
   "execution_count": 226,
   "id": "812d8ede",
   "metadata": {},
   "outputs": [
    {
     "name": "stdout",
     "output_type": "stream",
     "text": [
      "Epoch 1/100\n",
      "\u001b[1m863/863\u001b[0m \u001b[32m━━━━━━━━━━━━━━━━━━━━\u001b[0m\u001b[37m\u001b[0m \u001b[1m13s\u001b[0m 14ms/step - accuracy: 0.4325 - loss: 1.0440\n",
      "Epoch 2/100\n",
      "\u001b[1m863/863\u001b[0m \u001b[32m━━━━━━━━━━━━━━━━━━━━\u001b[0m\u001b[37m\u001b[0m \u001b[1m12s\u001b[0m 13ms/step - accuracy: 0.4558 - loss: 1.0095\n",
      "Epoch 3/100\n",
      "\u001b[1m863/863\u001b[0m \u001b[32m━━━━━━━━━━━━━━━━━━━━\u001b[0m\u001b[37m\u001b[0m \u001b[1m11s\u001b[0m 13ms/step - accuracy: 0.4576 - loss: 1.0042\n",
      "Epoch 4/100\n",
      "\u001b[1m863/863\u001b[0m \u001b[32m━━━━━━━━━━━━━━━━━━━━\u001b[0m\u001b[37m\u001b[0m \u001b[1m11s\u001b[0m 12ms/step - accuracy: 0.4618 - loss: 1.0003\n",
      "Epoch 5/100\n",
      "\u001b[1m863/863\u001b[0m \u001b[32m━━━━━━━━━━━━━━━━━━━━\u001b[0m\u001b[37m\u001b[0m \u001b[1m11s\u001b[0m 12ms/step - accuracy: 0.4557 - loss: 1.0013\n",
      "Epoch 6/100\n",
      "\u001b[1m863/863\u001b[0m \u001b[32m━━━━━━━━━━━━━━━━━━━━\u001b[0m\u001b[37m\u001b[0m \u001b[1m11s\u001b[0m 13ms/step - accuracy: 0.4628 - loss: 0.9987\n",
      "Epoch 7/100\n",
      "\u001b[1m863/863\u001b[0m \u001b[32m━━━━━━━━━━━━━━━━━━━━\u001b[0m\u001b[37m\u001b[0m \u001b[1m11s\u001b[0m 13ms/step - accuracy: 0.4582 - loss: 1.0037\n",
      "Epoch 8/100\n",
      "\u001b[1m863/863\u001b[0m \u001b[32m━━━━━━━━━━━━━━━━━━━━\u001b[0m\u001b[37m\u001b[0m \u001b[1m11s\u001b[0m 13ms/step - accuracy: 0.4613 - loss: 1.0007\n",
      "Epoch 9/100\n",
      "\u001b[1m863/863\u001b[0m \u001b[32m━━━━━━━━━━━━━━━━━━━━\u001b[0m\u001b[37m\u001b[0m \u001b[1m11s\u001b[0m 13ms/step - accuracy: 0.4583 - loss: 0.9985\n",
      "Epoch 10/100\n",
      "\u001b[1m863/863\u001b[0m \u001b[32m━━━━━━━━━━━━━━━━━━━━\u001b[0m\u001b[37m\u001b[0m \u001b[1m12s\u001b[0m 13ms/step - accuracy: 0.4564 - loss: 1.0045\n",
      "Epoch 11/100\n",
      "\u001b[1m863/863\u001b[0m \u001b[32m━━━━━━━━━━━━━━━━━━━━\u001b[0m\u001b[37m\u001b[0m \u001b[1m13s\u001b[0m 15ms/step - accuracy: 0.4624 - loss: 0.9970\n",
      "Epoch 12/100\n",
      "\u001b[1m863/863\u001b[0m \u001b[32m━━━━━━━━━━━━━━━━━━━━\u001b[0m\u001b[37m\u001b[0m \u001b[1m12s\u001b[0m 13ms/step - accuracy: 0.4599 - loss: 0.9986\n",
      "Epoch 13/100\n",
      "\u001b[1m863/863\u001b[0m \u001b[32m━━━━━━━━━━━━━━━━━━━━\u001b[0m\u001b[37m\u001b[0m \u001b[1m12s\u001b[0m 13ms/step - accuracy: 0.4546 - loss: 1.0023\n",
      "Epoch 14/100\n",
      "\u001b[1m863/863\u001b[0m \u001b[32m━━━━━━━━━━━━━━━━━━━━\u001b[0m\u001b[37m\u001b[0m \u001b[1m12s\u001b[0m 14ms/step - accuracy: 0.4583 - loss: 1.0005\n",
      "Epoch 15/100\n",
      "\u001b[1m863/863\u001b[0m \u001b[32m━━━━━━━━━━━━━━━━━━━━\u001b[0m\u001b[37m\u001b[0m \u001b[1m12s\u001b[0m 14ms/step - accuracy: 0.4578 - loss: 1.0032\n",
      "Epoch 16/100\n",
      "\u001b[1m863/863\u001b[0m \u001b[32m━━━━━━━━━━━━━━━━━━━━\u001b[0m\u001b[37m\u001b[0m \u001b[1m12s\u001b[0m 14ms/step - accuracy: 0.4549 - loss: 1.0041\n",
      "Epoch 17/100\n",
      "\u001b[1m863/863\u001b[0m \u001b[32m━━━━━━━━━━━━━━━━━━━━\u001b[0m\u001b[37m\u001b[0m \u001b[1m12s\u001b[0m 13ms/step - accuracy: 0.4574 - loss: 1.0000\n",
      "Epoch 18/100\n",
      "\u001b[1m863/863\u001b[0m \u001b[32m━━━━━━━━━━━━━━━━━━━━\u001b[0m\u001b[37m\u001b[0m \u001b[1m11s\u001b[0m 13ms/step - accuracy: 0.4559 - loss: 1.0014\n",
      "Epoch 19/100\n",
      "\u001b[1m863/863\u001b[0m \u001b[32m━━━━━━━━━━━━━━━━━━━━\u001b[0m\u001b[37m\u001b[0m \u001b[1m11s\u001b[0m 13ms/step - accuracy: 0.4591 - loss: 1.0001\n",
      "Epoch 20/100\n",
      "\u001b[1m863/863\u001b[0m \u001b[32m━━━━━━━━━━━━━━━━━━━━\u001b[0m\u001b[37m\u001b[0m \u001b[1m11s\u001b[0m 13ms/step - accuracy: 0.4574 - loss: 1.0034\n",
      "Epoch 21/100\n",
      "\u001b[1m863/863\u001b[0m \u001b[32m━━━━━━━━━━━━━━━━━━━━\u001b[0m\u001b[37m\u001b[0m \u001b[1m11s\u001b[0m 13ms/step - accuracy: 0.4608 - loss: 0.9999\n",
      "Epoch 22/100\n",
      "\u001b[1m863/863\u001b[0m \u001b[32m━━━━━━━━━━━━━━━━━━━━\u001b[0m\u001b[37m\u001b[0m \u001b[1m11s\u001b[0m 13ms/step - accuracy: 0.4514 - loss: 1.0027\n",
      "Epoch 23/100\n",
      "\u001b[1m863/863\u001b[0m \u001b[32m━━━━━━━━━━━━━━━━━━━━\u001b[0m\u001b[37m\u001b[0m \u001b[1m11s\u001b[0m 13ms/step - accuracy: 0.4593 - loss: 0.9997\n",
      "Epoch 24/100\n",
      "\u001b[1m863/863\u001b[0m \u001b[32m━━━━━━━━━━━━━━━━━━━━\u001b[0m\u001b[37m\u001b[0m \u001b[1m11s\u001b[0m 13ms/step - accuracy: 0.4643 - loss: 0.9960\n",
      "Epoch 25/100\n",
      "\u001b[1m863/863\u001b[0m \u001b[32m━━━━━━━━━━━━━━━━━━━━\u001b[0m\u001b[37m\u001b[0m \u001b[1m11s\u001b[0m 13ms/step - accuracy: 0.4560 - loss: 1.0000\n",
      "Epoch 26/100\n",
      "\u001b[1m863/863\u001b[0m \u001b[32m━━━━━━━━━━━━━━━━━━━━\u001b[0m\u001b[37m\u001b[0m \u001b[1m11s\u001b[0m 13ms/step - accuracy: 0.4581 - loss: 0.9994\n",
      "Epoch 27/100\n",
      "\u001b[1m863/863\u001b[0m \u001b[32m━━━━━━━━━━━━━━━━━━━━\u001b[0m\u001b[37m\u001b[0m \u001b[1m11s\u001b[0m 13ms/step - accuracy: 0.4660 - loss: 0.9946\n",
      "Epoch 28/100\n",
      "\u001b[1m863/863\u001b[0m \u001b[32m━━━━━━━━━━━━━━━━━━━━\u001b[0m\u001b[37m\u001b[0m \u001b[1m11s\u001b[0m 13ms/step - accuracy: 0.4550 - loss: 0.9982\n",
      "Epoch 29/100\n",
      "\u001b[1m863/863\u001b[0m \u001b[32m━━━━━━━━━━━━━━━━━━━━\u001b[0m\u001b[37m\u001b[0m \u001b[1m11s\u001b[0m 13ms/step - accuracy: 0.4585 - loss: 1.0000\n",
      "Epoch 30/100\n",
      "\u001b[1m863/863\u001b[0m \u001b[32m━━━━━━━━━━━━━━━━━━━━\u001b[0m\u001b[37m\u001b[0m \u001b[1m11s\u001b[0m 13ms/step - accuracy: 0.4569 - loss: 1.0017\n",
      "Epoch 31/100\n",
      "\u001b[1m863/863\u001b[0m \u001b[32m━━━━━━━━━━━━━━━━━━━━\u001b[0m\u001b[37m\u001b[0m \u001b[1m11s\u001b[0m 13ms/step - accuracy: 0.4627 - loss: 1.0016\n",
      "Epoch 32/100\n",
      "\u001b[1m863/863\u001b[0m \u001b[32m━━━━━━━━━━━━━━━━━━━━\u001b[0m\u001b[37m\u001b[0m \u001b[1m11s\u001b[0m 13ms/step - accuracy: 0.4595 - loss: 0.9955\n",
      "Epoch 33/100\n",
      "\u001b[1m863/863\u001b[0m \u001b[32m━━━━━━━━━━━━━━━━━━━━\u001b[0m\u001b[37m\u001b[0m \u001b[1m11s\u001b[0m 13ms/step - accuracy: 0.4557 - loss: 0.9992\n",
      "Epoch 34/100\n",
      "\u001b[1m863/863\u001b[0m \u001b[32m━━━━━━━━━━━━━━━━━━━━\u001b[0m\u001b[37m\u001b[0m \u001b[1m11s\u001b[0m 13ms/step - accuracy: 0.4612 - loss: 0.9990\n",
      "Epoch 35/100\n",
      "\u001b[1m863/863\u001b[0m \u001b[32m━━━━━━━━━━━━━━━━━━━━\u001b[0m\u001b[37m\u001b[0m \u001b[1m11s\u001b[0m 13ms/step - accuracy: 0.4598 - loss: 1.0022\n",
      "Epoch 36/100\n",
      "\u001b[1m863/863\u001b[0m \u001b[32m━━━━━━━━━━━━━━━━━━━━\u001b[0m\u001b[37m\u001b[0m \u001b[1m12s\u001b[0m 14ms/step - accuracy: 0.4578 - loss: 0.9992\n",
      "Epoch 37/100\n",
      "\u001b[1m863/863\u001b[0m \u001b[32m━━━━━━━━━━━━━━━━━━━━\u001b[0m\u001b[37m\u001b[0m \u001b[1m12s\u001b[0m 14ms/step - accuracy: 0.4603 - loss: 0.9964\n",
      "Epoch 38/100\n",
      "\u001b[1m863/863\u001b[0m \u001b[32m━━━━━━━━━━━━━━━━━━━━\u001b[0m\u001b[37m\u001b[0m \u001b[1m12s\u001b[0m 14ms/step - accuracy: 0.4580 - loss: 0.9981\n",
      "Epoch 39/100\n",
      "\u001b[1m863/863\u001b[0m \u001b[32m━━━━━━━━━━━━━━━━━━━━\u001b[0m\u001b[37m\u001b[0m \u001b[1m13s\u001b[0m 15ms/step - accuracy: 0.4554 - loss: 0.9978\n",
      "Epoch 40/100\n",
      "\u001b[1m863/863\u001b[0m \u001b[32m━━━━━━━━━━━━━━━━━━━━\u001b[0m\u001b[37m\u001b[0m \u001b[1m13s\u001b[0m 15ms/step - accuracy: 0.4549 - loss: 1.0001\n",
      "Epoch 41/100\n",
      "\u001b[1m863/863\u001b[0m \u001b[32m━━━━━━━━━━━━━━━━━━━━\u001b[0m\u001b[37m\u001b[0m \u001b[1m14s\u001b[0m 16ms/step - accuracy: 0.4582 - loss: 0.9998\n",
      "Epoch 42/100\n",
      "\u001b[1m863/863\u001b[0m \u001b[32m━━━━━━━━━━━━━━━━━━━━\u001b[0m\u001b[37m\u001b[0m \u001b[1m13s\u001b[0m 15ms/step - accuracy: 0.4613 - loss: 1.0001\n",
      "Epoch 43/100\n",
      "\u001b[1m863/863\u001b[0m \u001b[32m━━━━━━━━━━━━━━━━━━━━\u001b[0m\u001b[37m\u001b[0m \u001b[1m14s\u001b[0m 17ms/step - accuracy: 0.4544 - loss: 1.0042\n",
      "Epoch 44/100\n",
      "\u001b[1m863/863\u001b[0m \u001b[32m━━━━━━━━━━━━━━━━━━━━\u001b[0m\u001b[37m\u001b[0m \u001b[1m14s\u001b[0m 16ms/step - accuracy: 0.4582 - loss: 0.9990\n",
      "Epoch 45/100\n",
      "\u001b[1m863/863\u001b[0m \u001b[32m━━━━━━━━━━━━━━━━━━━━\u001b[0m\u001b[37m\u001b[0m \u001b[1m13s\u001b[0m 15ms/step - accuracy: 0.4553 - loss: 1.0014\n",
      "Epoch 46/100\n",
      "\u001b[1m863/863\u001b[0m \u001b[32m━━━━━━━━━━━━━━━━━━━━\u001b[0m\u001b[37m\u001b[0m \u001b[1m12s\u001b[0m 14ms/step - accuracy: 0.4590 - loss: 0.9996\n",
      "Epoch 47/100\n",
      "\u001b[1m863/863\u001b[0m \u001b[32m━━━━━━━━━━━━━━━━━━━━\u001b[0m\u001b[37m\u001b[0m \u001b[1m11s\u001b[0m 13ms/step - accuracy: 0.4547 - loss: 1.0000\n",
      "Epoch 48/100\n",
      "\u001b[1m863/863\u001b[0m \u001b[32m━━━━━━━━━━━━━━━━━━━━\u001b[0m\u001b[37m\u001b[0m \u001b[1m11s\u001b[0m 13ms/step - accuracy: 0.4592 - loss: 0.9982\n",
      "Epoch 49/100\n",
      "\u001b[1m863/863\u001b[0m \u001b[32m━━━━━━━━━━━━━━━━━━━━\u001b[0m\u001b[37m\u001b[0m \u001b[1m11s\u001b[0m 13ms/step - accuracy: 0.4538 - loss: 1.0038\n",
      "Epoch 50/100\n",
      "\u001b[1m863/863\u001b[0m \u001b[32m━━━━━━━━━━━━━━━━━━━━\u001b[0m\u001b[37m\u001b[0m \u001b[1m11s\u001b[0m 13ms/step - accuracy: 0.4612 - loss: 0.9986\n",
      "Epoch 51/100\n",
      "\u001b[1m863/863\u001b[0m \u001b[32m━━━━━━━━━━━━━━━━━━━━\u001b[0m\u001b[37m\u001b[0m \u001b[1m11s\u001b[0m 13ms/step - accuracy: 0.4657 - loss: 0.9997\n",
      "Epoch 52/100\n",
      "\u001b[1m863/863\u001b[0m \u001b[32m━━━━━━━━━━━━━━━━━━━━\u001b[0m\u001b[37m\u001b[0m \u001b[1m11s\u001b[0m 13ms/step - accuracy: 0.4558 - loss: 1.0001\n",
      "Epoch 53/100\n",
      "\u001b[1m863/863\u001b[0m \u001b[32m━━━━━━━━━━━━━━━━━━━━\u001b[0m\u001b[37m\u001b[0m \u001b[1m11s\u001b[0m 13ms/step - accuracy: 0.4552 - loss: 1.0016\n",
      "Epoch 54/100\n",
      "\u001b[1m863/863\u001b[0m \u001b[32m━━━━━━━━━━━━━━━━━━━━\u001b[0m\u001b[37m\u001b[0m \u001b[1m11s\u001b[0m 13ms/step - accuracy: 0.4544 - loss: 1.0007\n",
      "Epoch 55/100\n",
      "\u001b[1m863/863\u001b[0m \u001b[32m━━━━━━━━━━━━━━━━━━━━\u001b[0m\u001b[37m\u001b[0m \u001b[1m11s\u001b[0m 13ms/step - accuracy: 0.4578 - loss: 0.9976\n",
      "Epoch 56/100\n",
      "\u001b[1m863/863\u001b[0m \u001b[32m━━━━━━━━━━━━━━━━━━━━\u001b[0m\u001b[37m\u001b[0m \u001b[1m11s\u001b[0m 13ms/step - accuracy: 0.4618 - loss: 0.9948\n",
      "Epoch 57/100\n",
      "\u001b[1m863/863\u001b[0m \u001b[32m━━━━━━━━━━━━━━━━━━━━\u001b[0m\u001b[37m\u001b[0m \u001b[1m11s\u001b[0m 13ms/step - accuracy: 0.4565 - loss: 1.0009\n",
      "Epoch 58/100\n",
      "\u001b[1m863/863\u001b[0m \u001b[32m━━━━━━━━━━━━━━━━━━━━\u001b[0m\u001b[37m\u001b[0m \u001b[1m11s\u001b[0m 13ms/step - accuracy: 0.4587 - loss: 1.0021\n",
      "Epoch 59/100\n",
      "\u001b[1m863/863\u001b[0m \u001b[32m━━━━━━━━━━━━━━━━━━━━\u001b[0m\u001b[37m\u001b[0m \u001b[1m11s\u001b[0m 13ms/step - accuracy: 0.4580 - loss: 0.9997\n",
      "Epoch 60/100\n",
      "\u001b[1m863/863\u001b[0m \u001b[32m━━━━━━━━━━━━━━━━━━━━\u001b[0m\u001b[37m\u001b[0m \u001b[1m11s\u001b[0m 13ms/step - accuracy: 0.4572 - loss: 0.9970\n",
      "Epoch 61/100\n",
      "\u001b[1m863/863\u001b[0m \u001b[32m━━━━━━━━━━━━━━━━━━━━\u001b[0m\u001b[37m\u001b[0m \u001b[1m11s\u001b[0m 13ms/step - accuracy: 0.4592 - loss: 1.0007\n",
      "Epoch 62/100\n",
      "\u001b[1m863/863\u001b[0m \u001b[32m━━━━━━━━━━━━━━━━━━━━\u001b[0m\u001b[37m\u001b[0m \u001b[1m11s\u001b[0m 13ms/step - accuracy: 0.4598 - loss: 1.0007\n",
      "Epoch 63/100\n",
      "\u001b[1m863/863\u001b[0m \u001b[32m━━━━━━━━━━━━━━━━━━━━\u001b[0m\u001b[37m\u001b[0m \u001b[1m11s\u001b[0m 13ms/step - accuracy: 0.4628 - loss: 0.9980\n",
      "Epoch 64/100\n",
      "\u001b[1m863/863\u001b[0m \u001b[32m━━━━━━━━━━━━━━━━━━━━\u001b[0m\u001b[37m\u001b[0m \u001b[1m11s\u001b[0m 13ms/step - accuracy: 0.4591 - loss: 0.9999\n",
      "Epoch 65/100\n",
      "\u001b[1m863/863\u001b[0m \u001b[32m━━━━━━━━━━━━━━━━━━━━\u001b[0m\u001b[37m\u001b[0m \u001b[1m11s\u001b[0m 13ms/step - accuracy: 0.4609 - loss: 1.0012\n",
      "Epoch 66/100\n",
      "\u001b[1m863/863\u001b[0m \u001b[32m━━━━━━━━━━━━━━━━━━━━\u001b[0m\u001b[37m\u001b[0m \u001b[1m11s\u001b[0m 13ms/step - accuracy: 0.4579 - loss: 0.9987\n",
      "Epoch 67/100\n"
     ]
    },
    {
     "name": "stdout",
     "output_type": "stream",
     "text": [
      "\u001b[1m863/863\u001b[0m \u001b[32m━━━━━━━━━━━━━━━━━━━━\u001b[0m\u001b[37m\u001b[0m \u001b[1m11s\u001b[0m 13ms/step - accuracy: 0.4631 - loss: 1.0017\n",
      "Epoch 68/100\n",
      "\u001b[1m863/863\u001b[0m \u001b[32m━━━━━━━━━━━━━━━━━━━━\u001b[0m\u001b[37m\u001b[0m \u001b[1m11s\u001b[0m 13ms/step - accuracy: 0.4574 - loss: 0.9997\n",
      "Epoch 69/100\n",
      "\u001b[1m863/863\u001b[0m \u001b[32m━━━━━━━━━━━━━━━━━━━━\u001b[0m\u001b[37m\u001b[0m \u001b[1m11s\u001b[0m 13ms/step - accuracy: 0.4613 - loss: 0.9976\n",
      "Epoch 70/100\n",
      "\u001b[1m863/863\u001b[0m \u001b[32m━━━━━━━━━━━━━━━━━━━━\u001b[0m\u001b[37m\u001b[0m \u001b[1m11s\u001b[0m 13ms/step - accuracy: 0.4556 - loss: 1.0012\n",
      "Epoch 71/100\n",
      "\u001b[1m863/863\u001b[0m \u001b[32m━━━━━━━━━━━━━━━━━━━━\u001b[0m\u001b[37m\u001b[0m \u001b[1m11s\u001b[0m 13ms/step - accuracy: 0.4656 - loss: 0.9974\n",
      "Epoch 72/100\n",
      "\u001b[1m863/863\u001b[0m \u001b[32m━━━━━━━━━━━━━━━━━━━━\u001b[0m\u001b[37m\u001b[0m \u001b[1m12s\u001b[0m 13ms/step - accuracy: 0.4583 - loss: 1.0021\n",
      "Epoch 73/100\n",
      "\u001b[1m863/863\u001b[0m \u001b[32m━━━━━━━━━━━━━━━━━━━━\u001b[0m\u001b[37m\u001b[0m \u001b[1m11s\u001b[0m 13ms/step - accuracy: 0.4587 - loss: 1.0039\n",
      "Epoch 74/100\n",
      "\u001b[1m863/863\u001b[0m \u001b[32m━━━━━━━━━━━━━━━━━━━━\u001b[0m\u001b[37m\u001b[0m \u001b[1m11s\u001b[0m 13ms/step - accuracy: 0.4596 - loss: 0.9994\n",
      "Epoch 75/100\n",
      "\u001b[1m863/863\u001b[0m \u001b[32m━━━━━━━━━━━━━━━━━━━━\u001b[0m\u001b[37m\u001b[0m \u001b[1m11s\u001b[0m 13ms/step - accuracy: 0.4625 - loss: 0.9964\n",
      "Epoch 76/100\n",
      "\u001b[1m863/863\u001b[0m \u001b[32m━━━━━━━━━━━━━━━━━━━━\u001b[0m\u001b[37m\u001b[0m \u001b[1m11s\u001b[0m 13ms/step - accuracy: 0.4591 - loss: 1.0010\n",
      "Epoch 77/100\n",
      "\u001b[1m863/863\u001b[0m \u001b[32m━━━━━━━━━━━━━━━━━━━━\u001b[0m\u001b[37m\u001b[0m \u001b[1m11s\u001b[0m 13ms/step - accuracy: 0.4575 - loss: 0.9997\n",
      "Epoch 78/100\n",
      "\u001b[1m863/863\u001b[0m \u001b[32m━━━━━━━━━━━━━━━━━━━━\u001b[0m\u001b[37m\u001b[0m \u001b[1m11s\u001b[0m 13ms/step - accuracy: 0.4588 - loss: 0.9997\n",
      "Epoch 79/100\n",
      "\u001b[1m863/863\u001b[0m \u001b[32m━━━━━━━━━━━━━━━━━━━━\u001b[0m\u001b[37m\u001b[0m \u001b[1m11s\u001b[0m 13ms/step - accuracy: 0.4556 - loss: 1.0010\n",
      "Epoch 80/100\n",
      "\u001b[1m863/863\u001b[0m \u001b[32m━━━━━━━━━━━━━━━━━━━━\u001b[0m\u001b[37m\u001b[0m \u001b[1m11s\u001b[0m 13ms/step - accuracy: 0.4574 - loss: 0.9993\n",
      "Epoch 81/100\n",
      "\u001b[1m863/863\u001b[0m \u001b[32m━━━━━━━━━━━━━━━━━━━━\u001b[0m\u001b[37m\u001b[0m \u001b[1m11s\u001b[0m 13ms/step - accuracy: 0.4546 - loss: 1.0013\n",
      "Epoch 82/100\n",
      "\u001b[1m863/863\u001b[0m \u001b[32m━━━━━━━━━━━━━━━━━━━━\u001b[0m\u001b[37m\u001b[0m \u001b[1m11s\u001b[0m 13ms/step - accuracy: 0.4617 - loss: 1.0018\n",
      "Epoch 83/100\n",
      "\u001b[1m863/863\u001b[0m \u001b[32m━━━━━━━━━━━━━━━━━━━━\u001b[0m\u001b[37m\u001b[0m \u001b[1m12s\u001b[0m 14ms/step - accuracy: 0.4620 - loss: 0.9985\n",
      "Epoch 84/100\n",
      "\u001b[1m863/863\u001b[0m \u001b[32m━━━━━━━━━━━━━━━━━━━━\u001b[0m\u001b[37m\u001b[0m \u001b[1m11s\u001b[0m 13ms/step - accuracy: 0.4579 - loss: 1.0003\n",
      "Epoch 85/100\n",
      "\u001b[1m863/863\u001b[0m \u001b[32m━━━━━━━━━━━━━━━━━━━━\u001b[0m\u001b[37m\u001b[0m \u001b[1m11s\u001b[0m 13ms/step - accuracy: 0.4622 - loss: 0.9950\n",
      "Epoch 86/100\n",
      "\u001b[1m863/863\u001b[0m \u001b[32m━━━━━━━━━━━━━━━━━━━━\u001b[0m\u001b[37m\u001b[0m \u001b[1m11s\u001b[0m 13ms/step - accuracy: 0.4606 - loss: 0.9986\n",
      "Epoch 87/100\n",
      "\u001b[1m863/863\u001b[0m \u001b[32m━━━━━━━━━━━━━━━━━━━━\u001b[0m\u001b[37m\u001b[0m \u001b[1m11s\u001b[0m 13ms/step - accuracy: 0.4569 - loss: 1.0014\n",
      "Epoch 88/100\n",
      "\u001b[1m863/863\u001b[0m \u001b[32m━━━━━━━━━━━━━━━━━━━━\u001b[0m\u001b[37m\u001b[0m \u001b[1m11s\u001b[0m 13ms/step - accuracy: 0.4596 - loss: 0.9994\n",
      "Epoch 89/100\n",
      "\u001b[1m863/863\u001b[0m \u001b[32m━━━━━━━━━━━━━━━━━━━━\u001b[0m\u001b[37m\u001b[0m \u001b[1m11s\u001b[0m 13ms/step - accuracy: 0.4618 - loss: 0.9958\n",
      "Epoch 90/100\n",
      "\u001b[1m863/863\u001b[0m \u001b[32m━━━━━━━━━━━━━━━━━━━━\u001b[0m\u001b[37m\u001b[0m \u001b[1m11s\u001b[0m 13ms/step - accuracy: 0.4561 - loss: 1.0024\n",
      "Epoch 91/100\n",
      "\u001b[1m863/863\u001b[0m \u001b[32m━━━━━━━━━━━━━━━━━━━━\u001b[0m\u001b[37m\u001b[0m \u001b[1m11s\u001b[0m 13ms/step - accuracy: 0.4585 - loss: 1.0015\n",
      "Epoch 92/100\n",
      "\u001b[1m863/863\u001b[0m \u001b[32m━━━━━━━━━━━━━━━━━━━━\u001b[0m\u001b[37m\u001b[0m \u001b[1m11s\u001b[0m 13ms/step - accuracy: 0.4602 - loss: 0.9969\n",
      "Epoch 93/100\n",
      "\u001b[1m863/863\u001b[0m \u001b[32m━━━━━━━━━━━━━━━━━━━━\u001b[0m\u001b[37m\u001b[0m \u001b[1m11s\u001b[0m 13ms/step - accuracy: 0.4557 - loss: 1.0048\n",
      "Epoch 94/100\n",
      "\u001b[1m863/863\u001b[0m \u001b[32m━━━━━━━━━━━━━━━━━━━━\u001b[0m\u001b[37m\u001b[0m \u001b[1m11s\u001b[0m 13ms/step - accuracy: 0.4545 - loss: 1.0019\n",
      "Epoch 95/100\n",
      "\u001b[1m863/863\u001b[0m \u001b[32m━━━━━━━━━━━━━━━━━━━━\u001b[0m\u001b[37m\u001b[0m \u001b[1m11s\u001b[0m 13ms/step - accuracy: 0.4588 - loss: 0.9988\n",
      "Epoch 96/100\n",
      "\u001b[1m863/863\u001b[0m \u001b[32m━━━━━━━━━━━━━━━━━━━━\u001b[0m\u001b[37m\u001b[0m \u001b[1m11s\u001b[0m 13ms/step - accuracy: 0.4561 - loss: 1.0060\n",
      "Epoch 97/100\n",
      "\u001b[1m863/863\u001b[0m \u001b[32m━━━━━━━━━━━━━━━━━━━━\u001b[0m\u001b[37m\u001b[0m \u001b[1m11s\u001b[0m 13ms/step - accuracy: 0.4564 - loss: 0.9997\n",
      "Epoch 98/100\n",
      "\u001b[1m863/863\u001b[0m \u001b[32m━━━━━━━━━━━━━━━━━━━━\u001b[0m\u001b[37m\u001b[0m \u001b[1m11s\u001b[0m 13ms/step - accuracy: 0.4575 - loss: 0.9989\n",
      "Epoch 99/100\n",
      "\u001b[1m863/863\u001b[0m \u001b[32m━━━━━━━━━━━━━━━━━━━━\u001b[0m\u001b[37m\u001b[0m \u001b[1m11s\u001b[0m 13ms/step - accuracy: 0.4617 - loss: 0.9973\n",
      "Epoch 100/100\n",
      "\u001b[1m863/863\u001b[0m \u001b[32m━━━━━━━━━━━━━━━━━━━━\u001b[0m\u001b[37m\u001b[0m \u001b[1m11s\u001b[0m 13ms/step - accuracy: 0.4574 - loss: 0.9974\n"
     ]
    }
   ],
   "source": [
    "import tensorflow as tf\n",
    "tf.debugging.set_log_device_placement(True)\n",
    "with tf.device('/GPU:0'):    \n",
    "    stem_text_model.fit(text_stem_train_vect,label_train_en,epochs=100)"
   ]
  },
  {
   "cell_type": "markdown",
   "id": "81f490c0",
   "metadata": {},
   "source": [
    "### Lemm text"
   ]
  },
  {
   "cell_type": "code",
   "execution_count": 233,
   "id": "fd40875b",
   "metadata": {},
   "outputs": [],
   "source": [
    "from tensorflow.keras.backend import clear_session\n",
    "clear_session()\n",
    "lemm_text_model = create_NN()"
   ]
  },
  {
   "cell_type": "code",
   "execution_count": 234,
   "id": "0e989d29",
   "metadata": {},
   "outputs": [
    {
     "name": "stdout",
     "output_type": "stream",
     "text": [
      "Epoch 1/50\n",
      "\u001b[1m863/863\u001b[0m \u001b[32m━━━━━━━━━━━━━━━━━━━━\u001b[0m\u001b[37m\u001b[0m \u001b[1m51s\u001b[0m 58ms/step - accuracy: 0.4215 - loss: 1.0693\n",
      "Epoch 2/50\n",
      "\u001b[1m863/863\u001b[0m \u001b[32m━━━━━━━━━━━━━━━━━━━━\u001b[0m\u001b[37m\u001b[0m \u001b[1m49s\u001b[0m 56ms/step - accuracy: 0.4508 - loss: 1.0027\n",
      "Epoch 3/50\n",
      "\u001b[1m863/863\u001b[0m \u001b[32m━━━━━━━━━━━━━━━━━━━━\u001b[0m\u001b[37m\u001b[0m \u001b[1m49s\u001b[0m 57ms/step - accuracy: 0.4544 - loss: 1.0072\n",
      "Epoch 4/50\n",
      "\u001b[1m863/863\u001b[0m \u001b[32m━━━━━━━━━━━━━━━━━━━━\u001b[0m\u001b[37m\u001b[0m \u001b[1m51s\u001b[0m 59ms/step - accuracy: 0.4557 - loss: 1.0006\n",
      "Epoch 5/50\n",
      "\u001b[1m863/863\u001b[0m \u001b[32m━━━━━━━━━━━━━━━━━━━━\u001b[0m\u001b[37m\u001b[0m \u001b[1m50s\u001b[0m 58ms/step - accuracy: 0.4558 - loss: 1.0033\n",
      "Epoch 6/50\n",
      "\u001b[1m863/863\u001b[0m \u001b[32m━━━━━━━━━━━━━━━━━━━━\u001b[0m\u001b[37m\u001b[0m \u001b[1m49s\u001b[0m 57ms/step - accuracy: 0.4589 - loss: 1.0017\n",
      "Epoch 7/50\n",
      "\u001b[1m863/863\u001b[0m \u001b[32m━━━━━━━━━━━━━━━━━━━━\u001b[0m\u001b[37m\u001b[0m \u001b[1m52s\u001b[0m 60ms/step - accuracy: 0.4597 - loss: 0.9999\n",
      "Epoch 8/50\n",
      "\u001b[1m863/863\u001b[0m \u001b[32m━━━━━━━━━━━━━━━━━━━━\u001b[0m\u001b[37m\u001b[0m \u001b[1m52s\u001b[0m 60ms/step - accuracy: 0.4593 - loss: 0.9999\n",
      "Epoch 9/50\n",
      "\u001b[1m863/863\u001b[0m \u001b[32m━━━━━━━━━━━━━━━━━━━━\u001b[0m\u001b[37m\u001b[0m \u001b[1m51s\u001b[0m 60ms/step - accuracy: 0.4547 - loss: 1.0004\n",
      "Epoch 10/50\n",
      "\u001b[1m863/863\u001b[0m \u001b[32m━━━━━━━━━━━━━━━━━━━━\u001b[0m\u001b[37m\u001b[0m \u001b[1m50s\u001b[0m 58ms/step - accuracy: 0.4511 - loss: 1.0016\n",
      "Epoch 11/50\n",
      "\u001b[1m863/863\u001b[0m \u001b[32m━━━━━━━━━━━━━━━━━━━━\u001b[0m\u001b[37m\u001b[0m \u001b[1m48s\u001b[0m 56ms/step - accuracy: 0.4575 - loss: 0.9975\n",
      "Epoch 12/50\n",
      "\u001b[1m863/863\u001b[0m \u001b[32m━━━━━━━━━━━━━━━━━━━━\u001b[0m\u001b[37m\u001b[0m \u001b[1m48s\u001b[0m 56ms/step - accuracy: 0.4570 - loss: 1.0045\n",
      "Epoch 13/50\n",
      "\u001b[1m863/863\u001b[0m \u001b[32m━━━━━━━━━━━━━━━━━━━━\u001b[0m\u001b[37m\u001b[0m \u001b[1m48s\u001b[0m 56ms/step - accuracy: 0.4569 - loss: 1.0019\n",
      "Epoch 14/50\n",
      "\u001b[1m863/863\u001b[0m \u001b[32m━━━━━━━━━━━━━━━━━━━━\u001b[0m\u001b[37m\u001b[0m \u001b[1m50s\u001b[0m 58ms/step - accuracy: 0.4602 - loss: 1.0026\n",
      "Epoch 15/50\n",
      "\u001b[1m863/863\u001b[0m \u001b[32m━━━━━━━━━━━━━━━━━━━━\u001b[0m\u001b[37m\u001b[0m \u001b[1m49s\u001b[0m 57ms/step - accuracy: 0.4565 - loss: 1.0010\n",
      "Epoch 16/50\n",
      "\u001b[1m863/863\u001b[0m \u001b[32m━━━━━━━━━━━━━━━━━━━━\u001b[0m\u001b[37m\u001b[0m \u001b[1m50s\u001b[0m 58ms/step - accuracy: 0.4542 - loss: 1.0057\n",
      "Epoch 17/50\n",
      "\u001b[1m863/863\u001b[0m \u001b[32m━━━━━━━━━━━━━━━━━━━━\u001b[0m\u001b[37m\u001b[0m \u001b[1m50s\u001b[0m 57ms/step - accuracy: 0.4619 - loss: 0.9974\n",
      "Epoch 18/50\n",
      "\u001b[1m863/863\u001b[0m \u001b[32m━━━━━━━━━━━━━━━━━━━━\u001b[0m\u001b[37m\u001b[0m \u001b[1m50s\u001b[0m 58ms/step - accuracy: 0.4587 - loss: 0.9999\n",
      "Epoch 19/50\n",
      "\u001b[1m863/863\u001b[0m \u001b[32m━━━━━━━━━━━━━━━━━━━━\u001b[0m\u001b[37m\u001b[0m \u001b[1m49s\u001b[0m 56ms/step - accuracy: 0.4604 - loss: 0.9979\n",
      "Epoch 20/50\n",
      "\u001b[1m863/863\u001b[0m \u001b[32m━━━━━━━━━━━━━━━━━━━━\u001b[0m\u001b[37m\u001b[0m \u001b[1m51s\u001b[0m 60ms/step - accuracy: 0.4586 - loss: 0.9987\n",
      "Epoch 21/50\n",
      "\u001b[1m863/863\u001b[0m \u001b[32m━━━━━━━━━━━━━━━━━━━━\u001b[0m\u001b[37m\u001b[0m \u001b[1m50s\u001b[0m 58ms/step - accuracy: 0.4632 - loss: 0.9973\n",
      "Epoch 22/50\n",
      "\u001b[1m863/863\u001b[0m \u001b[32m━━━━━━━━━━━━━━━━━━━━\u001b[0m\u001b[37m\u001b[0m \u001b[1m50s\u001b[0m 58ms/step - accuracy: 0.4567 - loss: 1.0024\n",
      "Epoch 23/50\n",
      "\u001b[1m863/863\u001b[0m \u001b[32m━━━━━━━━━━━━━━━━━━━━\u001b[0m\u001b[37m\u001b[0m \u001b[1m50s\u001b[0m 58ms/step - accuracy: 0.4574 - loss: 0.9961\n",
      "Epoch 24/50\n",
      "\u001b[1m863/863\u001b[0m \u001b[32m━━━━━━━━━━━━━━━━━━━━\u001b[0m\u001b[37m\u001b[0m \u001b[1m51s\u001b[0m 59ms/step - accuracy: 0.4632 - loss: 0.9991\n",
      "Epoch 25/50\n",
      "\u001b[1m863/863\u001b[0m \u001b[32m━━━━━━━━━━━━━━━━━━━━\u001b[0m\u001b[37m\u001b[0m \u001b[1m50s\u001b[0m 58ms/step - accuracy: 0.4589 - loss: 1.0004\n",
      "Epoch 26/50\n",
      "\u001b[1m863/863\u001b[0m \u001b[32m━━━━━━━━━━━━━━━━━━━━\u001b[0m\u001b[37m\u001b[0m \u001b[1m49s\u001b[0m 57ms/step - accuracy: 0.4510 - loss: 1.0038\n",
      "Epoch 27/50\n",
      "\u001b[1m863/863\u001b[0m \u001b[32m━━━━━━━━━━━━━━━━━━━━\u001b[0m\u001b[37m\u001b[0m \u001b[1m51s\u001b[0m 59ms/step - accuracy: 0.4590 - loss: 0.9945\n",
      "Epoch 28/50\n",
      "\u001b[1m863/863\u001b[0m \u001b[32m━━━━━━━━━━━━━━━━━━━━\u001b[0m\u001b[37m\u001b[0m \u001b[1m51s\u001b[0m 59ms/step - accuracy: 0.4634 - loss: 1.0000\n",
      "Epoch 29/50\n",
      "\u001b[1m863/863\u001b[0m \u001b[32m━━━━━━━━━━━━━━━━━━━━\u001b[0m\u001b[37m\u001b[0m \u001b[1m50s\u001b[0m 58ms/step - accuracy: 0.4571 - loss: 0.9998\n",
      "Epoch 30/50\n",
      "\u001b[1m863/863\u001b[0m \u001b[32m━━━━━━━━━━━━━━━━━━━━\u001b[0m\u001b[37m\u001b[0m \u001b[1m49s\u001b[0m 57ms/step - accuracy: 0.4578 - loss: 0.9995\n",
      "Epoch 31/50\n",
      "\u001b[1m863/863\u001b[0m \u001b[32m━━━━━━━━━━━━━━━━━━━━\u001b[0m\u001b[37m\u001b[0m \u001b[1m49s\u001b[0m 57ms/step - accuracy: 0.4549 - loss: 1.0024\n",
      "Epoch 32/50\n",
      "\u001b[1m863/863\u001b[0m \u001b[32m━━━━━━━━━━━━━━━━━━━━\u001b[0m\u001b[37m\u001b[0m \u001b[1m47s\u001b[0m 55ms/step - accuracy: 0.4589 - loss: 1.0021\n",
      "Epoch 33/50\n",
      "\u001b[1m863/863\u001b[0m \u001b[32m━━━━━━━━━━━━━━━━━━━━\u001b[0m\u001b[37m\u001b[0m \u001b[1m48s\u001b[0m 56ms/step - accuracy: 0.4630 - loss: 0.9985\n",
      "Epoch 34/50\n",
      "\u001b[1m863/863\u001b[0m \u001b[32m━━━━━━━━━━━━━━━━━━━━\u001b[0m\u001b[37m\u001b[0m \u001b[1m52s\u001b[0m 60ms/step - accuracy: 0.4547 - loss: 1.0041\n",
      "Epoch 35/50\n",
      "\u001b[1m863/863\u001b[0m \u001b[32m━━━━━━━━━━━━━━━━━━━━\u001b[0m\u001b[37m\u001b[0m \u001b[1m48s\u001b[0m 56ms/step - accuracy: 0.4604 - loss: 1.0020\n",
      "Epoch 36/50\n",
      "\u001b[1m863/863\u001b[0m \u001b[32m━━━━━━━━━━━━━━━━━━━━\u001b[0m\u001b[37m\u001b[0m \u001b[1m50s\u001b[0m 58ms/step - accuracy: 0.4554 - loss: 1.0010\n",
      "Epoch 37/50\n",
      "\u001b[1m863/863\u001b[0m \u001b[32m━━━━━━━━━━━━━━━━━━━━\u001b[0m\u001b[37m\u001b[0m \u001b[1m50s\u001b[0m 57ms/step - accuracy: 0.4605 - loss: 0.9976\n",
      "Epoch 38/50\n",
      "\u001b[1m863/863\u001b[0m \u001b[32m━━━━━━━━━━━━━━━━━━━━\u001b[0m\u001b[37m\u001b[0m \u001b[1m50s\u001b[0m 58ms/step - accuracy: 0.4580 - loss: 0.9989\n",
      "Epoch 39/50\n",
      "\u001b[1m863/863\u001b[0m \u001b[32m━━━━━━━━━━━━━━━━━━━━\u001b[0m\u001b[37m\u001b[0m \u001b[1m49s\u001b[0m 57ms/step - accuracy: 0.4622 - loss: 0.9994\n",
      "Epoch 40/50\n",
      "\u001b[1m863/863\u001b[0m \u001b[32m━━━━━━━━━━━━━━━━━━━━\u001b[0m\u001b[37m\u001b[0m \u001b[1m48s\u001b[0m 56ms/step - accuracy: 0.4604 - loss: 0.9990\n",
      "Epoch 41/50\n",
      "\u001b[1m863/863\u001b[0m \u001b[32m━━━━━━━━━━━━━━━━━━━━\u001b[0m\u001b[37m\u001b[0m \u001b[1m49s\u001b[0m 57ms/step - accuracy: 0.4537 - loss: 1.0037\n",
      "Epoch 42/50\n",
      "\u001b[1m863/863\u001b[0m \u001b[32m━━━━━━━━━━━━━━━━━━━━\u001b[0m\u001b[37m\u001b[0m \u001b[1m50s\u001b[0m 58ms/step - accuracy: 0.4571 - loss: 0.9992\n",
      "Epoch 43/50\n",
      "\u001b[1m863/863\u001b[0m \u001b[32m━━━━━━━━━━━━━━━━━━━━\u001b[0m\u001b[37m\u001b[0m \u001b[1m51s\u001b[0m 59ms/step - accuracy: 0.4629 - loss: 0.9995\n",
      "Epoch 44/50\n",
      "\u001b[1m863/863\u001b[0m \u001b[32m━━━━━━━━━━━━━━━━━━━━\u001b[0m\u001b[37m\u001b[0m \u001b[1m51s\u001b[0m 59ms/step - accuracy: 0.4603 - loss: 1.0006\n",
      "Epoch 45/50\n",
      "\u001b[1m863/863\u001b[0m \u001b[32m━━━━━━━━━━━━━━━━━━━━\u001b[0m\u001b[37m\u001b[0m \u001b[1m50s\u001b[0m 58ms/step - accuracy: 0.4584 - loss: 0.9988\n",
      "Epoch 46/50\n",
      "\u001b[1m863/863\u001b[0m \u001b[32m━━━━━━━━━━━━━━━━━━━━\u001b[0m\u001b[37m\u001b[0m \u001b[1m51s\u001b[0m 59ms/step - accuracy: 0.4543 - loss: 1.0021\n",
      "Epoch 47/50\n",
      "\u001b[1m863/863\u001b[0m \u001b[32m━━━━━━━━━━━━━━━━━━━━\u001b[0m\u001b[37m\u001b[0m \u001b[1m50s\u001b[0m 58ms/step - accuracy: 0.4569 - loss: 1.0026\n",
      "Epoch 48/50\n",
      "\u001b[1m863/863\u001b[0m \u001b[32m━━━━━━━━━━━━━━━━━━━━\u001b[0m\u001b[37m\u001b[0m \u001b[1m51s\u001b[0m 59ms/step - accuracy: 0.4541 - loss: 1.0022\n",
      "Epoch 49/50\n",
      "\u001b[1m863/863\u001b[0m \u001b[32m━━━━━━━━━━━━━━━━━━━━\u001b[0m\u001b[37m\u001b[0m \u001b[1m50s\u001b[0m 58ms/step - accuracy: 0.4537 - loss: 1.0004\n",
      "Epoch 50/50\n",
      "\u001b[1m863/863\u001b[0m \u001b[32m━━━━━━━━━━━━━━━━━━━━\u001b[0m\u001b[37m\u001b[0m \u001b[1m50s\u001b[0m 58ms/step - accuracy: 0.4555 - loss: 1.0006\n"
     ]
    }
   ],
   "source": [
    "import tensorflow as tf\n",
    "tf.debugging.set_log_device_placement(True)\n",
    "with tf.device('/GPU:0'):    \n",
    "    lemm_text_model.fit(text_lemm_train_vect,label_train_en,epochs=50)"
   ]
  }
 ],
 "metadata": {
  "kernelspec": {
   "display_name": "Python 3 (ipykernel)",
   "language": "python",
   "name": "python3"
  },
  "language_info": {
   "codemirror_mode": {
    "name": "ipython",
    "version": 3
   },
   "file_extension": ".py",
   "mimetype": "text/x-python",
   "name": "python",
   "nbconvert_exporter": "python",
   "pygments_lexer": "ipython3",
   "version": "3.11.5"
  }
 },
 "nbformat": 4,
 "nbformat_minor": 5
}
