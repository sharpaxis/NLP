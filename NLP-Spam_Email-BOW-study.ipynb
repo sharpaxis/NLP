{
 "cells": [
  {
   "cell_type": "code",
   "execution_count": 1,
   "id": "576185ad",
   "metadata": {},
   "outputs": [],
   "source": [
    "import numpy as np\n",
    "import pandas as pd\n",
    "import matplotlib.pyplot as plt\n",
    "import seaborn as sns\n",
    "from sklearn.model_selection import train_test_split\n",
    "from sklearn.tree import DecisionTreeClassifier\n",
    "from sklearn.ensemble import RandomForestClassifier\n",
    "from sklearn.svm import SVC\n",
    "from sklearn.naive_bayes import MultinomialNB"
   ]
  },
  {
   "cell_type": "code",
   "execution_count": 2,
   "id": "021ebe77",
   "metadata": {},
   "outputs": [],
   "source": [
    "email_df = pd.read_csv('combined_data.csv')"
   ]
  },
  {
   "cell_type": "code",
   "execution_count": 5,
   "id": "d7b1dd02",
   "metadata": {},
   "outputs": [
    {
     "data": {
      "text/html": [
       "<div>\n",
       "<style scoped>\n",
       "    .dataframe tbody tr th:only-of-type {\n",
       "        vertical-align: middle;\n",
       "    }\n",
       "\n",
       "    .dataframe tbody tr th {\n",
       "        vertical-align: top;\n",
       "    }\n",
       "\n",
       "    .dataframe thead th {\n",
       "        text-align: right;\n",
       "    }\n",
       "</style>\n",
       "<table border=\"1\" class=\"dataframe\">\n",
       "  <thead>\n",
       "    <tr style=\"text-align: right;\">\n",
       "      <th></th>\n",
       "      <th>label</th>\n",
       "      <th>text</th>\n",
       "    </tr>\n",
       "  </thead>\n",
       "  <tbody>\n",
       "    <tr>\n",
       "      <th>0</th>\n",
       "      <td>1</td>\n",
       "      <td>ounce feather bowl hummingbird opec moment ala...</td>\n",
       "    </tr>\n",
       "    <tr>\n",
       "      <th>1</th>\n",
       "      <td>1</td>\n",
       "      <td>wulvob get your medircations online qnb ikud v...</td>\n",
       "    </tr>\n",
       "    <tr>\n",
       "      <th>2</th>\n",
       "      <td>0</td>\n",
       "      <td>computer connection from cnn com wednesday es...</td>\n",
       "    </tr>\n",
       "    <tr>\n",
       "      <th>3</th>\n",
       "      <td>1</td>\n",
       "      <td>university degree obtain a prosperous future m...</td>\n",
       "    </tr>\n",
       "    <tr>\n",
       "      <th>4</th>\n",
       "      <td>0</td>\n",
       "      <td>thanks for all your answers guys i know i shou...</td>\n",
       "    </tr>\n",
       "  </tbody>\n",
       "</table>\n",
       "</div>"
      ],
      "text/plain": [
       "   label                                               text\n",
       "0      1  ounce feather bowl hummingbird opec moment ala...\n",
       "1      1  wulvob get your medircations online qnb ikud v...\n",
       "2      0   computer connection from cnn com wednesday es...\n",
       "3      1  university degree obtain a prosperous future m...\n",
       "4      0  thanks for all your answers guys i know i shou..."
      ]
     },
     "execution_count": 5,
     "metadata": {},
     "output_type": "execute_result"
    }
   ],
   "source": [
    "email_df.head()"
   ]
  },
  {
   "cell_type": "code",
   "execution_count": 3,
   "id": "1b08e5ef",
   "metadata": {},
   "outputs": [],
   "source": [
    "email_df.drop_duplicates(inplace=True)"
   ]
  },
  {
   "cell_type": "code",
   "execution_count": 4,
   "id": "5f5f4d11",
   "metadata": {},
   "outputs": [],
   "source": [
    "email_df.dropna(inplace=True)"
   ]
  },
  {
   "cell_type": "code",
   "execution_count": 7,
   "id": "9791143a",
   "metadata": {},
   "outputs": [
    {
     "name": "stdout",
     "output_type": "stream",
     "text": [
      "<class 'pandas.core.frame.DataFrame'>\n",
      "RangeIndex: 83448 entries, 0 to 83447\n",
      "Data columns (total 3 columns):\n",
      " #   Column  Non-Null Count  Dtype \n",
      "---  ------  --------------  ----- \n",
      " 0   label   83448 non-null  int64 \n",
      " 1   text    83448 non-null  object\n",
      " 2   length  83448 non-null  int64 \n",
      "dtypes: int64(2), object(1)\n",
      "memory usage: 1.9+ MB\n"
     ]
    }
   ],
   "source": [
    "email_df.info()"
   ]
  },
  {
   "cell_type": "code",
   "execution_count": 6,
   "id": "9262ad41",
   "metadata": {},
   "outputs": [
    {
     "data": {
      "text/html": [
       "<div>\n",
       "<style scoped>\n",
       "    .dataframe tbody tr th:only-of-type {\n",
       "        vertical-align: middle;\n",
       "    }\n",
       "\n",
       "    .dataframe tbody tr th {\n",
       "        vertical-align: top;\n",
       "    }\n",
       "\n",
       "    .dataframe thead tr th {\n",
       "        text-align: left;\n",
       "    }\n",
       "\n",
       "    .dataframe thead tr:last-of-type th {\n",
       "        text-align: right;\n",
       "    }\n",
       "</style>\n",
       "<table border=\"1\" class=\"dataframe\">\n",
       "  <thead>\n",
       "    <tr>\n",
       "      <th></th>\n",
       "      <th colspan=\"4\" halign=\"left\">text</th>\n",
       "    </tr>\n",
       "    <tr>\n",
       "      <th></th>\n",
       "      <th>count</th>\n",
       "      <th>unique</th>\n",
       "      <th>top</th>\n",
       "      <th>freq</th>\n",
       "    </tr>\n",
       "    <tr>\n",
       "      <th>label</th>\n",
       "      <th></th>\n",
       "      <th></th>\n",
       "      <th></th>\n",
       "      <th></th>\n",
       "    </tr>\n",
       "  </thead>\n",
       "  <tbody>\n",
       "    <tr>\n",
       "      <th>0</th>\n",
       "      <td>39538</td>\n",
       "      <td>39538</td>\n",
       "      <td>computer connection from cnn com wednesday es...</td>\n",
       "      <td>1</td>\n",
       "    </tr>\n",
       "    <tr>\n",
       "      <th>1</th>\n",
       "      <td>43910</td>\n",
       "      <td>43910</td>\n",
       "      <td>ounce feather bowl hummingbird opec moment ala...</td>\n",
       "      <td>1</td>\n",
       "    </tr>\n",
       "  </tbody>\n",
       "</table>\n",
       "</div>"
      ],
      "text/plain": [
       "        text                                                               \n",
       "       count unique                                                top freq\n",
       "label                                                                      \n",
       "0      39538  39538   computer connection from cnn com wednesday es...    1\n",
       "1      43910  43910  ounce feather bowl hummingbird opec moment ala...    1"
      ]
     },
     "execution_count": 6,
     "metadata": {},
     "output_type": "execute_result"
    }
   ],
   "source": [
    "#balanced dataset,equal instances of both\n",
    "email_df.groupby('label').describe()"
   ]
  },
  {
   "cell_type": "code",
   "execution_count": 5,
   "id": "67c39158",
   "metadata": {},
   "outputs": [
    {
     "data": {
      "text/html": [
       "<div>\n",
       "<style scoped>\n",
       "    .dataframe tbody tr th:only-of-type {\n",
       "        vertical-align: middle;\n",
       "    }\n",
       "\n",
       "    .dataframe tbody tr th {\n",
       "        vertical-align: top;\n",
       "    }\n",
       "\n",
       "    .dataframe thead th {\n",
       "        text-align: right;\n",
       "    }\n",
       "</style>\n",
       "<table border=\"1\" class=\"dataframe\">\n",
       "  <thead>\n",
       "    <tr style=\"text-align: right;\">\n",
       "      <th></th>\n",
       "      <th>label</th>\n",
       "      <th>text</th>\n",
       "      <th>length</th>\n",
       "    </tr>\n",
       "  </thead>\n",
       "  <tbody>\n",
       "    <tr>\n",
       "      <th>0</th>\n",
       "      <td>1</td>\n",
       "      <td>ounce feather bowl hummingbird opec moment ala...</td>\n",
       "      <td>148</td>\n",
       "    </tr>\n",
       "    <tr>\n",
       "      <th>1</th>\n",
       "      <td>1</td>\n",
       "      <td>wulvob get your medircations online qnb ikud v...</td>\n",
       "      <td>808</td>\n",
       "    </tr>\n",
       "    <tr>\n",
       "      <th>2</th>\n",
       "      <td>0</td>\n",
       "      <td>computer connection from cnn com wednesday es...</td>\n",
       "      <td>2235</td>\n",
       "    </tr>\n",
       "    <tr>\n",
       "      <th>3</th>\n",
       "      <td>1</td>\n",
       "      <td>university degree obtain a prosperous future m...</td>\n",
       "      <td>592</td>\n",
       "    </tr>\n",
       "    <tr>\n",
       "      <th>4</th>\n",
       "      <td>0</td>\n",
       "      <td>thanks for all your answers guys i know i shou...</td>\n",
       "      <td>1362</td>\n",
       "    </tr>\n",
       "  </tbody>\n",
       "</table>\n",
       "</div>"
      ],
      "text/plain": [
       "   label                                               text  length\n",
       "0      1  ounce feather bowl hummingbird opec moment ala...     148\n",
       "1      1  wulvob get your medircations online qnb ikud v...     808\n",
       "2      0   computer connection from cnn com wednesday es...    2235\n",
       "3      1  university degree obtain a prosperous future m...     592\n",
       "4      0  thanks for all your answers guys i know i shou...    1362"
      ]
     },
     "execution_count": 5,
     "metadata": {},
     "output_type": "execute_result"
    }
   ],
   "source": [
    "#adding the length column\n",
    "email_df['length'] = email_df['text'].apply(len)\n",
    "email_df.head()"
   ]
  },
  {
   "cell_type": "code",
   "execution_count": 31,
   "id": "98427dea",
   "metadata": {},
   "outputs": [
    {
     "name": "stderr",
     "output_type": "stream",
     "text": [
      "/Users/aadityajoshi/anaconda3/lib/python3.11/site-packages/seaborn/axisgrid.py:118: UserWarning: The figure layout has changed to tight\n",
      "  self._figure.tight_layout(*args, **kwargs)\n"
     ]
    },
    {
     "data": {
      "text/plain": [
       "<seaborn.axisgrid.FacetGrid at 0x2bd1c2850>"
      ]
     },
     "execution_count": 31,
     "metadata": {},
     "output_type": "execute_result"
    },
    {
     "data": {
      "image/png": "[encoded data removed]",
      "text/plain": [
       "<Figure size 500x500 with 1 Axes>"
      ]
     },
     "metadata": {},
     "output_type": "display_data"
    }
   ],
   "source": [
    "sns.displot(x='length',data=email_df)"
   ]
  },
  {
   "cell_type": "code",
   "execution_count": 8,
   "id": "94c8e17f",
   "metadata": {},
   "outputs": [
    {
     "data": {
      "text/html": [
       "<div>\n",
       "<style scoped>\n",
       "    .dataframe tbody tr th:only-of-type {\n",
       "        vertical-align: middle;\n",
       "    }\n",
       "\n",
       "    .dataframe tbody tr th {\n",
       "        vertical-align: top;\n",
       "    }\n",
       "\n",
       "    .dataframe thead th {\n",
       "        text-align: right;\n",
       "    }\n",
       "</style>\n",
       "<table border=\"1\" class=\"dataframe\">\n",
       "  <thead>\n",
       "    <tr style=\"text-align: right;\">\n",
       "      <th></th>\n",
       "      <th>label</th>\n",
       "      <th>text</th>\n",
       "      <th>length</th>\n",
       "    </tr>\n",
       "  </thead>\n",
       "  <tbody>\n",
       "    <tr>\n",
       "      <th>52108</th>\n",
       "      <td>0</td>\n",
       "      <td>commit a snapshot of the generated prototype h...</td>\n",
       "      <td>598705</td>\n",
       "    </tr>\n",
       "  </tbody>\n",
       "</table>\n",
       "</div>"
      ],
      "text/plain": [
       "       label                                               text  length\n",
       "52108      0  commit a snapshot of the generated prototype h...  598705"
      ]
     },
     "execution_count": 8,
     "metadata": {},
     "output_type": "execute_result"
    }
   ],
   "source": [
    "email_df[email_df['length']==email_df['length'].max()]\n",
    "#this is an anamoly"
   ]
  },
  {
   "cell_type": "code",
   "execution_count": 30,
   "id": "074f2a1b",
   "metadata": {},
   "outputs": [],
   "source": [
    "email_df.drop(52108,axis=0,inplace=True)"
   ]
  },
  {
   "cell_type": "code",
   "execution_count": 7,
   "id": "dfd7bda8",
   "metadata": {},
   "outputs": [],
   "source": [
    "import string\n",
    "import nltk\n",
    "from nltk.corpus import stopwords"
   ]
  },
  {
   "cell_type": "code",
   "execution_count": 6,
   "id": "b8b5e1c2",
   "metadata": {},
   "outputs": [],
   "source": [
    "#cleaning text\n",
    "\"\"\"\n",
    "1.remove punctuation marks\n",
    "2.remove stopwords\n",
    "3.return\n",
    "\"\"\"\n",
    "def clean_message(message):\n",
    "    no_punc = [char for char in message if char not in string.punctuation]\n",
    "    no_punc = ''.join(no_punc)\n",
    "    no_punc = no_punc.split()\n",
    "    return [wrd for wrd in no_punc if wrd.lower() not in stopwords.words('english')]"
   ]
  },
  {
   "cell_type": "code",
   "execution_count": 8,
   "id": "7953003a",
   "metadata": {},
   "outputs": [
    {
     "data": {
      "text/plain": [
       "0    [ounce, feather, bowl, hummingbird, opec, mome...\n",
       "1    [wulvob, get, medircations, online, qnb, ikud,...\n",
       "2    [computer, connection, cnn, com, wednesday, es...\n",
       "3    [university, degree, obtain, prosperous, futur...\n",
       "4    [thanks, answers, guys, know, checked, rsync, ...\n",
       "Name: text, dtype: object"
      ]
     },
     "execution_count": 8,
     "metadata": {},
     "output_type": "execute_result"
    }
   ],
   "source": [
    "email_df[\"text\"].head().apply(clean_message)"
   ]
  },
  {
   "cell_type": "code",
   "execution_count": 12,
   "id": "a055042d",
   "metadata": {},
   "outputs": [
    {
     "data": {
      "text/plain": [
       "'Now as the text cleaning fucntion is ready its time for word embedding:\\nMethods:\\n1.Countvectorizer(BOW)\\nModels:\\n1.Dtree\\n2.RFC\\n3.SVM\\n4.NB\\n'"
      ]
     },
     "execution_count": 12,
     "metadata": {},
     "output_type": "execute_result"
    }
   ],
   "source": [
    "\"\"\"Now as the text cleaning fucntion is ready its time for word embedding:\n",
    "Methods:\n",
    "1.Countvectorizer(BOW)\n",
    "Models:\n",
    "1.Dtree\n",
    "2.RFC\n",
    "3.SVM\n",
    "4.NB\n",
    "\"\"\""
   ]
  },
  {
   "cell_type": "code",
   "execution_count": 9,
   "id": "e7991115",
   "metadata": {},
   "outputs": [],
   "source": [
    "#countvectorizer\n",
    "from sklearn.feature_extraction.text import CountVectorizer\n",
    "from sklearn.pipeline import Pipeline\n",
    "from sklearn.feature_extraction.text import TfidfTransformer"
   ]
  },
  {
   "cell_type": "code",
   "execution_count": 10,
   "id": "d37f2e50",
   "metadata": {},
   "outputs": [],
   "source": [
    "#splitting the data\n",
    "text,label = email_df['text'],email_df['label']\n",
    "text_train,text_test,label_train,label_test = train_test_split(text,label,test_size=0.3)"
   ]
  },
  {
   "cell_type": "markdown",
   "id": "1a9eb50e",
   "metadata": {},
   "source": [
    "\n",
    "# Bag of Words (CountVectorizer)\n"
   ]
  },
  {
   "cell_type": "code",
   "execution_count": 11,
   "id": "c9e8706e",
   "metadata": {},
   "outputs": [],
   "source": [
    "#creating 4 pipelines for Bag of words transformation\n",
    "bow_dtree_pipeline = Pipeline([\n",
    "    (\"bow\",CountVectorizer(analyzer=clean_message)),\n",
    "    ('classifier',DecisionTreeClassifier())])\n",
    "\n",
    "bow_rfc_pipeline = Pipeline([\n",
    "    (\"bow\",CountVectorizer(analyzer=clean_message)),\n",
    "    ('classifier',RandomForestClassifier())])\n",
    "\n",
    "bow_svm_pipeline = Pipeline([\n",
    "    (\"bow\",CountVectorizer(analyzer=clean_message)),\n",
    "    ('classifier',DecisionTreeClassifier())])\n",
    "\n",
    "bow_NB_pipeline = Pipeline([\n",
    "    (\"bow\",CountVectorizer(analyzer=clean_message)),\n",
    "    ('classifier',MultinomialNB())])"
   ]
  },
  {
   "cell_type": "code",
   "execution_count": 12,
   "id": "1f56ab04",
   "metadata": {},
   "outputs": [],
   "source": [
    "from sklearn.metrics import classification_report"
   ]
  },
  {
   "cell_type": "code",
   "execution_count": 38,
   "id": "72241aa2",
   "metadata": {},
   "outputs": [
    {
     "name": "stdout",
     "output_type": "stream",
     "text": [
      "Decision Tree \n",
      "\n",
      "              precision    recall  f1-score   support\n",
      "\n",
      "           0       0.96      0.96      0.96     11839\n",
      "           1       0.97      0.96      0.96     13196\n",
      "\n",
      "    accuracy                           0.96     25035\n",
      "   macro avg       0.96      0.96      0.96     25035\n",
      "weighted avg       0.96      0.96      0.96     25035\n",
      "\n"
     ]
    }
   ],
   "source": [
    "#Dtree\n",
    "bow_dtree_pipeline.fit(text_train,label_train)\n",
    "bow_dtree_pipeline_pred = bow_dtree_pipeline.predict(text_test)\n",
    "print(\"Decision Tree\",\"\\n\")\n",
    "print(classification_report(label_test,bow_dtree_pipeline_pred))"
   ]
  },
  {
   "cell_type": "code",
   "execution_count": 40,
   "id": "53ba13d8",
   "metadata": {},
   "outputs": [
    {
     "data": {
      "image/png": "[encoded data removed]",
      "text/plain": [
       "<Figure size 640x480 with 1 Axes>"
      ]
     },
     "metadata": {},
     "output_type": "display_data"
    }
   ],
   "source": [
    "from sklearn.metrics import roc_curve, auc\n",
    "import matplotlib.pyplot as plt\n",
    "# Predict probabilities on the test set\n",
    "bow_dtree_pipeline_probs = bow_dtree_pipeline.predict_proba(text_test)\n",
    "\n",
    "# Extract probabilities for the positive class (class 1)\n",
    "fpr, tpr, thresholds = roc_curve(label_test, bow_dtree_pipeline_probs[:, 1])\n",
    "\n",
    "# Calculate the area under the curve (AUC)\n",
    "roc_auc = auc(fpr, tpr)\n",
    "\n",
    "# Plot ROC curve\n",
    "plt.figure()\n",
    "plt.plot(fpr, tpr, color='darkorange', lw=2.5, label='ROC curve (area = %0.2f)' % roc_auc)\n",
    "plt.plot([0, 1], [0, 1], color='blue', lw=2.5, linestyle='--')\n",
    "plt.xlim([0.0, 1.0])\n",
    "plt.ylim([0.0, 1.05])\n",
    "plt.xlabel('False Positive Rate')\n",
    "plt.ylabel('True Positive Rate')\n",
    "plt.title('Receiver Operating Characteristic (ROC) of BOW + DTREE')\n",
    "plt.legend(loc=\"lower right\")\n",
    "plt.show()\n"
   ]
  },
  {
   "cell_type": "code",
   "execution_count": 41,
   "id": "33518b07",
   "metadata": {},
   "outputs": [
    {
     "name": "stdout",
     "output_type": "stream",
     "text": [
      "Random Forest Classifier \n",
      "\n",
      "              precision    recall  f1-score   support\n",
      "\n",
      "           0       0.97      0.99      0.98     11839\n",
      "           1       0.99      0.98      0.98     13196\n",
      "\n",
      "    accuracy                           0.98     25035\n",
      "   macro avg       0.98      0.98      0.98     25035\n",
      "weighted avg       0.98      0.98      0.98     25035\n",
      "\n"
     ]
    }
   ],
   "source": [
    "#RFC\n",
    "bow_rfc_pipeline.fit(text_train,label_train)\n",
    "bow_rfc_pipeline_pred = bow_rfc_pipeline.predict(text_test)\n",
    "print(\"Random Forest Classifier\",\"\\n\")\n",
    "print(classification_report(label_test,bow_rfc_pipeline_pred))"
   ]
  },
  {
   "cell_type": "code",
   "execution_count": 43,
   "id": "c187d538",
   "metadata": {},
   "outputs": [
    {
     "data": {
      "image/png": "[encoded data removed]",
      "text/plain": [
       "<Figure size 640x480 with 1 Axes>"
      ]
     },
     "metadata": {},
     "output_type": "display_data"
    }
   ],
   "source": [
    "# Predict probabilities on the test set\n",
    "bow_rfc_pipeline_probs = bow_rfc_pipeline.predict_proba(text_test)\n",
    "\n",
    "# Extract probabilities for the positive class (class 1)\n",
    "fpr, tpr, thresholds = roc_curve(label_test, bow_rfc_pipeline_probs[:, 1])\n",
    "\n",
    "# Calculate the area under the curve (AUC)\n",
    "roc_auc = auc(fpr, tpr)\n",
    "\n",
    "# Plot ROC curve\n",
    "plt.figure()\n",
    "plt.plot(fpr, tpr, color='darkorange', lw=2.5, label='ROC curve (area = %0.2f)' % roc_auc)\n",
    "plt.plot([0, 1], [0, 1], color='blue', lw=2.5, linestyle='--')\n",
    "plt.xlim([0.0, 1.0])\n",
    "plt.ylim([0.0, 1.05])\n",
    "plt.xlabel('False Positive Rate')\n",
    "plt.ylabel('True Positive Rate')\n",
    "plt.title('Receiver Operating Characteristic (ROC) of BOW + RFC')\n",
    "plt.legend(loc=\"lower right\")\n",
    "plt.show()\n"
   ]
  },
  {
   "cell_type": "code",
   "execution_count": 13,
   "id": "ab37e5e0",
   "metadata": {},
   "outputs": [
    {
     "name": "stdout",
     "output_type": "stream",
     "text": [
      "SVM \n",
      "\n",
      "              precision    recall  f1-score   support\n",
      "\n",
      "           0       0.96      0.96      0.96     11775\n",
      "           1       0.97      0.96      0.96     13260\n",
      "\n",
      "    accuracy                           0.96     25035\n",
      "   macro avg       0.96      0.96      0.96     25035\n",
      "weighted avg       0.96      0.96      0.96     25035\n",
      "\n"
     ]
    }
   ],
   "source": [
    "#SVM\n",
    "bow_svm_pipeline.fit(text_train,label_train)\n",
    "bow_svm_pipeline_pred = bow_svm_pipeline.predict(text_test)\n",
    "print(\"SVM\",\"\\n\")\n",
    "print(classification_report(label_test,bow_svm_pipeline_pred))"
   ]
  },
  {
   "cell_type": "code",
   "execution_count": 15,
   "id": "a5318bdc",
   "metadata": {},
   "outputs": [
    {
     "data": {
      "image/png": "[encoded data removed]",
      "text/plain": [
       "<Figure size 640x480 with 1 Axes>"
      ]
     },
     "metadata": {},
     "output_type": "display_data"
    }
   ],
   "source": [
    "# Predict probabilities on the test set\n",
    "from sklearn.metrics import roc_curve, auc\n",
    "import matplotlib.pyplot as plt\n",
    "bow_svm_pipeline_probs = bow_svm_pipeline.predict_proba(text_test)\n",
    "\n",
    "# Extract probabilities for the positive class (class 1)\n",
    "fpr, tpr, thresholds = roc_curve(label_test, bow_svm_pipeline_probs[:, 1])\n",
    "\n",
    "# Calculate the area under the curve (AUC)\n",
    "roc_auc = auc(fpr, tpr)\n",
    "\n",
    "# Plot ROC curve\n",
    "plt.figure()\n",
    "plt.plot(fpr, tpr, color='darkorange', lw=2.5, label='ROC curve (area = %0.2f)' % roc_auc)\n",
    "plt.plot([0, 1], [0, 1], color='blue', lw=2.5, linestyle='--')\n",
    "plt.xlim([0.0, 1.0])\n",
    "plt.ylim([0.0, 1.05])\n",
    "plt.xlabel('False Positive Rate')\n",
    "plt.ylabel('True Positive Rate')\n",
    "plt.title('Receiver Operating Characteristic (ROC) of BOW + RFC')\n",
    "plt.legend(loc=\"lower right\")\n",
    "plt.show()"
   ]
  },
  {
   "cell_type": "code",
   "execution_count": 56,
   "id": "7678ca6a",
   "metadata": {},
   "outputs": [
    {
     "name": "stdout",
     "output_type": "stream",
     "text": [
      "Naive Bayes \n",
      "\n",
      "              precision    recall  f1-score   support\n",
      "\n",
      "           0       0.96      0.99      0.97     11827\n",
      "           1       0.99      0.96      0.97     13208\n",
      "\n",
      "    accuracy                           0.97     25035\n",
      "   macro avg       0.97      0.97      0.97     25035\n",
      "weighted avg       0.97      0.97      0.97     25035\n",
      "\n"
     ]
    }
   ],
   "source": [
    "#NB\n",
    "bow_NB_pipeline.fit(text_train,label_train)\n",
    "bow_NB_pipeline_pred = bow_NB_pipeline.predict(text_test)\n",
    "print(\"Naive Bayes\",\"\\n\")\n",
    "print(classification_report(label_test,bow_NB_pipeline_pred))"
   ]
  }
 ],
 "metadata": {
  "kernelspec": {
   "display_name": "Python 3 (ipykernel)",
   "language": "python",
   "name": "python3"
  },
  "language_info": {
   "codemirror_mode": {
    "name": "ipython",
    "version": 3
   },
   "file_extension": ".py",
   "mimetype": "text/x-python",
   "name": "python",
   "nbconvert_exporter": "python",
   "pygments_lexer": "ipython3",
   "version": "3.11.5"
  }
 },
 "nbformat": 4,
 "nbformat_minor": 5
}
